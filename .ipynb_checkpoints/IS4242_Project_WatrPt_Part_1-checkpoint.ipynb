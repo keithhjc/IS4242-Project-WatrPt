{
 "cells": [
  {
   "cell_type": "markdown",
   "metadata": {
    "id": "OJOob4WGRGIg"
   },
   "source": [
    "**Pump it Up: Data Mining Competition**\n",
    "\n",
    "**Team: WatrPt**\n",
    "\n",
    "**Members: Ho Jun Cong Keith (A0184106L), Patt Wei Xuan, Elgin (A0183601M)**\n"
   ]
  },
  {
   "cell_type": "code",
   "execution_count": 382,
   "metadata": {
    "id": "dzJP0jrE8M5i"
   },
   "outputs": [],
   "source": [
    "import numpy as np\n",
    "import pandas as pd\n",
    "import matplotlib.pyplot as plt\n",
    "import seaborn as sns\n",
    "import torch\n",
    "import torchvision\n",
    "import torch.nn as nn\n",
    "import torch.nn.functional as F\n",
    "from torch import optim\n",
    "from torch.utils.data.sampler import SubsetRandomSampler\n",
    "from torch.utils.data import TensorDataset\n",
    "from torch.utils.data.dataloader import DataLoader\n",
    "from sklearn.impute import SimpleImputer\n",
    "from sklearn.preprocessing import OneHotEncoder\n",
    "from sklearn.base import BaseEstimator, TransformerMixin\n",
    "from sklearn.pipeline import Pipeline\n",
    "from sklearn.compose import ColumnTransformer\n",
    "from sklearn.feature_selection import SelectKBest\n",
    "from sklearn.pipeline import FeatureUnion\n",
    "from sklearn.neighbors import KNeighborsClassifier\n",
    "from sklearn.tree import DecisionTreeClassifier\n",
    "from sklearn.decomposition import PCA\n",
    "from sklearn.model_selection import GridSearchCV, cross_val_score\n",
    "from sklearn.preprocessing import StandardScaler\n",
    "from sklearn.preprocessing import MinMaxScaler"
   ]
  },
  {
   "cell_type": "markdown",
   "metadata": {
    "id": "1IhU1PL9IHq7"
   },
   "source": [
    "# Importing the Data"
   ]
  },
  {
   "cell_type": "code",
   "execution_count": 383,
   "metadata": {
    "colab": {
     "base_uri": "https://localhost:8080/",
     "height": 198
    },
    "id": "MyB605oq9rqn",
    "outputId": "e655c944-1c4a-4af7-9827-ff6e591416ec"
   },
   "outputs": [
    {
     "data": {
      "text/html": [
       "<div>\n",
       "<style scoped>\n",
       "    .dataframe tbody tr th:only-of-type {\n",
       "        vertical-align: middle;\n",
       "    }\n",
       "\n",
       "    .dataframe tbody tr th {\n",
       "        vertical-align: top;\n",
       "    }\n",
       "\n",
       "    .dataframe thead th {\n",
       "        text-align: right;\n",
       "    }\n",
       "</style>\n",
       "<table border=\"1\" class=\"dataframe\">\n",
       "  <thead>\n",
       "    <tr style=\"text-align: right;\">\n",
       "      <th></th>\n",
       "      <th>id</th>\n",
       "      <th>status_group</th>\n",
       "    </tr>\n",
       "  </thead>\n",
       "  <tbody>\n",
       "    <tr>\n",
       "      <th>0</th>\n",
       "      <td>69572</td>\n",
       "      <td>functional</td>\n",
       "    </tr>\n",
       "    <tr>\n",
       "      <th>1</th>\n",
       "      <td>8776</td>\n",
       "      <td>functional</td>\n",
       "    </tr>\n",
       "    <tr>\n",
       "      <th>2</th>\n",
       "      <td>34310</td>\n",
       "      <td>functional</td>\n",
       "    </tr>\n",
       "    <tr>\n",
       "      <th>3</th>\n",
       "      <td>67743</td>\n",
       "      <td>non functional</td>\n",
       "    </tr>\n",
       "    <tr>\n",
       "      <th>4</th>\n",
       "      <td>19728</td>\n",
       "      <td>functional</td>\n",
       "    </tr>\n",
       "  </tbody>\n",
       "</table>\n",
       "</div>"
      ],
      "text/plain": [
       "      id    status_group\n",
       "0  69572      functional\n",
       "1   8776      functional\n",
       "2  34310      functional\n",
       "3  67743  non functional\n",
       "4  19728      functional"
      ]
     },
     "execution_count": 383,
     "metadata": {
      "tags": []
     },
     "output_type": "execute_result"
    }
   ],
   "source": [
    "url = 'https://raw.githubusercontent.com/keithhjc/IS4242-Project-WatrPt/main/Training%20Set%20Labels.csv?token=AMBVJ2AWO5FQJ7SIXFATVOS7SPYW6'\n",
    "\n",
    "Y_train = pd.read_csv(url)\n",
    "Y_train.head(5)"
   ]
  },
  {
   "cell_type": "code",
   "execution_count": 384,
   "metadata": {
    "colab": {
     "base_uri": "https://localhost:8080/"
    },
    "id": "Kqv7px_l-QFH",
    "outputId": "ee99e159-a9aa-4fad-9761-216d3f4d862c"
   },
   "outputs": [
    {
     "data": {
      "text/plain": [
       "(59400, 40)"
      ]
     },
     "execution_count": 384,
     "metadata": {
      "tags": []
     },
     "output_type": "execute_result"
    }
   ],
   "source": [
    "url = 'https://raw.githubusercontent.com/keithhjc/IS4242-Project-WatrPt/main/Training%20Set%20Values.csv?token=AMBVJ2GQ6BY5G3A4MYIAXE27SPYUG'\n",
    "\n",
    "X_train = pd.read_csv(url)\n",
    "X_train.head(3)\n",
    "X_train.shape"
   ]
  },
  {
   "cell_type": "code",
   "execution_count": 385,
   "metadata": {
    "colab": {
     "base_uri": "https://localhost:8080/",
     "height": 262
    },
    "id": "hNOeS6J3W0nu",
    "outputId": "d8155bdf-9379-4aca-a9f6-1dcc5fb29be4"
   },
   "outputs": [
    {
     "data": {
      "text/html": [
       "<div>\n",
       "<style scoped>\n",
       "    .dataframe tbody tr th:only-of-type {\n",
       "        vertical-align: middle;\n",
       "    }\n",
       "\n",
       "    .dataframe tbody tr th {\n",
       "        vertical-align: top;\n",
       "    }\n",
       "\n",
       "    .dataframe thead th {\n",
       "        text-align: right;\n",
       "    }\n",
       "</style>\n",
       "<table border=\"1\" class=\"dataframe\">\n",
       "  <thead>\n",
       "    <tr style=\"text-align: right;\">\n",
       "      <th></th>\n",
       "      <th>id</th>\n",
       "      <th>amount_tsh</th>\n",
       "      <th>date_recorded</th>\n",
       "      <th>funder</th>\n",
       "      <th>gps_height</th>\n",
       "      <th>installer</th>\n",
       "      <th>longitude</th>\n",
       "      <th>latitude</th>\n",
       "      <th>wpt_name</th>\n",
       "      <th>num_private</th>\n",
       "      <th>basin</th>\n",
       "      <th>subvillage</th>\n",
       "      <th>region</th>\n",
       "      <th>region_code</th>\n",
       "      <th>district_code</th>\n",
       "      <th>lga</th>\n",
       "      <th>ward</th>\n",
       "      <th>population</th>\n",
       "      <th>public_meeting</th>\n",
       "      <th>recorded_by</th>\n",
       "      <th>scheme_management</th>\n",
       "      <th>scheme_name</th>\n",
       "      <th>permit</th>\n",
       "      <th>construction_year</th>\n",
       "      <th>extraction_type</th>\n",
       "      <th>extraction_type_group</th>\n",
       "      <th>extraction_type_class</th>\n",
       "      <th>management</th>\n",
       "      <th>management_group</th>\n",
       "      <th>payment</th>\n",
       "      <th>payment_type</th>\n",
       "      <th>water_quality</th>\n",
       "      <th>quality_group</th>\n",
       "      <th>quantity</th>\n",
       "      <th>quantity_group</th>\n",
       "      <th>source</th>\n",
       "      <th>source_type</th>\n",
       "      <th>source_class</th>\n",
       "      <th>waterpoint_type</th>\n",
       "      <th>waterpoint_type_group</th>\n",
       "    </tr>\n",
       "  </thead>\n",
       "  <tbody>\n",
       "    <tr>\n",
       "      <th>0</th>\n",
       "      <td>50785</td>\n",
       "      <td>0.0</td>\n",
       "      <td>2013-02-04</td>\n",
       "      <td>Dmdd</td>\n",
       "      <td>1996</td>\n",
       "      <td>DMDD</td>\n",
       "      <td>35.290799</td>\n",
       "      <td>-4.059696</td>\n",
       "      <td>Dinamu Secondary School</td>\n",
       "      <td>0</td>\n",
       "      <td>Internal</td>\n",
       "      <td>Magoma</td>\n",
       "      <td>Manyara</td>\n",
       "      <td>21</td>\n",
       "      <td>3</td>\n",
       "      <td>Mbulu</td>\n",
       "      <td>Bashay</td>\n",
       "      <td>321</td>\n",
       "      <td>True</td>\n",
       "      <td>GeoData Consultants Ltd</td>\n",
       "      <td>Parastatal</td>\n",
       "      <td>NaN</td>\n",
       "      <td>True</td>\n",
       "      <td>2012</td>\n",
       "      <td>other</td>\n",
       "      <td>other</td>\n",
       "      <td>other</td>\n",
       "      <td>parastatal</td>\n",
       "      <td>parastatal</td>\n",
       "      <td>never pay</td>\n",
       "      <td>never pay</td>\n",
       "      <td>soft</td>\n",
       "      <td>good</td>\n",
       "      <td>seasonal</td>\n",
       "      <td>seasonal</td>\n",
       "      <td>rainwater harvesting</td>\n",
       "      <td>rainwater harvesting</td>\n",
       "      <td>surface</td>\n",
       "      <td>other</td>\n",
       "      <td>other</td>\n",
       "    </tr>\n",
       "    <tr>\n",
       "      <th>1</th>\n",
       "      <td>51630</td>\n",
       "      <td>0.0</td>\n",
       "      <td>2013-02-04</td>\n",
       "      <td>Government Of Tanzania</td>\n",
       "      <td>1569</td>\n",
       "      <td>DWE</td>\n",
       "      <td>36.656709</td>\n",
       "      <td>-3.309214</td>\n",
       "      <td>Kimnyak</td>\n",
       "      <td>0</td>\n",
       "      <td>Pangani</td>\n",
       "      <td>Kimnyak</td>\n",
       "      <td>Arusha</td>\n",
       "      <td>2</td>\n",
       "      <td>2</td>\n",
       "      <td>Arusha Rural</td>\n",
       "      <td>Kimnyaki</td>\n",
       "      <td>300</td>\n",
       "      <td>True</td>\n",
       "      <td>GeoData Consultants Ltd</td>\n",
       "      <td>VWC</td>\n",
       "      <td>TPRI pipe line</td>\n",
       "      <td>True</td>\n",
       "      <td>2000</td>\n",
       "      <td>gravity</td>\n",
       "      <td>gravity</td>\n",
       "      <td>gravity</td>\n",
       "      <td>vwc</td>\n",
       "      <td>user-group</td>\n",
       "      <td>never pay</td>\n",
       "      <td>never pay</td>\n",
       "      <td>soft</td>\n",
       "      <td>good</td>\n",
       "      <td>insufficient</td>\n",
       "      <td>insufficient</td>\n",
       "      <td>spring</td>\n",
       "      <td>spring</td>\n",
       "      <td>groundwater</td>\n",
       "      <td>communal standpipe</td>\n",
       "      <td>communal standpipe</td>\n",
       "    </tr>\n",
       "    <tr>\n",
       "      <th>2</th>\n",
       "      <td>17168</td>\n",
       "      <td>0.0</td>\n",
       "      <td>2013-02-01</td>\n",
       "      <td>NaN</td>\n",
       "      <td>1567</td>\n",
       "      <td>NaN</td>\n",
       "      <td>34.767863</td>\n",
       "      <td>-5.004344</td>\n",
       "      <td>Puma Secondary</td>\n",
       "      <td>0</td>\n",
       "      <td>Internal</td>\n",
       "      <td>Msatu</td>\n",
       "      <td>Singida</td>\n",
       "      <td>13</td>\n",
       "      <td>2</td>\n",
       "      <td>Singida Rural</td>\n",
       "      <td>Puma</td>\n",
       "      <td>500</td>\n",
       "      <td>True</td>\n",
       "      <td>GeoData Consultants Ltd</td>\n",
       "      <td>VWC</td>\n",
       "      <td>P</td>\n",
       "      <td>NaN</td>\n",
       "      <td>2010</td>\n",
       "      <td>other</td>\n",
       "      <td>other</td>\n",
       "      <td>other</td>\n",
       "      <td>vwc</td>\n",
       "      <td>user-group</td>\n",
       "      <td>never pay</td>\n",
       "      <td>never pay</td>\n",
       "      <td>soft</td>\n",
       "      <td>good</td>\n",
       "      <td>insufficient</td>\n",
       "      <td>insufficient</td>\n",
       "      <td>rainwater harvesting</td>\n",
       "      <td>rainwater harvesting</td>\n",
       "      <td>surface</td>\n",
       "      <td>other</td>\n",
       "      <td>other</td>\n",
       "    </tr>\n",
       "  </tbody>\n",
       "</table>\n",
       "</div>"
      ],
      "text/plain": [
       "      id  amount_tsh  ...     waterpoint_type waterpoint_type_group\n",
       "0  50785         0.0  ...               other                 other\n",
       "1  51630         0.0  ...  communal standpipe    communal standpipe\n",
       "2  17168         0.0  ...               other                 other\n",
       "\n",
       "[3 rows x 40 columns]"
      ]
     },
     "execution_count": 385,
     "metadata": {
      "tags": []
     },
     "output_type": "execute_result"
    }
   ],
   "source": [
    "url = 'https://raw.githubusercontent.com/keithhjc/IS4242-Project-WatrPt/main/Test%20Set%20Values.csv'\n",
    "\n",
    "X_test = pd.read_csv(url)\n",
    "X_test.head(3)"
   ]
  },
  {
   "cell_type": "markdown",
   "metadata": {
    "id": "vj1xeJTEI8-k"
   },
   "source": [
    "By calling info on the dataset, we can visualise and categorize the variables into categorical and numerical variables."
   ]
  },
  {
   "cell_type": "code",
   "execution_count": 386,
   "metadata": {
    "colab": {
     "base_uri": "https://localhost:8080/"
    },
    "id": "CutQxvZXNHza",
    "outputId": "9a25664d-5c2d-42a9-aa02-39c4893d360b"
   },
   "outputs": [
    {
     "name": "stdout",
     "output_type": "stream",
     "text": [
      "<class 'pandas.core.frame.DataFrame'>\n",
      "RangeIndex: 59400 entries, 0 to 59399\n",
      "Data columns (total 40 columns):\n",
      " #   Column                 Non-Null Count  Dtype  \n",
      "---  ------                 --------------  -----  \n",
      " 0   id                     59400 non-null  int64  \n",
      " 1   amount_tsh             59400 non-null  float64\n",
      " 2   date_recorded          59400 non-null  object \n",
      " 3   funder                 55765 non-null  object \n",
      " 4   gps_height             59400 non-null  int64  \n",
      " 5   installer              55745 non-null  object \n",
      " 6   longitude              59400 non-null  float64\n",
      " 7   latitude               59400 non-null  float64\n",
      " 8   wpt_name               59400 non-null  object \n",
      " 9   num_private            59400 non-null  int64  \n",
      " 10  basin                  59400 non-null  object \n",
      " 11  subvillage             59029 non-null  object \n",
      " 12  region                 59400 non-null  object \n",
      " 13  region_code            59400 non-null  int64  \n",
      " 14  district_code          59400 non-null  int64  \n",
      " 15  lga                    59400 non-null  object \n",
      " 16  ward                   59400 non-null  object \n",
      " 17  population             59400 non-null  int64  \n",
      " 18  public_meeting         56066 non-null  object \n",
      " 19  recorded_by            59400 non-null  object \n",
      " 20  scheme_management      55523 non-null  object \n",
      " 21  scheme_name            31234 non-null  object \n",
      " 22  permit                 56344 non-null  object \n",
      " 23  construction_year      59400 non-null  int64  \n",
      " 24  extraction_type        59400 non-null  object \n",
      " 25  extraction_type_group  59400 non-null  object \n",
      " 26  extraction_type_class  59400 non-null  object \n",
      " 27  management             59400 non-null  object \n",
      " 28  management_group       59400 non-null  object \n",
      " 29  payment                59400 non-null  object \n",
      " 30  payment_type           59400 non-null  object \n",
      " 31  water_quality          59400 non-null  object \n",
      " 32  quality_group          59400 non-null  object \n",
      " 33  quantity               59400 non-null  object \n",
      " 34  quantity_group         59400 non-null  object \n",
      " 35  source                 59400 non-null  object \n",
      " 36  source_type            59400 non-null  object \n",
      " 37  source_class           59400 non-null  object \n",
      " 38  waterpoint_type        59400 non-null  object \n",
      " 39  waterpoint_type_group  59400 non-null  object \n",
      "dtypes: float64(3), int64(7), object(30)\n",
      "memory usage: 18.1+ MB\n"
     ]
    }
   ],
   "source": [
    "X_train.info()"
   ]
  },
  {
   "cell_type": "markdown",
   "metadata": {
    "id": "_mwrzUnSJI2j"
   },
   "source": [
    "Through a seaborn countplot, we observe that the dataset has quite an even number of functional and non functional data, but there is a lack of data for the functional needs repair category"
   ]
  },
  {
   "cell_type": "code",
   "execution_count": 387,
   "metadata": {
    "colab": {
     "base_uri": "https://localhost:8080/",
     "height": 315
    },
    "id": "dhwyfgAU4A3j",
    "outputId": "b34c5993-177b-44ce-af47-531b0c7b2d91"
   },
   "outputs": [
    {
     "data": {
      "text/plain": [
       "Text(0.5, 1.0, 'Count of Functional / Non-functional pumps')"
      ]
     },
     "execution_count": 387,
     "metadata": {
      "tags": []
     },
     "output_type": "execute_result"
    },
    {
     "data": {
      "image/png": "[encoded data removed]",
      "text/plain": [
       "<Figure size 432x288 with 1 Axes>"
      ]
     },
     "metadata": {
      "needs_background": "light",
      "tags": []
     },
     "output_type": "display_data"
    }
   ],
   "source": [
    "# Visualizing the functional components\n",
    "sns.countplot(data = Y_train, x=\"status_group\")\n",
    "plt.title(\"Count of Functional / Non-functional pumps\")"
   ]
  },
  {
   "cell_type": "markdown",
   "metadata": {
    "id": "y2ONvRcKTWzY"
   },
   "source": [
    "We append the functional status from Y_test onto X_test to allow us to visualise how individual data categories in a vaccum affect the status group distribution.\n",
    "\n",
    "We can then use this to create pivot tables to better visualise our dataset"
   ]
  },
  {
   "cell_type": "code",
   "execution_count": 388,
   "metadata": {
    "colab": {
     "base_uri": "https://localhost:8080/",
     "height": 262
    },
    "id": "ioEL3vdNpmcO",
    "outputId": "0e75a0c5-1dd3-44a5-9128-bfc1abec6d80"
   },
   "outputs": [
    {
     "data": {
      "text/html": [
       "<div>\n",
       "<style scoped>\n",
       "    .dataframe tbody tr th:only-of-type {\n",
       "        vertical-align: middle;\n",
       "    }\n",
       "\n",
       "    .dataframe tbody tr th {\n",
       "        vertical-align: top;\n",
       "    }\n",
       "\n",
       "    .dataframe thead th {\n",
       "        text-align: right;\n",
       "    }\n",
       "</style>\n",
       "<table border=\"1\" class=\"dataframe\">\n",
       "  <thead>\n",
       "    <tr style=\"text-align: right;\">\n",
       "      <th></th>\n",
       "      <th>id</th>\n",
       "      <th>amount_tsh</th>\n",
       "      <th>date_recorded</th>\n",
       "      <th>funder</th>\n",
       "      <th>gps_height</th>\n",
       "      <th>installer</th>\n",
       "      <th>longitude</th>\n",
       "      <th>latitude</th>\n",
       "      <th>wpt_name</th>\n",
       "      <th>num_private</th>\n",
       "      <th>basin</th>\n",
       "      <th>subvillage</th>\n",
       "      <th>region</th>\n",
       "      <th>region_code</th>\n",
       "      <th>district_code</th>\n",
       "      <th>lga</th>\n",
       "      <th>ward</th>\n",
       "      <th>population</th>\n",
       "      <th>public_meeting</th>\n",
       "      <th>recorded_by</th>\n",
       "      <th>scheme_management</th>\n",
       "      <th>scheme_name</th>\n",
       "      <th>permit</th>\n",
       "      <th>construction_year</th>\n",
       "      <th>extraction_type</th>\n",
       "      <th>extraction_type_group</th>\n",
       "      <th>extraction_type_class</th>\n",
       "      <th>management</th>\n",
       "      <th>management_group</th>\n",
       "      <th>payment</th>\n",
       "      <th>payment_type</th>\n",
       "      <th>water_quality</th>\n",
       "      <th>quality_group</th>\n",
       "      <th>quantity</th>\n",
       "      <th>quantity_group</th>\n",
       "      <th>source</th>\n",
       "      <th>source_type</th>\n",
       "      <th>source_class</th>\n",
       "      <th>waterpoint_type</th>\n",
       "      <th>waterpoint_type_group</th>\n",
       "      <th>status_group</th>\n",
       "    </tr>\n",
       "  </thead>\n",
       "  <tbody>\n",
       "    <tr>\n",
       "      <th>0</th>\n",
       "      <td>69572</td>\n",
       "      <td>6000.0</td>\n",
       "      <td>2011-03-14</td>\n",
       "      <td>Roman</td>\n",
       "      <td>1390</td>\n",
       "      <td>Roman</td>\n",
       "      <td>34.938093</td>\n",
       "      <td>-9.856322</td>\n",
       "      <td>none</td>\n",
       "      <td>0</td>\n",
       "      <td>Lake Nyasa</td>\n",
       "      <td>Mnyusi B</td>\n",
       "      <td>Iringa</td>\n",
       "      <td>11</td>\n",
       "      <td>5</td>\n",
       "      <td>Ludewa</td>\n",
       "      <td>Mundindi</td>\n",
       "      <td>109</td>\n",
       "      <td>True</td>\n",
       "      <td>GeoData Consultants Ltd</td>\n",
       "      <td>VWC</td>\n",
       "      <td>Roman</td>\n",
       "      <td>False</td>\n",
       "      <td>1999</td>\n",
       "      <td>gravity</td>\n",
       "      <td>gravity</td>\n",
       "      <td>gravity</td>\n",
       "      <td>vwc</td>\n",
       "      <td>user-group</td>\n",
       "      <td>pay annually</td>\n",
       "      <td>annually</td>\n",
       "      <td>soft</td>\n",
       "      <td>good</td>\n",
       "      <td>enough</td>\n",
       "      <td>enough</td>\n",
       "      <td>spring</td>\n",
       "      <td>spring</td>\n",
       "      <td>groundwater</td>\n",
       "      <td>communal standpipe</td>\n",
       "      <td>communal standpipe</td>\n",
       "      <td>functional</td>\n",
       "    </tr>\n",
       "    <tr>\n",
       "      <th>1</th>\n",
       "      <td>8776</td>\n",
       "      <td>0.0</td>\n",
       "      <td>2013-03-06</td>\n",
       "      <td>Grumeti</td>\n",
       "      <td>1399</td>\n",
       "      <td>GRUMETI</td>\n",
       "      <td>34.698766</td>\n",
       "      <td>-2.147466</td>\n",
       "      <td>Zahanati</td>\n",
       "      <td>0</td>\n",
       "      <td>Lake Victoria</td>\n",
       "      <td>Nyamara</td>\n",
       "      <td>Mara</td>\n",
       "      <td>20</td>\n",
       "      <td>2</td>\n",
       "      <td>Serengeti</td>\n",
       "      <td>Natta</td>\n",
       "      <td>280</td>\n",
       "      <td>NaN</td>\n",
       "      <td>GeoData Consultants Ltd</td>\n",
       "      <td>Other</td>\n",
       "      <td>NaN</td>\n",
       "      <td>True</td>\n",
       "      <td>2010</td>\n",
       "      <td>gravity</td>\n",
       "      <td>gravity</td>\n",
       "      <td>gravity</td>\n",
       "      <td>wug</td>\n",
       "      <td>user-group</td>\n",
       "      <td>never pay</td>\n",
       "      <td>never pay</td>\n",
       "      <td>soft</td>\n",
       "      <td>good</td>\n",
       "      <td>insufficient</td>\n",
       "      <td>insufficient</td>\n",
       "      <td>rainwater harvesting</td>\n",
       "      <td>rainwater harvesting</td>\n",
       "      <td>surface</td>\n",
       "      <td>communal standpipe</td>\n",
       "      <td>communal standpipe</td>\n",
       "      <td>functional</td>\n",
       "    </tr>\n",
       "    <tr>\n",
       "      <th>2</th>\n",
       "      <td>34310</td>\n",
       "      <td>25.0</td>\n",
       "      <td>2013-02-25</td>\n",
       "      <td>Lottery Club</td>\n",
       "      <td>686</td>\n",
       "      <td>World vision</td>\n",
       "      <td>37.460664</td>\n",
       "      <td>-3.821329</td>\n",
       "      <td>Kwa Mahundi</td>\n",
       "      <td>0</td>\n",
       "      <td>Pangani</td>\n",
       "      <td>Majengo</td>\n",
       "      <td>Manyara</td>\n",
       "      <td>21</td>\n",
       "      <td>4</td>\n",
       "      <td>Simanjiro</td>\n",
       "      <td>Ngorika</td>\n",
       "      <td>250</td>\n",
       "      <td>True</td>\n",
       "      <td>GeoData Consultants Ltd</td>\n",
       "      <td>VWC</td>\n",
       "      <td>Nyumba ya mungu pipe scheme</td>\n",
       "      <td>True</td>\n",
       "      <td>2009</td>\n",
       "      <td>gravity</td>\n",
       "      <td>gravity</td>\n",
       "      <td>gravity</td>\n",
       "      <td>vwc</td>\n",
       "      <td>user-group</td>\n",
       "      <td>pay per bucket</td>\n",
       "      <td>per bucket</td>\n",
       "      <td>soft</td>\n",
       "      <td>good</td>\n",
       "      <td>enough</td>\n",
       "      <td>enough</td>\n",
       "      <td>dam</td>\n",
       "      <td>dam</td>\n",
       "      <td>surface</td>\n",
       "      <td>communal standpipe multiple</td>\n",
       "      <td>communal standpipe</td>\n",
       "      <td>functional</td>\n",
       "    </tr>\n",
       "  </tbody>\n",
       "</table>\n",
       "</div>"
      ],
      "text/plain": [
       "      id  amount_tsh  ... waterpoint_type_group status_group\n",
       "0  69572      6000.0  ...    communal standpipe   functional\n",
       "1   8776         0.0  ...    communal standpipe   functional\n",
       "2  34310        25.0  ...    communal standpipe   functional\n",
       "\n",
       "[3 rows x 41 columns]"
      ]
     },
     "execution_count": 388,
     "metadata": {
      "tags": []
     },
     "output_type": "execute_result"
    }
   ],
   "source": [
    "full_set = pd.concat([X_train, Y_train.status_group], axis=1, copy=False)\n",
    "full_set.head(3)"
   ]
  },
  {
   "cell_type": "markdown",
   "metadata": {
    "id": "wZAgMWQcS4TG"
   },
   "source": [
    "By plotting pivot tables for the functional components, we are able to visualize the different distributions of pump functionality split across different values in the same category. \n",
    "\n",
    "This allows us to visualise and roughly estimate how status group distribution is spread over different values of a category."
   ]
  },
  {
   "cell_type": "code",
   "execution_count": 389,
   "metadata": {
    "colab": {
     "base_uri": "https://localhost:8080/",
     "height": 779
    },
    "id": "b1idnsGarHkM",
    "outputId": "ee41452b-897e-4665-94e2-cb00bbfa4228"
   },
   "outputs": [
    {
     "data": {
      "text/plain": [
       "<matplotlib.axes._subplots.AxesSubplot at 0x7fae50d5c5f8>"
      ]
     },
     "execution_count": 389,
     "metadata": {
      "tags": []
     },
     "output_type": "execute_result"
    },
    {
     "data": {
      "image/png": "[encoded data removed]",
      "text/plain": [
       "<Figure size 432x288 with 1 Axes>"
      ]
     },
     "metadata": {
      "needs_background": "light",
      "tags": []
     },
     "output_type": "display_data"
    },
    {
     "data": {
      "image/png": "[encoded data removed]",
      "text/plain": [
       "<Figure size 432x288 with 1 Axes>"
      ]
     },
     "metadata": {
      "needs_background": "light",
      "tags": []
     },
     "output_type": "display_data"
    },
    {
     "data": {
      "image/png": "[encoded data removed]",
      "text/plain": [
       "<Figure size 432x288 with 1 Axes>"
      ]
     },
     "metadata": {
      "needs_background": "light",
      "tags": []
     },
     "output_type": "display_data"
    }
   ],
   "source": [
    "# Visualizing the functional components\n",
    "pivot_payment = pd.pivot_table(full_set,index=['payment'], columns=['status_group'], aggfunc='count', dropna=True, values='id')\n",
    "pivot_payment.plot(kind='barh', stacked='true')\n",
    "\n",
    "pivot_water_quality = pd.pivot_table(full_set,index=['water_quality'], columns=['status_group'], aggfunc='count', dropna=True, values='id')\n",
    "pivot_water_quality.plot(kind='barh', stacked='true')\n",
    "\n",
    "pivot_source = pd.pivot_table(full_set,index=['source'], columns=['status_group'], aggfunc='count', dropna=True, values='id')\n",
    "pivot_source.plot(kind='barh', stacked='true')"
   ]
  },
  {
   "cell_type": "code",
   "execution_count": 390,
   "metadata": {
    "id": "hopButQ82z-0"
   },
   "outputs": [],
   "source": [
    "col_labels = list(X_train.columns)"
   ]
  },
  {
   "cell_type": "markdown",
   "metadata": {
    "id": "UWuf7ZOwHlej"
   },
   "source": [
    "# Preprocessing our data"
   ]
  },
  {
   "cell_type": "markdown",
   "metadata": {
    "id": "CffJYHowSvyv"
   },
   "source": [
    "In the first step of preprocessing, we first seperate the data into numerical and categorical features. For the two different kind of features, we would process it differently. \n",
    "\n",
    "Numerical Features:\n",
    "For numerical features, we would first use simple imputation to fill missing or 0 values where appropriate. For example, "
   ]
  },
  {
   "cell_type": "code",
   "execution_count": 391,
   "metadata": {
    "colab": {
     "base_uri": "https://localhost:8080/"
    },
    "id": "OPf8YeP_Q7bq",
    "outputId": "e8194bd0-a7f6-4f64-bdb9-cd6850bb1b64"
   },
   "outputs": [
    {
     "name": "stdout",
     "output_type": "stream",
     "text": [
      "Numerical Variables: ['id', 'amount_tsh', 'gps_height', 'longitude', 'latitude', 'num_private', 'region_code', 'district_code', 'population', 'construction_year']\n",
      "Categorical Variables: ['payment_type', 'scheme_management', 'waterpoint_type_group', 'extraction_type', 'payment', 'date_recorded', 'quantity_group', 'recorded_by', 'extraction_type_group', 'source', 'installer', 'subvillage', 'extraction_type_class', 'management', 'source_class', 'quality_group', 'quantity', 'permit', 'public_meeting', 'management_group', 'basin', 'scheme_name', 'lga', 'funder', 'region', 'wpt_name', 'waterpoint_type', 'water_quality', 'ward', 'source_type']\n"
     ]
    }
   ],
   "source": [
    "numerics = ['int64', 'float64', 'int8']\n",
    "num_var = list(X_train.select_dtypes(include=numerics).columns)\n",
    "cat_var = list(set(X_train.columns)-set(num_var))\n",
    "print(\"Numerical Variables:\", num_var)\n",
    "print(\"Categorical Variables:\", cat_var)"
   ]
  },
  {
   "cell_type": "markdown",
   "metadata": {
    "id": "x8ib0RzmUSZo"
   },
   "source": [
    "We then proceed to check the numerical values for any NaN values. From this we can see that there are no NaN values for numerical variables. However, we still need to check the dataset to confirm that null values are not represented by another number like 0."
   ]
  },
  {
   "cell_type": "code",
   "execution_count": 392,
   "metadata": {
    "colab": {
     "base_uri": "https://localhost:8080/"
    },
    "id": "Ui3uU6-8LraY",
    "outputId": "1e4d159c-b164-46f2-fbd5-8a449f453791"
   },
   "outputs": [
    {
     "data": {
      "text/plain": [
       "id                   0\n",
       "amount_tsh           0\n",
       "gps_height           0\n",
       "longitude            0\n",
       "latitude             0\n",
       "num_private          0\n",
       "region_code          0\n",
       "district_code        0\n",
       "population           0\n",
       "construction_year    0\n",
       "dtype: int64"
      ]
     },
     "execution_count": 392,
     "metadata": {
      "tags": []
     },
     "output_type": "execute_result"
    }
   ],
   "source": [
    "X_train[num_var].isna().sum()"
   ]
  },
  {
   "cell_type": "markdown",
   "metadata": {
    "id": "m-Z4tm-FUvad"
   },
   "source": [
    "After checking for null values, we proceed to check for 0 values, which seem to represent null values for this dataset for some categories. \n",
    "\n",
    "However, we cannot conclude that these 0 values are null for all of these categories deterministically. While some categories like year we can assume that 0 represents a null value, the value 0 for other categories like gps_height and population may be a valid value."
   ]
  },
  {
   "cell_type": "code",
   "execution_count": 393,
   "metadata": {
    "colab": {
     "base_uri": "https://localhost:8080/"
    },
    "id": "PMyOuq2cUF8Q",
    "outputId": "b2164e61-12a7-43ab-a5fa-b5d434b0ec94"
   },
   "outputs": [
    {
     "data": {
      "text/plain": [
       "id                       1\n",
       "amount_tsh           41639\n",
       "gps_height           20438\n",
       "longitude             1812\n",
       "latitude                 0\n",
       "num_private          58643\n",
       "region_code              0\n",
       "district_code           23\n",
       "population           21381\n",
       "construction_year    20709\n",
       "dtype: int64"
      ]
     },
     "execution_count": 393,
     "metadata": {
      "tags": []
     },
     "output_type": "execute_result"
    }
   ],
   "source": [
    "X_train[num_var].apply(lambda x: (x==0).sum())"
   ]
  },
  {
   "cell_type": "markdown",
   "metadata": {
    "id": "9_ijvK5lVgXb"
   },
   "source": [
    "Now that we know 0 is the null value for construction_year, we can visualize how the construction year affects the functionality of the pump. \n",
    "\n",
    "From this pivot table we can roughly visualise that pumps built later have a higher possibility of being functional compared to older pumps, which is semi-expected since they are newer."
   ]
  },
  {
   "cell_type": "code",
   "execution_count": 394,
   "metadata": {
    "colab": {
     "base_uri": "https://localhost:8080/",
     "height": 279
    },
    "id": "uyjas-KPpOvr",
    "outputId": "d27c3251-587d-4d10-b4b3-abc997f70fca"
   },
   "outputs": [
    {
     "data": {
      "text/plain": [
       "<matplotlib.axes._subplots.AxesSubplot at 0x7fae505b42b0>"
      ]
     },
     "execution_count": 394,
     "metadata": {
      "tags": []
     },
     "output_type": "execute_result"
    },
    {
     "data": {
      "image/png": "[encoded data removed]",
      "text/plain": [
       "<Figure size 1440x288 with 1 Axes>"
      ]
     },
     "metadata": {
      "needs_background": "light",
      "tags": []
     },
     "output_type": "display_data"
    }
   ],
   "source": [
    "#full_set['construction_year'] = full_set['construction_year'].replace([0], np.NaN, inplace=True)\n",
    "\n",
    "pivot_construction_year = pd.pivot_table(full_set,index=['construction_year'], columns=['status_group'], aggfunc='count', dropna=True, values='id')\n",
    "pivot_construction_year = pivot_construction_year.drop([0])\n",
    "pivot_construction_year.plot(kind='bar', stacked='true', figsize=(20,4))"
   ]
  },
  {
   "cell_type": "markdown",
   "metadata": {
    "id": "JNx3W_XG5vAA"
   },
   "source": [
    "\n",
    "Since we are unable to just perform imputation on construction year as it will skew the data, we will first perform a transformation on construction year to change it from a numerical value to a categorical feature. i.e to the form below:\n",
    "*   1960 <= x < 1970\n",
    "*   1970 <= x < 1980\n",
    "*   1980 <= x < 1990\n",
    "*   1990 <= x < 2000\n",
    "*   2000 <= x < 2010\n",
    "*   2010 <= x\n",
    "\n"
   ]
  },
  {
   "cell_type": "code",
   "execution_count": 395,
   "metadata": {
    "id": "uHOdqhqk6SnU"
   },
   "outputs": [],
   "source": [
    "# return third character of year plus 0s. 1960 -> 60s, 1970-> 70s, etc.\n",
    "def construction_converter(row):\n",
    "      if row == 0:\n",
    "          return 'unknown'\n",
    "      else:\n",
    "          return str(row)[2] + '0s'\n",
    "\n",
    "class ConstructionTransformer(BaseEstimator, TransformerMixin):\n",
    "    def __init__(self): # r specifies how many features to be eliminated. Higher r = more features dropped. E.g. r= 0.7 means in a data of 59400 rows, features with more than 41580 '0' values will be dropped.\n",
    "        self.include = 'construction_year'\n",
    "     \n",
    "    def fit(self, X, y = None):\n",
    "        return self \n",
    "    \n",
    "    def transform(self, X, y = None):\n",
    "        X['construction_year'] = X['construction_year'].apply(lambda row: construction_converter(row))\n",
    "        return X"
   ]
  },
  {
   "cell_type": "code",
   "execution_count": 396,
   "metadata": {
    "colab": {
     "base_uri": "https://localhost:8080/"
    },
    "id": "X7ENEko3OR8E",
    "outputId": "c68c7c02-26f7-4e11-a761-8902e1f1fb16"
   },
   "outputs": [
    {
     "name": "stderr",
     "output_type": "stream",
     "text": [
      "/usr/local/lib/python3.6/dist-packages/ipykernel_launcher.py:16: SettingWithCopyWarning:\n",
      "\n",
      "\n",
      "A value is trying to be set on a copy of a slice from a DataFrame.\n",
      "Try using .loc[row_indexer,col_indexer] = value instead\n",
      "\n",
      "See the caveats in the documentation: https://pandas.pydata.org/pandas-docs/stable/user_guide/indexing.html#returning-a-view-versus-a-copy\n",
      "\n"
     ]
    },
    {
     "data": {
      "text/plain": [
       "construction_year\n",
       "unknown              20709\n",
       "00s                  15330\n",
       "90s                   7678\n",
       "80s                   5578\n",
       "10s                   5161\n",
       "70s                   4406\n",
       "60s                    538\n",
       "dtype: int64"
      ]
     },
     "execution_count": 396,
     "metadata": {
      "tags": []
     },
     "output_type": "execute_result"
    }
   ],
   "source": [
    "ctfs = ConstructionTransformer()\n",
    "attt = ctfs.fit_transform(X_train[['construction_year']])\n",
    "attt.value_counts()"
   ]
  },
  {
   "cell_type": "code",
   "execution_count": 397,
   "metadata": {
    "id": "hii_bYCyHRJ4"
   },
   "outputs": [],
   "source": [
    "# Updating the list of numerical and categorical variables\n",
    "num_var.remove('construction_year')\n",
    "cat_var.append('construction_year')"
   ]
  },
  {
   "cell_type": "code",
   "execution_count": 398,
   "metadata": {
    "colab": {
     "base_uri": "https://localhost:8080/",
     "height": 283
    },
    "id": "rajgKMxMOA2i",
    "outputId": "7b8366cb-9006-489f-c806-fc848c6781af"
   },
   "outputs": [
    {
     "data": {
      "text/plain": [
       "<matplotlib.axes._subplots.AxesSubplot at 0x7fae505979b0>"
      ]
     },
     "execution_count": 398,
     "metadata": {
      "tags": []
     },
     "output_type": "execute_result"
    },
    {
     "data": {
      "image/png": "[encoded data removed]",
      "text/plain": [
       "<Figure size 432x288 with 1 Axes>"
      ]
     },
     "metadata": {
      "needs_background": "light",
      "tags": []
     },
     "output_type": "display_data"
    }
   ],
   "source": [
    "full_set_zero_pop = full_set[full_set.population.eq(0)]\n",
    "\n",
    "pivot_zero_pop = pd.pivot_table(full_set_zero_pop,index=['population'], columns=['status_group'], aggfunc='count', dropna=True, values='id')\n",
    "pivot_zero_pop.plot(kind='barh', stacked='true')"
   ]
  },
  {
   "cell_type": "markdown",
   "metadata": {
    "id": "QRdilLKUVi79"
   },
   "source": [
    "Since the data is collected from the same region of Tanzania, it is likely that the collected data is around the same longitude and latitude. \n",
    "\n",
    "As we can see from the box plot below, the longitude of the dataset is roughly within the same region, and thus taking the mean of these values to fill in null values (represented as 0) should not affect the model too much.\n"
   ]
  },
  {
   "cell_type": "code",
   "execution_count": 399,
   "metadata": {
    "colab": {
     "base_uri": "https://localhost:8080/",
     "height": 283
    },
    "id": "fz5sHRWZVJ81",
    "outputId": "16e204fe-8102-40d4-8860-5401108802ac"
   },
   "outputs": [
    {
     "data": {
      "text/plain": [
       "<matplotlib.axes._subplots.AxesSubplot at 0x7fae609f14a8>"
      ]
     },
     "execution_count": 399,
     "metadata": {
      "tags": []
     },
     "output_type": "execute_result"
    },
    {
     "data": {
      "image/png": "[encoded data removed]",
      "text/plain": [
       "<Figure size 432x288 with 1 Axes>"
      ]
     },
     "metadata": {
      "needs_background": "light",
      "tags": []
     },
     "output_type": "display_data"
    }
   ],
   "source": [
    "X_train['longitude'].plot.box()"
   ]
  },
  {
   "cell_type": "markdown",
   "metadata": {
    "id": "GIWXl_-5WO4R"
   },
   "source": [
    "We first fill in any missing longitude and latitude values by taking the mean of the other longitude and latitude values within the same region."
   ]
  },
  {
   "cell_type": "code",
   "execution_count": 400,
   "metadata": {
    "id": "oBp5qkcgXmPs"
   },
   "outputs": [],
   "source": [
    "X_train['longitude'].replace(0, np.NaN, inplace=True)\n",
    "X_train['longitude'] = X_train['longitude'].fillna(X_train.groupby('region_code')['longitude'].transform('mean'))"
   ]
  },
  {
   "cell_type": "markdown",
   "metadata": {
    "id": "L9hNKgKaH4fv"
   },
   "source": [
    "# Numerical Data Processing"
   ]
  },
  {
   "cell_type": "markdown",
   "metadata": {
    "id": "mc5EUoscNYLS"
   },
   "source": [
    "\n",
    "\n",
    "Numerical Eliminator\n",
    "---\n",
    "\n",
    "We then use a numeric eliminator transformer in \n",
    "order to drop data columns that have more than r*100% of null values\n",
    "\n",
    "Also, we would not need the ID column of the data as it does not affect our model. Hence, we can proceed to drop the ID column."
   ]
  },
  {
   "cell_type": "code",
   "execution_count": 401,
   "metadata": {
    "id": "v5KkxYT0hl3Y"
   },
   "outputs": [],
   "source": [
    "class NumElim(BaseEstimator, TransformerMixin):\n",
    "    def __init__(self, r=0.5): # r specifies how many features to be eliminated. Higher r = more features dropped. E.g. r= 0.7 means in a data of 59400 rows, features with more than 41580 '0' values will be dropped.\n",
    "        self.exclude = ['id']\n",
    "        self.r = r\n",
    "     \n",
    "    def fit(self, X, y = None):\n",
    "        n = len(X)\n",
    "        # cts = count(X>) TO BE EDITED TO COUNT NUMBER OF 0 VALUES INSTEAD\n",
    "        cts = X.apply(lambda x: (x==0).sum())\n",
    "        cts = n - cts\n",
    "        self.exclude.extend(cts.index[cts < (self.r * n)].tolist())\n",
    "        return self \n",
    "    \n",
    "    def transform(self, X, y = None):\n",
    "        return X.drop(self.exclude, errors='ignore', axis=1)"
   ]
  },
  {
   "cell_type": "markdown",
   "metadata": {
    "id": "oKghCG3dWkz6"
   },
   "source": [
    "By varying the r value, we can eliminate data columns with different percentages of null values to improve model accuracy"
   ]
  },
  {
   "cell_type": "code",
   "execution_count": 402,
   "metadata": {
    "id": "6RAgDoK6h7rT"
   },
   "outputs": [],
   "source": [
    "# # For Testing purposes\n",
    "# num_elim = NumElim(r=0.5)\n",
    "# X_num1 = se.fit_transform(X_train[num_var])\n",
    "# X_num1"
   ]
  },
  {
   "cell_type": "markdown",
   "metadata": {
    "id": "SiS_pDyKW5Qa"
   },
   "source": [
    "\n",
    "Numerical Preprocessor\n",
    "---\n",
    "\n",
    "\n",
    "By grouping the data by region, we are able to get the means for longitude and latitude per region.\n",
    "\n",
    "This gives us values to fill in null values for longitude and latitude, as long as the row of data has a valid region."
   ]
  },
  {
   "cell_type": "code",
   "execution_count": 403,
   "metadata": {
    "id": "FIf2hNp2Mzas"
   },
   "outputs": [],
   "source": [
    "class Num_Preprocessor(BaseEstimator, TransformerMixin):\n",
    "  def __init__(self):\n",
    "    self.exclude = ['amount_tsh', 'gps_height']\n",
    "    self.toProcess = ['longitude']\n",
    "\n",
    "  def fit(self, X, y = None):\n",
    "    return self\n",
    "\n",
    "  def transform(self, X, y = None):\n",
    "    X_new = X.copy()\n",
    "    for col in X_new:\n",
    "      if (col not in self.exclude):\n",
    "        X_new[col].replace(0, np.NaN, inplace = True)\n",
    "    if (self.toProcess[0] in X_new.columns):\n",
    "      X_new[self.toProcess[0]] = X_new[self.toProcess[0]].fillna(X_new.groupby('region_code')['longitude'].transform('mean'))\n",
    "    return X_new"
   ]
  },
  {
   "cell_type": "code",
   "execution_count": 404,
   "metadata": {
    "id": "UGlwNiy7Q6YQ"
   },
   "outputs": [],
   "source": [
    "# # For Testing Purposes\n",
    "# numpre = Num_Preprocessor()\n",
    "# X_num2 = numpre.fit_transform(X_train[num_var])\n",
    "# X_num2.head(3)"
   ]
  },
  {
   "cell_type": "markdown",
   "metadata": {
    "id": "IF9-RAPOXNkh"
   },
   "source": [
    "\n",
    "Numerical Transformer\n",
    "---\n",
    "\n",
    "\n",
    "For the rest of the numerical values, we use a SimpleImputer to fill in NaN values with the most_frequent strategy in order to eliminate null values.\n",
    "\n",
    "We then build a pipeline of the numerical eliminator which eliminates columns with too many null values, the preprocessor for longitude and latitude, and the imputer metioned above."
   ]
  },
  {
   "cell_type": "code",
   "execution_count": 405,
   "metadata": {
    "id": "afpwqKM-ScIK"
   },
   "outputs": [],
   "source": [
    "num_imp = SimpleImputer(missing_values=np.NaN, strategy='most_frequent')\n",
    "\n",
    "num_transformer = Pipeline(steps = [('num_elim', NumElim(r = 0.5)),\n",
    "                                    ('num_process', Num_Preprocessor()),\n",
    "                                    ('num_imp', SimpleImputer(missing_values=np.nan, strategy='most_frequent'))])"
   ]
  },
  {
   "cell_type": "code",
   "execution_count": 406,
   "metadata": {
    "colab": {
     "base_uri": "https://localhost:8080/",
     "height": 407
    },
    "id": "T1Wrn6rqWnFD",
    "outputId": "4ee712f7-6a71-4fab-d387-c47d398a9b6f"
   },
   "outputs": [
    {
     "data": {
      "text/html": [
       "<div>\n",
       "<style scoped>\n",
       "    .dataframe tbody tr th:only-of-type {\n",
       "        vertical-align: middle;\n",
       "    }\n",
       "\n",
       "    .dataframe tbody tr th {\n",
       "        vertical-align: top;\n",
       "    }\n",
       "\n",
       "    .dataframe thead th {\n",
       "        text-align: right;\n",
       "    }\n",
       "</style>\n",
       "<table border=\"1\" class=\"dataframe\">\n",
       "  <thead>\n",
       "    <tr style=\"text-align: right;\">\n",
       "      <th></th>\n",
       "      <th>gps_height</th>\n",
       "      <th>longitude</th>\n",
       "      <th>latitude</th>\n",
       "      <th>region_code</th>\n",
       "      <th>district_code</th>\n",
       "      <th>population</th>\n",
       "    </tr>\n",
       "  </thead>\n",
       "  <tbody>\n",
       "    <tr>\n",
       "      <th>0</th>\n",
       "      <td>1390.0</td>\n",
       "      <td>34.938093</td>\n",
       "      <td>-9.856322</td>\n",
       "      <td>11.0</td>\n",
       "      <td>5.0</td>\n",
       "      <td>109.0</td>\n",
       "    </tr>\n",
       "    <tr>\n",
       "      <th>1</th>\n",
       "      <td>1399.0</td>\n",
       "      <td>34.698766</td>\n",
       "      <td>-2.147466</td>\n",
       "      <td>20.0</td>\n",
       "      <td>2.0</td>\n",
       "      <td>280.0</td>\n",
       "    </tr>\n",
       "    <tr>\n",
       "      <th>2</th>\n",
       "      <td>686.0</td>\n",
       "      <td>37.460664</td>\n",
       "      <td>-3.821329</td>\n",
       "      <td>21.0</td>\n",
       "      <td>4.0</td>\n",
       "      <td>250.0</td>\n",
       "    </tr>\n",
       "    <tr>\n",
       "      <th>3</th>\n",
       "      <td>263.0</td>\n",
       "      <td>38.486161</td>\n",
       "      <td>-11.155298</td>\n",
       "      <td>90.0</td>\n",
       "      <td>63.0</td>\n",
       "      <td>58.0</td>\n",
       "    </tr>\n",
       "    <tr>\n",
       "      <th>4</th>\n",
       "      <td>0.0</td>\n",
       "      <td>31.130847</td>\n",
       "      <td>-1.825359</td>\n",
       "      <td>18.0</td>\n",
       "      <td>1.0</td>\n",
       "      <td>1.0</td>\n",
       "    </tr>\n",
       "    <tr>\n",
       "      <th>...</th>\n",
       "      <td>...</td>\n",
       "      <td>...</td>\n",
       "      <td>...</td>\n",
       "      <td>...</td>\n",
       "      <td>...</td>\n",
       "      <td>...</td>\n",
       "    </tr>\n",
       "    <tr>\n",
       "      <th>59395</th>\n",
       "      <td>1210.0</td>\n",
       "      <td>37.169807</td>\n",
       "      <td>-3.253847</td>\n",
       "      <td>3.0</td>\n",
       "      <td>5.0</td>\n",
       "      <td>125.0</td>\n",
       "    </tr>\n",
       "    <tr>\n",
       "      <th>59396</th>\n",
       "      <td>1212.0</td>\n",
       "      <td>35.249991</td>\n",
       "      <td>-9.070629</td>\n",
       "      <td>11.0</td>\n",
       "      <td>4.0</td>\n",
       "      <td>56.0</td>\n",
       "    </tr>\n",
       "    <tr>\n",
       "      <th>59397</th>\n",
       "      <td>0.0</td>\n",
       "      <td>34.017087</td>\n",
       "      <td>-8.750434</td>\n",
       "      <td>12.0</td>\n",
       "      <td>7.0</td>\n",
       "      <td>1.0</td>\n",
       "    </tr>\n",
       "    <tr>\n",
       "      <th>59398</th>\n",
       "      <td>0.0</td>\n",
       "      <td>35.861315</td>\n",
       "      <td>-6.378573</td>\n",
       "      <td>1.0</td>\n",
       "      <td>4.0</td>\n",
       "      <td>1.0</td>\n",
       "    </tr>\n",
       "    <tr>\n",
       "      <th>59399</th>\n",
       "      <td>191.0</td>\n",
       "      <td>38.104048</td>\n",
       "      <td>-6.747464</td>\n",
       "      <td>5.0</td>\n",
       "      <td>2.0</td>\n",
       "      <td>150.0</td>\n",
       "    </tr>\n",
       "  </tbody>\n",
       "</table>\n",
       "<p>59400 rows × 6 columns</p>\n",
       "</div>"
      ],
      "text/plain": [
       "       gps_height  longitude   latitude  region_code  district_code  population\n",
       "0          1390.0  34.938093  -9.856322         11.0            5.0       109.0\n",
       "1          1399.0  34.698766  -2.147466         20.0            2.0       280.0\n",
       "2           686.0  37.460664  -3.821329         21.0            4.0       250.0\n",
       "3           263.0  38.486161 -11.155298         90.0           63.0        58.0\n",
       "4             0.0  31.130847  -1.825359         18.0            1.0         1.0\n",
       "...           ...        ...        ...          ...            ...         ...\n",
       "59395      1210.0  37.169807  -3.253847          3.0            5.0       125.0\n",
       "59396      1212.0  35.249991  -9.070629         11.0            4.0        56.0\n",
       "59397         0.0  34.017087  -8.750434         12.0            7.0         1.0\n",
       "59398         0.0  35.861315  -6.378573          1.0            4.0         1.0\n",
       "59399       191.0  38.104048  -6.747464          5.0            2.0       150.0\n",
       "\n",
       "[59400 rows x 6 columns]"
      ]
     },
     "execution_count": 406,
     "metadata": {
      "tags": []
     },
     "output_type": "execute_result"
    }
   ],
   "source": [
    "# # FOR TESTING PURPOSES\n",
    "X_num3 = num_transformer.fit_transform(X_train[num_var])\n",
    "X_num3 = pd.DataFrame(X_num3, columns = ['gps_height', 'longitude', 'latitude', 'region_code', 'district_code', 'population'])\n",
    "X_num3"
   ]
  },
  {
   "cell_type": "markdown",
   "metadata": {
    "id": "U257w1FwJe-Q"
   },
   "source": [
    "# Categorical Data Processing"
   ]
  },
  {
   "cell_type": "markdown",
   "metadata": {
    "id": "B32SKTSUNi_S"
   },
   "source": [
    "##Specifying Columns to Drop"
   ]
  },
  {
   "cell_type": "markdown",
   "metadata": {
    "id": "x5D49TK0rHMy"
   },
   "source": [
    "After processing the numerical data, we now take a look at the categorical data.\n",
    "\n",
    "We first check the number of unique values per column of data to identify categorical columns with a high number of unique values to eliminate from the dataset as a high amount of unique values may not be able to contribute to the model conclusively."
   ]
  },
  {
   "cell_type": "markdown",
   "metadata": {
    "id": "RWMmITzf_Wo7"
   },
   "source": [
    "We check the unique values of the data for both the test and train dataset to determine if there are any columns we have to take note of that differ in unique values."
   ]
  },
  {
   "cell_type": "code",
   "execution_count": 407,
   "metadata": {
    "colab": {
     "base_uri": "https://localhost:8080/"
    },
    "id": "sMLDCl2GElrk",
    "outputId": "3e5081ab-a151-4e77-d8ce-5ae3a6797a0a"
   },
   "outputs": [
    {
     "data": {
      "text/plain": [
       "payment_type                 7\n",
       "scheme_management           11\n",
       "waterpoint_type_group        6\n",
       "extraction_type             17\n",
       "payment                      7\n",
       "date_recorded              331\n",
       "quantity_group               5\n",
       "recorded_by                  1\n",
       "extraction_type_group       13\n",
       "source                      10\n",
       "installer                 1091\n",
       "subvillage                8443\n",
       "extraction_type_class        7\n",
       "management                  12\n",
       "source_class                 3\n",
       "quality_group                6\n",
       "quantity                     5\n",
       "permit                       2\n",
       "public_meeting               2\n",
       "management_group             5\n",
       "basin                        9\n",
       "scheme_name               1789\n",
       "lga                        125\n",
       "funder                     980\n",
       "region                      21\n",
       "wpt_name                 10840\n",
       "waterpoint_type              7\n",
       "water_quality                8\n",
       "ward                      1959\n",
       "source_type                  7\n",
       "construction_year           55\n",
       "dtype: int64"
      ]
     },
     "execution_count": 407,
     "metadata": {
      "tags": []
     },
     "output_type": "execute_result"
    }
   ],
   "source": [
    "X_test[cat_var].apply(lambda x: x.nunique())"
   ]
  },
  {
   "cell_type": "code",
   "execution_count": 408,
   "metadata": {
    "colab": {
     "base_uri": "https://localhost:8080/"
    },
    "id": "FK9KcnrD4uLO",
    "outputId": "fd362c24-5aaa-4c55-b03a-22eaf7089773"
   },
   "outputs": [
    {
     "data": {
      "text/plain": [
       "payment_type                 7\n",
       "scheme_management           12\n",
       "waterpoint_type_group        6\n",
       "extraction_type             18\n",
       "payment                      7\n",
       "date_recorded              356\n",
       "quantity_group               5\n",
       "recorded_by                  1\n",
       "extraction_type_group       13\n",
       "source                      10\n",
       "installer                 2145\n",
       "subvillage               19287\n",
       "extraction_type_class        7\n",
       "management                  12\n",
       "source_class                 3\n",
       "quality_group                6\n",
       "quantity                     5\n",
       "permit                       2\n",
       "public_meeting               2\n",
       "management_group             5\n",
       "basin                        9\n",
       "scheme_name               2696\n",
       "lga                        125\n",
       "funder                    1897\n",
       "region                      21\n",
       "wpt_name                 37400\n",
       "waterpoint_type              7\n",
       "water_quality                8\n",
       "ward                      2092\n",
       "source_type                  7\n",
       "construction_year           55\n",
       "dtype: int64"
      ]
     },
     "execution_count": 408,
     "metadata": {
      "tags": []
     },
     "output_type": "execute_result"
    }
   ],
   "source": [
    "X_train[cat_var].apply(lambda x: x.nunique())"
   ]
  },
  {
   "cell_type": "markdown",
   "metadata": {
    "id": "atHaTWcqYKX_"
   },
   "source": [
    "For some categorical data, null values are present in the data. An example is shown below for public_meeting.\n",
    "\n",
    "We can see that the numbers do not add up to 59400."
   ]
  },
  {
   "cell_type": "code",
   "execution_count": 409,
   "metadata": {
    "colab": {
     "base_uri": "https://localhost:8080/"
    },
    "id": "9-5gcFW-5eH5",
    "outputId": "4065281a-49ca-4147-eceb-463821dfc2c9"
   },
   "outputs": [
    {
     "data": {
      "text/plain": [
       "True     51011\n",
       "False     5055\n",
       "Name: public_meeting, dtype: int64"
      ]
     },
     "execution_count": 409,
     "metadata": {
      "tags": []
     },
     "output_type": "execute_result"
    }
   ],
   "source": [
    "X_train.public_meeting.value_counts()"
   ]
  },
  {
   "cell_type": "markdown",
   "metadata": {
    "id": "yv_VJNatG3G9"
   },
   "source": [
    "Running through the categorical dataset, we see that there are several columns with almost entirely the same data. These columns seems to be capturing the same related set of data. We first compute the similarities between 2 of such columns using a simple function as shown below."
   ]
  },
  {
   "cell_type": "code",
   "execution_count": 410,
   "metadata": {
    "colab": {
     "base_uri": "https://localhost:8080/"
    },
    "id": "_zpZITVJGOUn",
    "outputId": "ddbdde3e-6936-4066-b65d-cd0999c659b6"
   },
   "outputs": [
    {
     "name": "stdout",
     "output_type": "stream",
     "text": [
      "% Difference between quantity and quantity group : 0.0\n",
      "% Difference between extraction_type and extraction_type_group : 0.04156565656565656\n",
      "% Difference between extraction_type and extraction_type_class : 0.3607070707070707\n",
      "% Difference between payment and payment_type : 0.4181986531986532\n",
      "% Difference between source and source_type : 0.37696969696969695\n",
      "% Difference between waterpoint and waterpoint_type : 0.10274410774410775\n",
      "% Difference between water_quality and quality_group : 0.8697643097643097\n",
      "% Difference between management and management_group : 0.9465824915824916\n"
     ]
    }
   ],
   "source": [
    "diff = (X_train['quantity']!=X_train['quantity_group']).sum()/len(X_train['quantity'])\n",
    "print(\"% Difference between quantity and quantity group :\", diff)\n",
    "\n",
    "diff = (X_train['extraction_type']!=X_train['extraction_type_group']).sum()/len(X_train['extraction_type'])\n",
    "print(\"% Difference between extraction_type and extraction_type_group :\", diff)\n",
    "\n",
    "diff = (X_train['extraction_type']!=X_train['extraction_type_class']).sum()/len(X_train['extraction_type'])\n",
    "print(\"% Difference between extraction_type and extraction_type_class :\", diff)\n",
    "\n",
    "diff = (X_train['payment']!=X_train['payment_type']).sum()/len(X_train['payment'])\n",
    "print(\"% Difference between payment and payment_type :\", diff)\n",
    "\n",
    "diff = (X_train['source']!=X_train['source_type']).sum()/len(X_train['source'])\n",
    "print(\"% Difference between source and source_type :\", diff)\n",
    "\n",
    "diff = (X_train['waterpoint_type']!=X_train['waterpoint_type_group']).sum()/len(X_train['waterpoint_type'])\n",
    "print(\"% Difference between waterpoint and waterpoint_type :\", diff)\n",
    "\n",
    "diff = (X_train['water_quality']!=X_train['quality_group']).sum()/len(X_train['water_quality'])\n",
    "print(\"% Difference between water_quality and quality_group :\", diff)\n",
    "\n",
    "diff = (X_train['management']!=X_train['management_group']).sum()/len(X_train['management'])\n",
    "print(\"% Difference between management and management_group :\", diff)\n",
    "\n"
   ]
  },
  {
   "cell_type": "markdown",
   "metadata": {
    "id": "frnAQ5dwKE0p"
   },
   "source": [
    "In the analysis above, we see that there are significant differences between data such as payment and payment_type, source and source_type. However, diving further into the data, we find that one column is a more elaborate version of the other. For example, payment provides more information than payment_type. Source provides more information than source_type.\n",
    "\n",
    "To prove this, we run a simple experiment as shown below."
   ]
  },
  {
   "cell_type": "code",
   "execution_count": 411,
   "metadata": {
    "colab": {
     "base_uri": "https://localhost:8080/"
    },
    "id": "AIKrcAt2KpvU",
    "outputId": "24abdc5c-6a6b-418b-9d36-c3f6d44290bb"
   },
   "outputs": [
    {
     "name": "stdout",
     "output_type": "stream",
     "text": [
      "Original payment values: ['pay annually' 'never pay' 'pay per bucket' 'unknown'\n",
      " 'pay when scheme fails' 'other' 'pay monthly']\n",
      "Original payment_type values: ['annually' 'never pay' 'per bucket' 'unknown' 'on failure' 'other'\n",
      " 'monthly']\n",
      "% Difference between payment and payment_type : 0.0\n"
     ]
    }
   ],
   "source": [
    "print(\"Original payment values:\", X_train['payment'].unique())\n",
    "print(\"Original payment_type values:\", X_train['payment_type'].unique())\n",
    "\n",
    "payment_temp = X_train['payment'].replace('pay annually', 'annually')\n",
    "payment_temp.replace('pay per bucket', 'per bucket', inplace=True)\n",
    "payment_temp.replace('pay when scheme fails', 'on failure', inplace=True)\n",
    "payment_temp.replace('pay monthly', 'monthly', inplace=True)\n",
    "\n",
    "diff = (payment_temp!=X_train['payment_type']).sum()/len(payment_temp)\n",
    "print(\"% Difference between payment and payment_type :\", diff)"
   ]
  },
  {
   "cell_type": "code",
   "execution_count": 412,
   "metadata": {
    "colab": {
     "base_uri": "https://localhost:8080/"
    },
    "id": "c1kQvpPZMIVF",
    "outputId": "f8bb3be9-d16e-4aa0-a51c-363dca57ea8a"
   },
   "outputs": [
    {
     "name": "stdout",
     "output_type": "stream",
     "text": [
      "Original source values: ['spring' 'rainwater harvesting' 'dam' 'machine dbh' 'other'\n",
      " 'shallow well' 'river' 'hand dtw' 'lake' 'unknown']\n",
      "Original source_type values: ['spring' 'rainwater harvesting' 'dam' 'borehole' 'other' 'shallow well'\n",
      " 'river/lake']\n",
      "Converted source values: ['spring' 'rainwater harvesting' 'dam' 'borehole' 'other' 'shallow well'\n",
      " 'river/lake' 'hand dtw' 'unknown']\n",
      "% Difference between source and source_type : 0.015824915824915825\n"
     ]
    }
   ],
   "source": [
    "print(\"Original source values:\", X_train['source'].unique())\n",
    "print(\"Original source_type values:\", X_train['source_type'].unique())\n",
    "\n",
    "source_temp = X_train['source'].replace('machine dbh', 'borehole')\n",
    "source_temp.replace(dict.fromkeys(['river', 'lake'], 'river/lake'), inplace=True)\n",
    "print(\"Converted source values:\", source_temp.unique())\n",
    "\n",
    "diff = (source_temp!=X_train['source_type']).sum()/len(source_temp)\n",
    "print(\"% Difference between source and source_type :\", diff)"
   ]
  },
  {
   "cell_type": "markdown",
   "metadata": {
    "id": "Hcuaf09xOT3T"
   },
   "source": [
    "As can be seen from the examples above, after replacing values from payment and source, we are able to minimize the differences to 0 and 0.02 respectively. In fact, the 0.02 differences lies in additional information provided in source that is not included in source_type - ['hand dtw', 'unknown']. \n",
    "As a result, we conclude that there is minimal loss of data by excluding all the '_type' columns. We will proceed to remove these columns from our dataset."
   ]
  },
  {
   "cell_type": "code",
   "execution_count": 413,
   "metadata": {
    "colab": {
     "base_uri": "https://localhost:8080/"
    },
    "id": "wHpTvMYHZ7sA",
    "outputId": "a08fb55b-4428-44ba-8ac7-f6b4c0dc8378"
   },
   "outputs": [
    {
     "name": "stdout",
     "output_type": "stream",
     "text": [
      "% Difference between water_quality and quality_group : 0.008535353535353535\n",
      "\n",
      "\n",
      "% Difference between management and management_group : 0.00297979797979798\n"
     ]
    }
   ],
   "source": [
    "# print(\"Original water_quality values:\", X_train['water_quality'].unique())\n",
    "# print(\"Original quality_group values:\", X_train['quality_group'].unique())\n",
    "water_temp = X_train['water_quality'].replace('soft', 'good')\n",
    "water_temp.replace('salty abandoned', 'salty', inplace=True)\n",
    "\n",
    "diff = (water_temp!=X_train['quality_group']).sum()/len(water_temp)\n",
    "print(\"% Difference between water_quality and quality_group :\", diff)\n",
    "print(\"\\n\")\n",
    "\n",
    "# print(\"Original management values:\", X_train['management'].unique())\n",
    "# print(\"Original management_group values:\", X_train['management_group'].unique())\n",
    "# From the dataset, can see that vwc, wug, wua and waterboards all fall under user-groups. Similarly, water authority, company, private operator are commercial\n",
    "management_temp = X_train['management'].replace(dict.fromkeys(['vwc', 'wug', 'wua', 'water board'], 'user-group'))\n",
    "management_temp.replace(dict.fromkeys(['water authority', 'private operator', 'company'], 'commercial'), inplace=True)\n",
    "\n",
    "diff = (management_temp!=X_train['management_group']).sum()/len(management_temp)\n",
    "print(\"% Difference between management and management_group :\", diff)"
   ]
  },
  {
   "cell_type": "markdown",
   "metadata": {
    "id": "NZak-EAceyD6"
   },
   "source": [
    "From the above example, we can observe that water_quality is related to quality_group, and management is related to management_group. In other words, we are able to derive managment_group from management."
   ]
  },
  {
   "cell_type": "code",
   "execution_count": 414,
   "metadata": {
    "colab": {
     "base_uri": "https://localhost:8080/"
    },
    "id": "p7dPprjnRJ_S",
    "outputId": "ad2a2a84-2a9a-4476-8d29-4446ccdd2a92"
   },
   "outputs": [
    {
     "data": {
      "text/plain": [
       "GeoData Consultants Ltd    59400\n",
       "Name: recorded_by, dtype: int64"
      ]
     },
     "execution_count": 414,
     "metadata": {
      "tags": []
     },
     "output_type": "execute_result"
    }
   ],
   "source": [
    "X_train['recorded_by'].value_counts()"
   ]
  },
  {
   "cell_type": "markdown",
   "metadata": {
    "id": "vtiUQ7rKRSVs"
   },
   "source": [
    "Since the data is fully recorded by \"GeoData Consultants Ltd', this column is completely redundant for the model. As a result, this column shall be omitted as well."
   ]
  },
  {
   "cell_type": "code",
   "execution_count": 415,
   "metadata": {
    "id": "Z9L3YKiHPybc"
   },
   "outputs": [],
   "source": [
    "excluded = ['extraction_type_group', 'extraction_type_class', 'payment_type', 'quantity_group', 'source_type', 'waterpoint_type_group', 'recorded_by', 'management_group', 'quality_group']"
   ]
  },
  {
   "cell_type": "markdown",
   "metadata": {
    "id": "XoLZshA5t98F"
   },
   "source": [
    "\n",
    "Categorical Eliminator\n",
    "---\n",
    "\n",
    "\n",
    "Next, we use a category eliminator to drop categorical columns with more than a specific number of values, specified here as limit"
   ]
  },
  {
   "cell_type": "code",
   "execution_count": 416,
   "metadata": {
    "id": "IxHmWtJVW014"
   },
   "outputs": [],
   "source": [
    "class CategoryElim(BaseEstimator, TransformerMixin):\n",
    "    def __init__(self, limit = 2000):\n",
    "        self.exclude = ['extraction_type_group', 'extraction_type_class', 'payment_type', 'quantity_group', 'source_type', 'waterpoint_type_group', 'recorded_by', 'management_group', 'quality_group']\n",
    "        self.limit = limit\n",
    "\n",
    "    def fit(self, X, y = None):\n",
    "        unique = X.nunique()\n",
    "        # To dynamically drop columns with more than a certain number of unique values\n",
    "        self.exclude.extend(list(pd.DataFrame(unique[unique>self.limit]).index))\n",
    "        return self\n",
    "    \n",
    "    def transform(self, X, y = None):\n",
    "        return X.drop(self.exclude, errors='ignore', axis=1)"
   ]
  },
  {
   "cell_type": "markdown",
   "metadata": {
    "id": "0vzYh05ouTO7"
   },
   "source": [
    "We can see that after running the original dataset through the eliminator, there are a few columns that had a lot of different unique values that were eliminated.\n",
    "\n",
    "All remaining columns would then be more relevant to the model since with too many unique categories the data might affect model accuracy."
   ]
  },
  {
   "cell_type": "code",
   "execution_count": 417,
   "metadata": {
    "colab": {
     "base_uri": "https://localhost:8080/",
     "height": 669
    },
    "id": "vIa9NLsafYMG",
    "outputId": "7310c6bd-7896-4693-fc2d-ec2b8a7c0949"
   },
   "outputs": [
    {
     "data": {
      "text/html": [
       "<div>\n",
       "<style scoped>\n",
       "    .dataframe tbody tr th:only-of-type {\n",
       "        vertical-align: middle;\n",
       "    }\n",
       "\n",
       "    .dataframe tbody tr th {\n",
       "        vertical-align: top;\n",
       "    }\n",
       "\n",
       "    .dataframe thead th {\n",
       "        text-align: right;\n",
       "    }\n",
       "</style>\n",
       "<table border=\"1\" class=\"dataframe\">\n",
       "  <thead>\n",
       "    <tr style=\"text-align: right;\">\n",
       "      <th></th>\n",
       "      <th>scheme_management</th>\n",
       "      <th>extraction_type</th>\n",
       "      <th>payment</th>\n",
       "      <th>date_recorded</th>\n",
       "      <th>source</th>\n",
       "      <th>management</th>\n",
       "      <th>source_class</th>\n",
       "      <th>quantity</th>\n",
       "      <th>permit</th>\n",
       "      <th>public_meeting</th>\n",
       "      <th>basin</th>\n",
       "      <th>lga</th>\n",
       "      <th>funder</th>\n",
       "      <th>region</th>\n",
       "      <th>waterpoint_type</th>\n",
       "      <th>water_quality</th>\n",
       "      <th>construction_year</th>\n",
       "    </tr>\n",
       "  </thead>\n",
       "  <tbody>\n",
       "    <tr>\n",
       "      <th>0</th>\n",
       "      <td>VWC</td>\n",
       "      <td>gravity</td>\n",
       "      <td>pay annually</td>\n",
       "      <td>2011-03-14</td>\n",
       "      <td>spring</td>\n",
       "      <td>vwc</td>\n",
       "      <td>groundwater</td>\n",
       "      <td>enough</td>\n",
       "      <td>False</td>\n",
       "      <td>True</td>\n",
       "      <td>Lake Nyasa</td>\n",
       "      <td>Ludewa</td>\n",
       "      <td>Roman</td>\n",
       "      <td>Iringa</td>\n",
       "      <td>communal standpipe</td>\n",
       "      <td>soft</td>\n",
       "      <td>1999</td>\n",
       "    </tr>\n",
       "    <tr>\n",
       "      <th>1</th>\n",
       "      <td>Other</td>\n",
       "      <td>gravity</td>\n",
       "      <td>never pay</td>\n",
       "      <td>2013-03-06</td>\n",
       "      <td>rainwater harvesting</td>\n",
       "      <td>wug</td>\n",
       "      <td>surface</td>\n",
       "      <td>insufficient</td>\n",
       "      <td>True</td>\n",
       "      <td>NaN</td>\n",
       "      <td>Lake Victoria</td>\n",
       "      <td>Serengeti</td>\n",
       "      <td>Grumeti</td>\n",
       "      <td>Mara</td>\n",
       "      <td>communal standpipe</td>\n",
       "      <td>soft</td>\n",
       "      <td>2010</td>\n",
       "    </tr>\n",
       "    <tr>\n",
       "      <th>2</th>\n",
       "      <td>VWC</td>\n",
       "      <td>gravity</td>\n",
       "      <td>pay per bucket</td>\n",
       "      <td>2013-02-25</td>\n",
       "      <td>dam</td>\n",
       "      <td>vwc</td>\n",
       "      <td>surface</td>\n",
       "      <td>enough</td>\n",
       "      <td>True</td>\n",
       "      <td>True</td>\n",
       "      <td>Pangani</td>\n",
       "      <td>Simanjiro</td>\n",
       "      <td>Lottery Club</td>\n",
       "      <td>Manyara</td>\n",
       "      <td>communal standpipe multiple</td>\n",
       "      <td>soft</td>\n",
       "      <td>2009</td>\n",
       "    </tr>\n",
       "    <tr>\n",
       "      <th>3</th>\n",
       "      <td>VWC</td>\n",
       "      <td>submersible</td>\n",
       "      <td>never pay</td>\n",
       "      <td>2013-01-28</td>\n",
       "      <td>machine dbh</td>\n",
       "      <td>vwc</td>\n",
       "      <td>groundwater</td>\n",
       "      <td>dry</td>\n",
       "      <td>True</td>\n",
       "      <td>True</td>\n",
       "      <td>Ruvuma / Southern Coast</td>\n",
       "      <td>Nanyumbu</td>\n",
       "      <td>Unicef</td>\n",
       "      <td>Mtwara</td>\n",
       "      <td>communal standpipe multiple</td>\n",
       "      <td>soft</td>\n",
       "      <td>1986</td>\n",
       "    </tr>\n",
       "    <tr>\n",
       "      <th>4</th>\n",
       "      <td>NaN</td>\n",
       "      <td>gravity</td>\n",
       "      <td>never pay</td>\n",
       "      <td>2011-07-13</td>\n",
       "      <td>rainwater harvesting</td>\n",
       "      <td>other</td>\n",
       "      <td>surface</td>\n",
       "      <td>seasonal</td>\n",
       "      <td>True</td>\n",
       "      <td>True</td>\n",
       "      <td>Lake Victoria</td>\n",
       "      <td>Karagwe</td>\n",
       "      <td>Action In A</td>\n",
       "      <td>Kagera</td>\n",
       "      <td>communal standpipe</td>\n",
       "      <td>soft</td>\n",
       "      <td>0</td>\n",
       "    </tr>\n",
       "    <tr>\n",
       "      <th>...</th>\n",
       "      <td>...</td>\n",
       "      <td>...</td>\n",
       "      <td>...</td>\n",
       "      <td>...</td>\n",
       "      <td>...</td>\n",
       "      <td>...</td>\n",
       "      <td>...</td>\n",
       "      <td>...</td>\n",
       "      <td>...</td>\n",
       "      <td>...</td>\n",
       "      <td>...</td>\n",
       "      <td>...</td>\n",
       "      <td>...</td>\n",
       "      <td>...</td>\n",
       "      <td>...</td>\n",
       "      <td>...</td>\n",
       "      <td>...</td>\n",
       "    </tr>\n",
       "    <tr>\n",
       "      <th>59395</th>\n",
       "      <td>Water Board</td>\n",
       "      <td>gravity</td>\n",
       "      <td>pay per bucket</td>\n",
       "      <td>2013-05-03</td>\n",
       "      <td>spring</td>\n",
       "      <td>water board</td>\n",
       "      <td>groundwater</td>\n",
       "      <td>enough</td>\n",
       "      <td>True</td>\n",
       "      <td>True</td>\n",
       "      <td>Pangani</td>\n",
       "      <td>Hai</td>\n",
       "      <td>Germany Republi</td>\n",
       "      <td>Kilimanjaro</td>\n",
       "      <td>communal standpipe</td>\n",
       "      <td>soft</td>\n",
       "      <td>1999</td>\n",
       "    </tr>\n",
       "    <tr>\n",
       "      <th>59396</th>\n",
       "      <td>VWC</td>\n",
       "      <td>gravity</td>\n",
       "      <td>pay annually</td>\n",
       "      <td>2011-05-07</td>\n",
       "      <td>river</td>\n",
       "      <td>vwc</td>\n",
       "      <td>surface</td>\n",
       "      <td>enough</td>\n",
       "      <td>True</td>\n",
       "      <td>True</td>\n",
       "      <td>Rufiji</td>\n",
       "      <td>Njombe</td>\n",
       "      <td>Cefa-njombe</td>\n",
       "      <td>Iringa</td>\n",
       "      <td>communal standpipe</td>\n",
       "      <td>soft</td>\n",
       "      <td>1996</td>\n",
       "    </tr>\n",
       "    <tr>\n",
       "      <th>59397</th>\n",
       "      <td>VWC</td>\n",
       "      <td>swn 80</td>\n",
       "      <td>pay monthly</td>\n",
       "      <td>2011-04-11</td>\n",
       "      <td>machine dbh</td>\n",
       "      <td>vwc</td>\n",
       "      <td>groundwater</td>\n",
       "      <td>enough</td>\n",
       "      <td>False</td>\n",
       "      <td>True</td>\n",
       "      <td>Rufiji</td>\n",
       "      <td>Mbarali</td>\n",
       "      <td>NaN</td>\n",
       "      <td>Mbeya</td>\n",
       "      <td>hand pump</td>\n",
       "      <td>fluoride</td>\n",
       "      <td>0</td>\n",
       "    </tr>\n",
       "    <tr>\n",
       "      <th>59398</th>\n",
       "      <td>VWC</td>\n",
       "      <td>nira/tanira</td>\n",
       "      <td>never pay</td>\n",
       "      <td>2011-03-08</td>\n",
       "      <td>shallow well</td>\n",
       "      <td>vwc</td>\n",
       "      <td>groundwater</td>\n",
       "      <td>insufficient</td>\n",
       "      <td>True</td>\n",
       "      <td>True</td>\n",
       "      <td>Rufiji</td>\n",
       "      <td>Chamwino</td>\n",
       "      <td>Malec</td>\n",
       "      <td>Dodoma</td>\n",
       "      <td>hand pump</td>\n",
       "      <td>soft</td>\n",
       "      <td>0</td>\n",
       "    </tr>\n",
       "    <tr>\n",
       "      <th>59399</th>\n",
       "      <td>VWC</td>\n",
       "      <td>nira/tanira</td>\n",
       "      <td>pay when scheme fails</td>\n",
       "      <td>2011-03-23</td>\n",
       "      <td>shallow well</td>\n",
       "      <td>vwc</td>\n",
       "      <td>groundwater</td>\n",
       "      <td>enough</td>\n",
       "      <td>True</td>\n",
       "      <td>True</td>\n",
       "      <td>Wami / Ruvu</td>\n",
       "      <td>Morogoro Rural</td>\n",
       "      <td>World Bank</td>\n",
       "      <td>Morogoro</td>\n",
       "      <td>hand pump</td>\n",
       "      <td>salty</td>\n",
       "      <td>2002</td>\n",
       "    </tr>\n",
       "  </tbody>\n",
       "</table>\n",
       "<p>59400 rows × 17 columns</p>\n",
       "</div>"
      ],
      "text/plain": [
       "      scheme_management extraction_type  ... water_quality construction_year\n",
       "0                   VWC         gravity  ...          soft              1999\n",
       "1                 Other         gravity  ...          soft              2010\n",
       "2                   VWC         gravity  ...          soft              2009\n",
       "3                   VWC     submersible  ...          soft              1986\n",
       "4                   NaN         gravity  ...          soft                 0\n",
       "...                 ...             ...  ...           ...               ...\n",
       "59395       Water Board         gravity  ...          soft              1999\n",
       "59396               VWC         gravity  ...          soft              1996\n",
       "59397               VWC          swn 80  ...      fluoride                 0\n",
       "59398               VWC     nira/tanira  ...          soft                 0\n",
       "59399               VWC     nira/tanira  ...         salty              2002\n",
       "\n",
       "[59400 rows x 17 columns]"
      ]
     },
     "execution_count": 417,
     "metadata": {
      "tags": []
     },
     "output_type": "execute_result"
    }
   ],
   "source": [
    "# # For Testing Purposes\n",
    "cat_elim = CategoryElim()\n",
    "X_cat1 = cat_elim.fit_transform(X_train[cat_var])\n",
    "X_cat1"
   ]
  },
  {
   "cell_type": "markdown",
   "metadata": {
    "id": "mkM2H7POufCb"
   },
   "source": [
    "\n",
    "Categorical Preprocessor\n",
    "---\n"
   ]
  },
  {
   "cell_type": "markdown",
   "metadata": {
    "id": "oOmzmypfPeU9"
   },
   "source": [
    "Our first Categorical Preprocessor simply transform several categorical values into numerical values. \n",
    "* Firstly date will be extracted from a datetime format to just the month and year.  For e.g. (28/11/2010) -> 11 and 2010.\n",
    "* Permit which is true/false will be label encoded to become 0s and 1s.\n",
    "* Public meeting is made up of true/false values as well. However, there are many empty values that we are not able to fill. Therefore, we will convert it to true, false or unknown to perform one-hot encoding later."
   ]
  },
  {
   "cell_type": "code",
   "execution_count": 418,
   "metadata": {
    "id": "AwnYQddhuLAb"
   },
   "outputs": [],
   "source": [
    "# Convert true/false to binary and date to numerical data\n",
    "class Cat_Preprocessor1(BaseEstimator, TransformerMixin):\n",
    "    def __init__(self):\n",
    "        self.toConvert = ['date_recorded', 'permit', 'public_meeting']\n",
    "    def fit(self, X, y = None):\n",
    "        return self\n",
    "    \n",
    "    def transform(self, X, y = None):\n",
    "        X_new = X.copy()\n",
    "        for col in X_new.columns:\n",
    "          if(col == self.toConvert[0]):\n",
    "              # Convert date_recorded into numerical columns of year and month\n",
    "              X_new['year_recorded'] = X_new[col].apply(lambda x: int(x.split('-')[0]))\n",
    "              X_new['month_recorded'] = X_new[col].apply(lambda x: int(x.split('-')[1]))\n",
    "              X_new.drop([self.toConvert[0]], axis =1, inplace=True)\n",
    "          elif(col == self.toConvert[1]):\n",
    "            # Convert permit into a binary variable (true/false)\n",
    "            X_new['permit'] = X_new['permit'].astype('category')\n",
    "            X_new['permit'] = X_new['permit'].cat.codes\n",
    "            pd.to_numeric(X_new['permit'])\n",
    "\n",
    "          # Decided to leave public_meeting as True/False because of missing values\n",
    "          elif(col == self.toConvert[2]):\n",
    "            # Convert public meeting into a binary variable (true/false)\n",
    "            # X_new['public_meeting'] = X_new['public_meeting'].astype('category')\n",
    "            # X_new['public_meeting'] = X_new['public_meeting'].cat.codes\n",
    "            X_new['public_meeting'].replace(np.nan, 'unknown', inplace=True)\n",
    "            X_new['public_meeting'] = X_new['public_meeting'].astype('str')\n",
    "        return X_new"
   ]
  },
  {
   "cell_type": "markdown",
   "metadata": {
    "id": "zpu7Rb5H_shZ"
   },
   "source": [
    "We test our preprocessor to make sure that the data comes out the way we require it to be."
   ]
  },
  {
   "cell_type": "code",
   "execution_count": 419,
   "metadata": {
    "colab": {
     "base_uri": "https://localhost:8080/",
     "height": 669
    },
    "id": "StiM8COK9jb1",
    "outputId": "09add416-a5d8-4099-b8ec-ca77152f758e"
   },
   "outputs": [
    {
     "data": {
      "text/html": [
       "<div>\n",
       "<style scoped>\n",
       "    .dataframe tbody tr th:only-of-type {\n",
       "        vertical-align: middle;\n",
       "    }\n",
       "\n",
       "    .dataframe tbody tr th {\n",
       "        vertical-align: top;\n",
       "    }\n",
       "\n",
       "    .dataframe thead th {\n",
       "        text-align: right;\n",
       "    }\n",
       "</style>\n",
       "<table border=\"1\" class=\"dataframe\">\n",
       "  <thead>\n",
       "    <tr style=\"text-align: right;\">\n",
       "      <th></th>\n",
       "      <th>scheme_management</th>\n",
       "      <th>extraction_type</th>\n",
       "      <th>payment</th>\n",
       "      <th>source</th>\n",
       "      <th>management</th>\n",
       "      <th>source_class</th>\n",
       "      <th>quantity</th>\n",
       "      <th>permit</th>\n",
       "      <th>public_meeting</th>\n",
       "      <th>basin</th>\n",
       "      <th>lga</th>\n",
       "      <th>funder</th>\n",
       "      <th>region</th>\n",
       "      <th>waterpoint_type</th>\n",
       "      <th>water_quality</th>\n",
       "      <th>construction_year</th>\n",
       "      <th>year_recorded</th>\n",
       "      <th>month_recorded</th>\n",
       "    </tr>\n",
       "  </thead>\n",
       "  <tbody>\n",
       "    <tr>\n",
       "      <th>0</th>\n",
       "      <td>VWC</td>\n",
       "      <td>gravity</td>\n",
       "      <td>pay annually</td>\n",
       "      <td>spring</td>\n",
       "      <td>vwc</td>\n",
       "      <td>groundwater</td>\n",
       "      <td>enough</td>\n",
       "      <td>0</td>\n",
       "      <td>True</td>\n",
       "      <td>Lake Nyasa</td>\n",
       "      <td>Ludewa</td>\n",
       "      <td>Roman</td>\n",
       "      <td>Iringa</td>\n",
       "      <td>communal standpipe</td>\n",
       "      <td>soft</td>\n",
       "      <td>1999</td>\n",
       "      <td>2011</td>\n",
       "      <td>3</td>\n",
       "    </tr>\n",
       "    <tr>\n",
       "      <th>1</th>\n",
       "      <td>Other</td>\n",
       "      <td>gravity</td>\n",
       "      <td>never pay</td>\n",
       "      <td>rainwater harvesting</td>\n",
       "      <td>wug</td>\n",
       "      <td>surface</td>\n",
       "      <td>insufficient</td>\n",
       "      <td>1</td>\n",
       "      <td>unknown</td>\n",
       "      <td>Lake Victoria</td>\n",
       "      <td>Serengeti</td>\n",
       "      <td>Grumeti</td>\n",
       "      <td>Mara</td>\n",
       "      <td>communal standpipe</td>\n",
       "      <td>soft</td>\n",
       "      <td>2010</td>\n",
       "      <td>2013</td>\n",
       "      <td>3</td>\n",
       "    </tr>\n",
       "    <tr>\n",
       "      <th>2</th>\n",
       "      <td>VWC</td>\n",
       "      <td>gravity</td>\n",
       "      <td>pay per bucket</td>\n",
       "      <td>dam</td>\n",
       "      <td>vwc</td>\n",
       "      <td>surface</td>\n",
       "      <td>enough</td>\n",
       "      <td>1</td>\n",
       "      <td>True</td>\n",
       "      <td>Pangani</td>\n",
       "      <td>Simanjiro</td>\n",
       "      <td>Lottery Club</td>\n",
       "      <td>Manyara</td>\n",
       "      <td>communal standpipe multiple</td>\n",
       "      <td>soft</td>\n",
       "      <td>2009</td>\n",
       "      <td>2013</td>\n",
       "      <td>2</td>\n",
       "    </tr>\n",
       "    <tr>\n",
       "      <th>3</th>\n",
       "      <td>VWC</td>\n",
       "      <td>submersible</td>\n",
       "      <td>never pay</td>\n",
       "      <td>machine dbh</td>\n",
       "      <td>vwc</td>\n",
       "      <td>groundwater</td>\n",
       "      <td>dry</td>\n",
       "      <td>1</td>\n",
       "      <td>True</td>\n",
       "      <td>Ruvuma / Southern Coast</td>\n",
       "      <td>Nanyumbu</td>\n",
       "      <td>Unicef</td>\n",
       "      <td>Mtwara</td>\n",
       "      <td>communal standpipe multiple</td>\n",
       "      <td>soft</td>\n",
       "      <td>1986</td>\n",
       "      <td>2013</td>\n",
       "      <td>1</td>\n",
       "    </tr>\n",
       "    <tr>\n",
       "      <th>4</th>\n",
       "      <td>NaN</td>\n",
       "      <td>gravity</td>\n",
       "      <td>never pay</td>\n",
       "      <td>rainwater harvesting</td>\n",
       "      <td>other</td>\n",
       "      <td>surface</td>\n",
       "      <td>seasonal</td>\n",
       "      <td>1</td>\n",
       "      <td>True</td>\n",
       "      <td>Lake Victoria</td>\n",
       "      <td>Karagwe</td>\n",
       "      <td>Action In A</td>\n",
       "      <td>Kagera</td>\n",
       "      <td>communal standpipe</td>\n",
       "      <td>soft</td>\n",
       "      <td>0</td>\n",
       "      <td>2011</td>\n",
       "      <td>7</td>\n",
       "    </tr>\n",
       "    <tr>\n",
       "      <th>...</th>\n",
       "      <td>...</td>\n",
       "      <td>...</td>\n",
       "      <td>...</td>\n",
       "      <td>...</td>\n",
       "      <td>...</td>\n",
       "      <td>...</td>\n",
       "      <td>...</td>\n",
       "      <td>...</td>\n",
       "      <td>...</td>\n",
       "      <td>...</td>\n",
       "      <td>...</td>\n",
       "      <td>...</td>\n",
       "      <td>...</td>\n",
       "      <td>...</td>\n",
       "      <td>...</td>\n",
       "      <td>...</td>\n",
       "      <td>...</td>\n",
       "      <td>...</td>\n",
       "    </tr>\n",
       "    <tr>\n",
       "      <th>59395</th>\n",
       "      <td>Water Board</td>\n",
       "      <td>gravity</td>\n",
       "      <td>pay per bucket</td>\n",
       "      <td>spring</td>\n",
       "      <td>water board</td>\n",
       "      <td>groundwater</td>\n",
       "      <td>enough</td>\n",
       "      <td>1</td>\n",
       "      <td>True</td>\n",
       "      <td>Pangani</td>\n",
       "      <td>Hai</td>\n",
       "      <td>Germany Republi</td>\n",
       "      <td>Kilimanjaro</td>\n",
       "      <td>communal standpipe</td>\n",
       "      <td>soft</td>\n",
       "      <td>1999</td>\n",
       "      <td>2013</td>\n",
       "      <td>5</td>\n",
       "    </tr>\n",
       "    <tr>\n",
       "      <th>59396</th>\n",
       "      <td>VWC</td>\n",
       "      <td>gravity</td>\n",
       "      <td>pay annually</td>\n",
       "      <td>river</td>\n",
       "      <td>vwc</td>\n",
       "      <td>surface</td>\n",
       "      <td>enough</td>\n",
       "      <td>1</td>\n",
       "      <td>True</td>\n",
       "      <td>Rufiji</td>\n",
       "      <td>Njombe</td>\n",
       "      <td>Cefa-njombe</td>\n",
       "      <td>Iringa</td>\n",
       "      <td>communal standpipe</td>\n",
       "      <td>soft</td>\n",
       "      <td>1996</td>\n",
       "      <td>2011</td>\n",
       "      <td>5</td>\n",
       "    </tr>\n",
       "    <tr>\n",
       "      <th>59397</th>\n",
       "      <td>VWC</td>\n",
       "      <td>swn 80</td>\n",
       "      <td>pay monthly</td>\n",
       "      <td>machine dbh</td>\n",
       "      <td>vwc</td>\n",
       "      <td>groundwater</td>\n",
       "      <td>enough</td>\n",
       "      <td>0</td>\n",
       "      <td>True</td>\n",
       "      <td>Rufiji</td>\n",
       "      <td>Mbarali</td>\n",
       "      <td>NaN</td>\n",
       "      <td>Mbeya</td>\n",
       "      <td>hand pump</td>\n",
       "      <td>fluoride</td>\n",
       "      <td>0</td>\n",
       "      <td>2011</td>\n",
       "      <td>4</td>\n",
       "    </tr>\n",
       "    <tr>\n",
       "      <th>59398</th>\n",
       "      <td>VWC</td>\n",
       "      <td>nira/tanira</td>\n",
       "      <td>never pay</td>\n",
       "      <td>shallow well</td>\n",
       "      <td>vwc</td>\n",
       "      <td>groundwater</td>\n",
       "      <td>insufficient</td>\n",
       "      <td>1</td>\n",
       "      <td>True</td>\n",
       "      <td>Rufiji</td>\n",
       "      <td>Chamwino</td>\n",
       "      <td>Malec</td>\n",
       "      <td>Dodoma</td>\n",
       "      <td>hand pump</td>\n",
       "      <td>soft</td>\n",
       "      <td>0</td>\n",
       "      <td>2011</td>\n",
       "      <td>3</td>\n",
       "    </tr>\n",
       "    <tr>\n",
       "      <th>59399</th>\n",
       "      <td>VWC</td>\n",
       "      <td>nira/tanira</td>\n",
       "      <td>pay when scheme fails</td>\n",
       "      <td>shallow well</td>\n",
       "      <td>vwc</td>\n",
       "      <td>groundwater</td>\n",
       "      <td>enough</td>\n",
       "      <td>1</td>\n",
       "      <td>True</td>\n",
       "      <td>Wami / Ruvu</td>\n",
       "      <td>Morogoro Rural</td>\n",
       "      <td>World Bank</td>\n",
       "      <td>Morogoro</td>\n",
       "      <td>hand pump</td>\n",
       "      <td>salty</td>\n",
       "      <td>2002</td>\n",
       "      <td>2011</td>\n",
       "      <td>3</td>\n",
       "    </tr>\n",
       "  </tbody>\n",
       "</table>\n",
       "<p>59400 rows × 18 columns</p>\n",
       "</div>"
      ],
      "text/plain": [
       "      scheme_management extraction_type  ... year_recorded month_recorded\n",
       "0                   VWC         gravity  ...          2011              3\n",
       "1                 Other         gravity  ...          2013              3\n",
       "2                   VWC         gravity  ...          2013              2\n",
       "3                   VWC     submersible  ...          2013              1\n",
       "4                   NaN         gravity  ...          2011              7\n",
       "...                 ...             ...  ...           ...            ...\n",
       "59395       Water Board         gravity  ...          2013              5\n",
       "59396               VWC         gravity  ...          2011              5\n",
       "59397               VWC          swn 80  ...          2011              4\n",
       "59398               VWC     nira/tanira  ...          2011              3\n",
       "59399               VWC     nira/tanira  ...          2011              3\n",
       "\n",
       "[59400 rows x 18 columns]"
      ]
     },
     "execution_count": 419,
     "metadata": {
      "tags": []
     },
     "output_type": "execute_result"
    }
   ],
   "source": [
    "# # For Testing Purposes\n",
    "cat_proc1 = Cat_Preprocessor1()\n",
    "X_cat2 = cat_proc1.fit_transform(X_cat1)\n",
    "X_cat2\n",
    "\n",
    "# Note that there is one additional column after Cat_Preprocessor1 as date recorded is split into month and year."
   ]
  },
  {
   "cell_type": "markdown",
   "metadata": {
    "id": "8CUqTDT6PZDx"
   },
   "source": [
    "\n",
    "We also have a second preprocessor for categorical data that deals with categories that have way too many different unique values.\n",
    "\n",
    "This is to handle cases where there are a decent amount of unique values, but the number of entries for each value is significant enough to consider in the model.\n",
    "\n",
    "For our preprocessor, we put an arbitrary value of 5 such that any values outside of the top 5 most common values for that category will get transformed as \"Others\".\n",
    "\n",
    "For e.g. if funder had many unique values ['Government of Tanzania', 'Danida', 'Hesawa', 'Rwssp', 'World Bank', 'kkkt' ...],\n",
    "Only the top 5 will be considered and the remanining values will be grouped as others."
   ]
  },
  {
   "cell_type": "code",
   "execution_count": 420,
   "metadata": {
    "id": "OWk7EUXpIiMc"
   },
   "outputs": [],
   "source": [
    "def topXConversion(row, val_kept, colName):\n",
    "  if row[colName] in val_kept:\n",
    "    return row[colName]\n",
    "  else:\n",
    "    return 'other'\n",
    "\n",
    "# topX refer to number of unique labels to be kept.\n",
    "class Cat_Preprocessor2(BaseEstimator, TransformerMixin):\n",
    "    def __init__(self, topX = 5):\n",
    "        self.topX = topX\n",
    "        self.rows = []\n",
    "\n",
    "    def fit(self, X, y = None):\n",
    "        for col in X:\n",
    "          topRows = []\n",
    "          # Return the value count of the column in a list format\n",
    "          val_counts = list(X[col].value_counts().index)\n",
    "\n",
    "          # Checks if original unique values are already less than topX\n",
    "          if(len(val_counts) < self.topX):\n",
    "            topRows.append(val_counts)\n",
    "\n",
    "          else:\n",
    "            # Extract names of top rows based on topX number \n",
    "            for i in range(self.topX):\n",
    "              topRows.append(val_counts[i])\n",
    "            # Tells self.rows which values to keep in a 2d matrix form.\n",
    "          self.rows.append(topRows)\n",
    "        return self\n",
    "    \n",
    "\n",
    "    # Restrict number of unique values such that small values will be grouped under others\n",
    "    def transform(self, X, y = None):\n",
    "        X_new = X.copy()\n",
    "        # Loop through all the columns that was found in fit function earlier \n",
    "        for i in range(len(self.rows)):\n",
    "          # val_kept describes all the rows that should be leftover after cutoff\n",
    "          val_kept = self.rows[i]\n",
    "          current_col = list(X_new.columns)[i]\n",
    "          X_new[current_col] = X_new.apply(lambda row: topXConversion(row, val_kept, current_col), axis =1)\n",
    "        \n",
    "        return X_new"
   ]
  },
  {
   "cell_type": "markdown",
   "metadata": {
    "id": "oV9lIKueABmR"
   },
   "source": [
    "Once again, we test our second preprocessor to make sure that the data is being processed adequately"
   ]
  },
  {
   "cell_type": "code",
   "execution_count": 421,
   "metadata": {
    "colab": {
     "base_uri": "https://localhost:8080/",
     "height": 635
    },
    "id": "pirlBGXnu46z",
    "outputId": "6aa00805-3ba3-47e8-a9c8-b209866c1892"
   },
   "outputs": [
    {
     "data": {
      "text/html": [
       "<div>\n",
       "<style scoped>\n",
       "    .dataframe tbody tr th:only-of-type {\n",
       "        vertical-align: middle;\n",
       "    }\n",
       "\n",
       "    .dataframe tbody tr th {\n",
       "        vertical-align: top;\n",
       "    }\n",
       "\n",
       "    .dataframe thead th {\n",
       "        text-align: right;\n",
       "    }\n",
       "</style>\n",
       "<table border=\"1\" class=\"dataframe\">\n",
       "  <thead>\n",
       "    <tr style=\"text-align: right;\">\n",
       "      <th></th>\n",
       "      <th>scheme_management</th>\n",
       "      <th>extraction_type</th>\n",
       "      <th>payment</th>\n",
       "      <th>date_recorded</th>\n",
       "      <th>source</th>\n",
       "      <th>management</th>\n",
       "      <th>source_class</th>\n",
       "      <th>quantity</th>\n",
       "      <th>permit</th>\n",
       "      <th>public_meeting</th>\n",
       "      <th>basin</th>\n",
       "      <th>lga</th>\n",
       "      <th>funder</th>\n",
       "      <th>region</th>\n",
       "      <th>waterpoint_type</th>\n",
       "      <th>water_quality</th>\n",
       "      <th>construction_year</th>\n",
       "    </tr>\n",
       "  </thead>\n",
       "  <tbody>\n",
       "    <tr>\n",
       "      <th>0</th>\n",
       "      <td>VWC</td>\n",
       "      <td>gravity</td>\n",
       "      <td>other</td>\n",
       "      <td>2011-03-14</td>\n",
       "      <td>spring</td>\n",
       "      <td>vwc</td>\n",
       "      <td>other</td>\n",
       "      <td>enough</td>\n",
       "      <td>other</td>\n",
       "      <td>other</td>\n",
       "      <td>other</td>\n",
       "      <td>other</td>\n",
       "      <td>other</td>\n",
       "      <td>Iringa</td>\n",
       "      <td>communal standpipe</td>\n",
       "      <td>soft</td>\n",
       "      <td>other</td>\n",
       "    </tr>\n",
       "    <tr>\n",
       "      <th>1</th>\n",
       "      <td>other</td>\n",
       "      <td>gravity</td>\n",
       "      <td>never pay</td>\n",
       "      <td>other</td>\n",
       "      <td>rainwater harvesting</td>\n",
       "      <td>wug</td>\n",
       "      <td>other</td>\n",
       "      <td>insufficient</td>\n",
       "      <td>other</td>\n",
       "      <td>other</td>\n",
       "      <td>Lake Victoria</td>\n",
       "      <td>other</td>\n",
       "      <td>other</td>\n",
       "      <td>other</td>\n",
       "      <td>communal standpipe</td>\n",
       "      <td>soft</td>\n",
       "      <td>2010</td>\n",
       "    </tr>\n",
       "    <tr>\n",
       "      <th>2</th>\n",
       "      <td>VWC</td>\n",
       "      <td>gravity</td>\n",
       "      <td>pay per bucket</td>\n",
       "      <td>other</td>\n",
       "      <td>other</td>\n",
       "      <td>vwc</td>\n",
       "      <td>other</td>\n",
       "      <td>enough</td>\n",
       "      <td>other</td>\n",
       "      <td>other</td>\n",
       "      <td>Pangani</td>\n",
       "      <td>other</td>\n",
       "      <td>other</td>\n",
       "      <td>other</td>\n",
       "      <td>communal standpipe multiple</td>\n",
       "      <td>soft</td>\n",
       "      <td>2009</td>\n",
       "    </tr>\n",
       "    <tr>\n",
       "      <th>3</th>\n",
       "      <td>VWC</td>\n",
       "      <td>submersible</td>\n",
       "      <td>never pay</td>\n",
       "      <td>other</td>\n",
       "      <td>machine dbh</td>\n",
       "      <td>vwc</td>\n",
       "      <td>other</td>\n",
       "      <td>dry</td>\n",
       "      <td>other</td>\n",
       "      <td>other</td>\n",
       "      <td>other</td>\n",
       "      <td>other</td>\n",
       "      <td>other</td>\n",
       "      <td>other</td>\n",
       "      <td>communal standpipe multiple</td>\n",
       "      <td>soft</td>\n",
       "      <td>other</td>\n",
       "    </tr>\n",
       "    <tr>\n",
       "      <th>4</th>\n",
       "      <td>other</td>\n",
       "      <td>gravity</td>\n",
       "      <td>never pay</td>\n",
       "      <td>other</td>\n",
       "      <td>rainwater harvesting</td>\n",
       "      <td>other</td>\n",
       "      <td>other</td>\n",
       "      <td>seasonal</td>\n",
       "      <td>other</td>\n",
       "      <td>other</td>\n",
       "      <td>Lake Victoria</td>\n",
       "      <td>other</td>\n",
       "      <td>other</td>\n",
       "      <td>other</td>\n",
       "      <td>communal standpipe</td>\n",
       "      <td>soft</td>\n",
       "      <td>0</td>\n",
       "    </tr>\n",
       "    <tr>\n",
       "      <th>...</th>\n",
       "      <td>...</td>\n",
       "      <td>...</td>\n",
       "      <td>...</td>\n",
       "      <td>...</td>\n",
       "      <td>...</td>\n",
       "      <td>...</td>\n",
       "      <td>...</td>\n",
       "      <td>...</td>\n",
       "      <td>...</td>\n",
       "      <td>...</td>\n",
       "      <td>...</td>\n",
       "      <td>...</td>\n",
       "      <td>...</td>\n",
       "      <td>...</td>\n",
       "      <td>...</td>\n",
       "      <td>...</td>\n",
       "      <td>...</td>\n",
       "    </tr>\n",
       "    <tr>\n",
       "      <th>59395</th>\n",
       "      <td>Water Board</td>\n",
       "      <td>gravity</td>\n",
       "      <td>pay per bucket</td>\n",
       "      <td>other</td>\n",
       "      <td>spring</td>\n",
       "      <td>water board</td>\n",
       "      <td>other</td>\n",
       "      <td>enough</td>\n",
       "      <td>other</td>\n",
       "      <td>other</td>\n",
       "      <td>Pangani</td>\n",
       "      <td>other</td>\n",
       "      <td>other</td>\n",
       "      <td>Kilimanjaro</td>\n",
       "      <td>communal standpipe</td>\n",
       "      <td>soft</td>\n",
       "      <td>other</td>\n",
       "    </tr>\n",
       "    <tr>\n",
       "      <th>59396</th>\n",
       "      <td>VWC</td>\n",
       "      <td>gravity</td>\n",
       "      <td>other</td>\n",
       "      <td>other</td>\n",
       "      <td>river</td>\n",
       "      <td>vwc</td>\n",
       "      <td>other</td>\n",
       "      <td>enough</td>\n",
       "      <td>other</td>\n",
       "      <td>other</td>\n",
       "      <td>Rufiji</td>\n",
       "      <td>Njombe</td>\n",
       "      <td>other</td>\n",
       "      <td>Iringa</td>\n",
       "      <td>communal standpipe</td>\n",
       "      <td>soft</td>\n",
       "      <td>other</td>\n",
       "    </tr>\n",
       "    <tr>\n",
       "      <th>59397</th>\n",
       "      <td>VWC</td>\n",
       "      <td>swn 80</td>\n",
       "      <td>pay monthly</td>\n",
       "      <td>other</td>\n",
       "      <td>machine dbh</td>\n",
       "      <td>vwc</td>\n",
       "      <td>other</td>\n",
       "      <td>enough</td>\n",
       "      <td>other</td>\n",
       "      <td>other</td>\n",
       "      <td>Rufiji</td>\n",
       "      <td>other</td>\n",
       "      <td>other</td>\n",
       "      <td>Mbeya</td>\n",
       "      <td>hand pump</td>\n",
       "      <td>other</td>\n",
       "      <td>0</td>\n",
       "    </tr>\n",
       "    <tr>\n",
       "      <th>59398</th>\n",
       "      <td>VWC</td>\n",
       "      <td>nira/tanira</td>\n",
       "      <td>never pay</td>\n",
       "      <td>other</td>\n",
       "      <td>shallow well</td>\n",
       "      <td>vwc</td>\n",
       "      <td>other</td>\n",
       "      <td>insufficient</td>\n",
       "      <td>other</td>\n",
       "      <td>other</td>\n",
       "      <td>Rufiji</td>\n",
       "      <td>other</td>\n",
       "      <td>other</td>\n",
       "      <td>other</td>\n",
       "      <td>hand pump</td>\n",
       "      <td>soft</td>\n",
       "      <td>0</td>\n",
       "    </tr>\n",
       "    <tr>\n",
       "      <th>59399</th>\n",
       "      <td>VWC</td>\n",
       "      <td>nira/tanira</td>\n",
       "      <td>pay when scheme fails</td>\n",
       "      <td>other</td>\n",
       "      <td>shallow well</td>\n",
       "      <td>vwc</td>\n",
       "      <td>other</td>\n",
       "      <td>enough</td>\n",
       "      <td>other</td>\n",
       "      <td>other</td>\n",
       "      <td>other</td>\n",
       "      <td>other</td>\n",
       "      <td>World Bank</td>\n",
       "      <td>Morogoro</td>\n",
       "      <td>hand pump</td>\n",
       "      <td>salty</td>\n",
       "      <td>other</td>\n",
       "    </tr>\n",
       "  </tbody>\n",
       "</table>\n",
       "<p>59400 rows × 17 columns</p>\n",
       "</div>"
      ],
      "text/plain": [
       "      scheme_management extraction_type  ... water_quality construction_year\n",
       "0                   VWC         gravity  ...          soft             other\n",
       "1                 other         gravity  ...          soft              2010\n",
       "2                   VWC         gravity  ...          soft              2009\n",
       "3                   VWC     submersible  ...          soft             other\n",
       "4                 other         gravity  ...          soft                 0\n",
       "...                 ...             ...  ...           ...               ...\n",
       "59395       Water Board         gravity  ...          soft             other\n",
       "59396               VWC         gravity  ...          soft             other\n",
       "59397               VWC          swn 80  ...         other                 0\n",
       "59398               VWC     nira/tanira  ...          soft                 0\n",
       "59399               VWC     nira/tanira  ...         salty             other\n",
       "\n",
       "[59400 rows x 17 columns]"
      ]
     },
     "execution_count": 421,
     "metadata": {
      "tags": []
     },
     "output_type": "execute_result"
    }
   ],
   "source": [
    "# # For Testing Purposes\n",
    "cat_proc2 = Cat_Preprocessor2()\n",
    "X_cat3 = cat_proc2.fit_transform(X_cat1)\n",
    "X_cat3"
   ]
  },
  {
   "cell_type": "markdown",
   "metadata": {
    "id": "j9XYVT3UvRW0"
   },
   "source": [
    "As seem in the test dataset from running the code above, the preprocessor has transformed many of the values for categorical variables into others to reduce the number of unique variables."
   ]
  },
  {
   "cell_type": "code",
   "execution_count": 422,
   "metadata": {
    "colab": {
     "base_uri": "https://localhost:8080/"
    },
    "id": "Or104gby2hmg",
    "outputId": "cba115f8-e10c-4398-89e0-a3b5e423c84f"
   },
   "outputs": [
    {
     "data": {
      "text/plain": [
       "other              18019\n",
       "Lake Victoria      10248\n",
       "Pangani             8940\n",
       "Rufiji              7976\n",
       "Internal            7785\n",
       "Lake Tanganyika     6432\n",
       "Name: basin, dtype: int64"
      ]
     },
     "execution_count": 422,
     "metadata": {
      "tags": []
     },
     "output_type": "execute_result"
    }
   ],
   "source": [
    "X_cat3['basin'].value_counts()"
   ]
  },
  {
   "cell_type": "markdown",
   "metadata": {
    "id": "w8NmkJM_SxC_"
   },
   "source": [
    "For testing, we can see that basin is separated into the top 5 values and others. In this case, we can see that there is a disproportionate amount of 'other' in this dataset. This suggests that there are too many groups or independent values in 'basin'. \n",
    "\n",
    "As a good practice, we left topX as a hyperparameter so that we might try to increase the number of details later. However for now, we will stick to a value of 5."
   ]
  },
  {
   "cell_type": "markdown",
   "metadata": {
    "id": "MYkgPp2aTp9B"
   },
   "source": [
    "Now, we write our one hot encoding class that looks for all of the non-numerical variables and encode them automatically."
   ]
  },
  {
   "cell_type": "code",
   "execution_count": 423,
   "metadata": {
    "id": "99PCDSWpBe9x"
   },
   "outputs": [],
   "source": [
    "# Manually constructed one hot encoding class\n",
    "class OneHotEncoding(BaseEstimator, TransformerMixin):\n",
    "    def __init__(self):\n",
    "        self.include = []\n",
    "    def fit(self, X, y = None):\n",
    "        X = pd.DataFrame(X)\n",
    "        self.include.extend(list(X.select_dtypes(exclude=numerics).columns))\n",
    "        return self\n",
    "    \n",
    "    def transform(self, X, y = None):\n",
    "        X = pd.DataFrame(X)\n",
    "        encoded = pd.get_dummies(X, columns=self.include)\n",
    "        return encoded"
   ]
  },
  {
   "cell_type": "markdown",
   "metadata": {
    "id": "Ss6n2kYDKkHO"
   },
   "source": [
    "\n",
    "Categorical Transformer\n",
    "---\n",
    "\n"
   ]
  },
  {
   "cell_type": "markdown",
   "metadata": {
    "id": "YbizPfT5AUb7"
   },
   "source": [
    "We write a simple transformer to convert arrays into a dataframe with column post ColumnTransformer transformation. This is to allow the data output by the first preprocessor to be processed by the second preprocessor, since the output of the first preprocessor is in array form, but the input required is a dataframe."
   ]
  },
  {
   "cell_type": "code",
   "execution_count": 424,
   "metadata": {
    "id": "-9nbu3mNz-vi"
   },
   "outputs": [],
   "source": [
    "# Simple Transformer to convert array (after Column Transformer) into DataFrame with columns\n",
    "class toDataFrame(BaseEstimator, TransformerMixin):\n",
    "    def __init__(self):\n",
    "        self.num = ['permit', 'year_recorded', 'month_recorded']\n",
    "        self.all = ['permit', 'public_meeting', 'year_recorded', 'month_recorded', 'construction_year', 'management', \n",
    "                    'extraction_type', 'region', 'source', 'quantity', 'scheme_management', 'basin', 'waterpoint_type', \n",
    "                    'payment', 'funder', 'water_quality', 'source_class', 'lga']\n",
    "\n",
    "    def fit(self, X, y = None):\n",
    "        return self\n",
    "    \n",
    "    def transform(self, X, y = None):\n",
    "        X_new = pd.DataFrame(X)\n",
    "        X_new.columns = self.all\n",
    "        X_new[self.num] = X_new[self.num].apply(pd.to_numeric)\n",
    "        return X_new"
   ]
  },
  {
   "cell_type": "markdown",
   "metadata": {
    "id": "PKW4r1OYAvsf"
   },
   "source": [
    "We then group the features into the different categorical groups to be processed by different transformers.\n",
    "\n",
    "We combine our two preprocessors with the intermediary transformer in between to chain the method calls and complete our categorical transformer."
   ]
  },
  {
   "cell_type": "code",
   "execution_count": 425,
   "metadata": {
    "id": "RnnPXta0aXsv"
   },
   "outputs": [],
   "source": [
    " cat1_features = ['date_recorded', 'permit', 'public_meeting']\n",
    " cat2_features = ['management', 'extraction_type', 'region', 'source', 'quantity',\n",
    "       'scheme_management', 'basin', 'waterpoint_type', 'payment', 'funder', 'water_quality',\n",
    "       'source_class', 'lga']\n",
    "\n",
    "cat_converter = ColumnTransformer(transformers= [('cat1_process', Cat_Preprocessor1(), cat1_features),\n",
    "                                                 ('construction_trf', ConstructionTransformer(), ['construction_year']),\n",
    "                                                 ('cat2_process', Cat_Preprocessor2(), cat2_features)])\n",
    "\n",
    "cat_transformer = Pipeline(steps = [('cat_elim', CategoryElim()),\n",
    "                                    ('cat_convert', cat_converter),\n",
    "                                    ('to_df', toDataFrame()),\n",
    "                                    ('ohe', OneHotEncoding())\n",
    "                                    ])"
   ]
  },
  {
   "cell_type": "code",
   "execution_count": 426,
   "metadata": {
    "colab": {
     "base_uri": "https://localhost:8080/",
     "height": 462
    },
    "id": "0SAGv86-9m8N",
    "outputId": "dd6be073-74ec-463c-db39-1d7a54a43a6e"
   },
   "outputs": [
    {
     "data": {
      "text/html": [
       "<div>\n",
       "<style scoped>\n",
       "    .dataframe tbody tr th:only-of-type {\n",
       "        vertical-align: middle;\n",
       "    }\n",
       "\n",
       "    .dataframe tbody tr th {\n",
       "        vertical-align: top;\n",
       "    }\n",
       "\n",
       "    .dataframe thead th {\n",
       "        text-align: right;\n",
       "    }\n",
       "</style>\n",
       "<table border=\"1\" class=\"dataframe\">\n",
       "  <thead>\n",
       "    <tr style=\"text-align: right;\">\n",
       "      <th></th>\n",
       "      <th>permit</th>\n",
       "      <th>year_recorded</th>\n",
       "      <th>month_recorded</th>\n",
       "      <th>public_meeting_False</th>\n",
       "      <th>public_meeting_True</th>\n",
       "      <th>public_meeting_unknown</th>\n",
       "      <th>construction_year_00s</th>\n",
       "      <th>construction_year_10s</th>\n",
       "      <th>construction_year_60s</th>\n",
       "      <th>construction_year_70s</th>\n",
       "      <th>construction_year_80s</th>\n",
       "      <th>construction_year_90s</th>\n",
       "      <th>construction_year_unknown</th>\n",
       "      <th>management_other</th>\n",
       "      <th>management_private operator</th>\n",
       "      <th>management_vwc</th>\n",
       "      <th>management_water board</th>\n",
       "      <th>management_wua</th>\n",
       "      <th>management_wug</th>\n",
       "      <th>extraction_type_gravity</th>\n",
       "      <th>extraction_type_nira/tanira</th>\n",
       "      <th>extraction_type_other</th>\n",
       "      <th>extraction_type_submersible</th>\n",
       "      <th>extraction_type_swn 80</th>\n",
       "      <th>region_Iringa</th>\n",
       "      <th>region_Kilimanjaro</th>\n",
       "      <th>region_Mbeya</th>\n",
       "      <th>region_Morogoro</th>\n",
       "      <th>region_Shinyanga</th>\n",
       "      <th>region_other</th>\n",
       "      <th>source_machine dbh</th>\n",
       "      <th>source_other</th>\n",
       "      <th>source_rainwater harvesting</th>\n",
       "      <th>source_river</th>\n",
       "      <th>source_shallow well</th>\n",
       "      <th>source_spring</th>\n",
       "      <th>quantity_dry</th>\n",
       "      <th>quantity_enough</th>\n",
       "      <th>quantity_insufficient</th>\n",
       "      <th>quantity_seasonal</th>\n",
       "      <th>...</th>\n",
       "      <th>scheme_management_WUG</th>\n",
       "      <th>scheme_management_Water Board</th>\n",
       "      <th>scheme_management_Water authority</th>\n",
       "      <th>scheme_management_other</th>\n",
       "      <th>basin_Internal</th>\n",
       "      <th>basin_Lake Tanganyika</th>\n",
       "      <th>basin_Lake Victoria</th>\n",
       "      <th>basin_Pangani</th>\n",
       "      <th>basin_Rufiji</th>\n",
       "      <th>basin_other</th>\n",
       "      <th>waterpoint_type_communal standpipe</th>\n",
       "      <th>waterpoint_type_communal standpipe multiple</th>\n",
       "      <th>waterpoint_type_hand pump</th>\n",
       "      <th>waterpoint_type_improved spring</th>\n",
       "      <th>waterpoint_type_other</th>\n",
       "      <th>payment_never pay</th>\n",
       "      <th>payment_other</th>\n",
       "      <th>payment_pay monthly</th>\n",
       "      <th>payment_pay per bucket</th>\n",
       "      <th>payment_pay when scheme fails</th>\n",
       "      <th>payment_unknown</th>\n",
       "      <th>funder_Danida</th>\n",
       "      <th>funder_Government Of Tanzania</th>\n",
       "      <th>funder_Hesawa</th>\n",
       "      <th>funder_Rwssp</th>\n",
       "      <th>funder_World Bank</th>\n",
       "      <th>funder_other</th>\n",
       "      <th>water_quality_coloured</th>\n",
       "      <th>water_quality_milky</th>\n",
       "      <th>water_quality_other</th>\n",
       "      <th>water_quality_salty</th>\n",
       "      <th>water_quality_soft</th>\n",
       "      <th>water_quality_unknown</th>\n",
       "      <th>source_class_other</th>\n",
       "      <th>lga_Arusha Rural</th>\n",
       "      <th>lga_Bariadi</th>\n",
       "      <th>lga_Moshi Rural</th>\n",
       "      <th>lga_Njombe</th>\n",
       "      <th>lga_Rungwe</th>\n",
       "      <th>lga_other</th>\n",
       "    </tr>\n",
       "  </thead>\n",
       "  <tbody>\n",
       "    <tr>\n",
       "      <th>0</th>\n",
       "      <td>0</td>\n",
       "      <td>2011</td>\n",
       "      <td>3</td>\n",
       "      <td>0</td>\n",
       "      <td>1</td>\n",
       "      <td>0</td>\n",
       "      <td>0</td>\n",
       "      <td>0</td>\n",
       "      <td>0</td>\n",
       "      <td>0</td>\n",
       "      <td>0</td>\n",
       "      <td>1</td>\n",
       "      <td>0</td>\n",
       "      <td>0</td>\n",
       "      <td>0</td>\n",
       "      <td>1</td>\n",
       "      <td>0</td>\n",
       "      <td>0</td>\n",
       "      <td>0</td>\n",
       "      <td>1</td>\n",
       "      <td>0</td>\n",
       "      <td>0</td>\n",
       "      <td>0</td>\n",
       "      <td>0</td>\n",
       "      <td>1</td>\n",
       "      <td>0</td>\n",
       "      <td>0</td>\n",
       "      <td>0</td>\n",
       "      <td>0</td>\n",
       "      <td>0</td>\n",
       "      <td>0</td>\n",
       "      <td>0</td>\n",
       "      <td>0</td>\n",
       "      <td>0</td>\n",
       "      <td>0</td>\n",
       "      <td>1</td>\n",
       "      <td>0</td>\n",
       "      <td>1</td>\n",
       "      <td>0</td>\n",
       "      <td>0</td>\n",
       "      <td>...</td>\n",
       "      <td>0</td>\n",
       "      <td>0</td>\n",
       "      <td>0</td>\n",
       "      <td>0</td>\n",
       "      <td>0</td>\n",
       "      <td>0</td>\n",
       "      <td>0</td>\n",
       "      <td>0</td>\n",
       "      <td>0</td>\n",
       "      <td>1</td>\n",
       "      <td>1</td>\n",
       "      <td>0</td>\n",
       "      <td>0</td>\n",
       "      <td>0</td>\n",
       "      <td>0</td>\n",
       "      <td>0</td>\n",
       "      <td>1</td>\n",
       "      <td>0</td>\n",
       "      <td>0</td>\n",
       "      <td>0</td>\n",
       "      <td>0</td>\n",
       "      <td>0</td>\n",
       "      <td>0</td>\n",
       "      <td>0</td>\n",
       "      <td>0</td>\n",
       "      <td>0</td>\n",
       "      <td>1</td>\n",
       "      <td>0</td>\n",
       "      <td>0</td>\n",
       "      <td>0</td>\n",
       "      <td>0</td>\n",
       "      <td>1</td>\n",
       "      <td>0</td>\n",
       "      <td>1</td>\n",
       "      <td>0</td>\n",
       "      <td>0</td>\n",
       "      <td>0</td>\n",
       "      <td>0</td>\n",
       "      <td>0</td>\n",
       "      <td>1</td>\n",
       "    </tr>\n",
       "    <tr>\n",
       "      <th>1</th>\n",
       "      <td>1</td>\n",
       "      <td>2013</td>\n",
       "      <td>3</td>\n",
       "      <td>0</td>\n",
       "      <td>0</td>\n",
       "      <td>1</td>\n",
       "      <td>0</td>\n",
       "      <td>1</td>\n",
       "      <td>0</td>\n",
       "      <td>0</td>\n",
       "      <td>0</td>\n",
       "      <td>0</td>\n",
       "      <td>0</td>\n",
       "      <td>0</td>\n",
       "      <td>0</td>\n",
       "      <td>0</td>\n",
       "      <td>0</td>\n",
       "      <td>0</td>\n",
       "      <td>1</td>\n",
       "      <td>1</td>\n",
       "      <td>0</td>\n",
       "      <td>0</td>\n",
       "      <td>0</td>\n",
       "      <td>0</td>\n",
       "      <td>0</td>\n",
       "      <td>0</td>\n",
       "      <td>0</td>\n",
       "      <td>0</td>\n",
       "      <td>0</td>\n",
       "      <td>1</td>\n",
       "      <td>0</td>\n",
       "      <td>0</td>\n",
       "      <td>1</td>\n",
       "      <td>0</td>\n",
       "      <td>0</td>\n",
       "      <td>0</td>\n",
       "      <td>0</td>\n",
       "      <td>0</td>\n",
       "      <td>1</td>\n",
       "      <td>0</td>\n",
       "      <td>...</td>\n",
       "      <td>0</td>\n",
       "      <td>0</td>\n",
       "      <td>0</td>\n",
       "      <td>1</td>\n",
       "      <td>0</td>\n",
       "      <td>0</td>\n",
       "      <td>1</td>\n",
       "      <td>0</td>\n",
       "      <td>0</td>\n",
       "      <td>0</td>\n",
       "      <td>1</td>\n",
       "      <td>0</td>\n",
       "      <td>0</td>\n",
       "      <td>0</td>\n",
       "      <td>0</td>\n",
       "      <td>1</td>\n",
       "      <td>0</td>\n",
       "      <td>0</td>\n",
       "      <td>0</td>\n",
       "      <td>0</td>\n",
       "      <td>0</td>\n",
       "      <td>0</td>\n",
       "      <td>0</td>\n",
       "      <td>0</td>\n",
       "      <td>0</td>\n",
       "      <td>0</td>\n",
       "      <td>1</td>\n",
       "      <td>0</td>\n",
       "      <td>0</td>\n",
       "      <td>0</td>\n",
       "      <td>0</td>\n",
       "      <td>1</td>\n",
       "      <td>0</td>\n",
       "      <td>1</td>\n",
       "      <td>0</td>\n",
       "      <td>0</td>\n",
       "      <td>0</td>\n",
       "      <td>0</td>\n",
       "      <td>0</td>\n",
       "      <td>1</td>\n",
       "    </tr>\n",
       "    <tr>\n",
       "      <th>2</th>\n",
       "      <td>1</td>\n",
       "      <td>2013</td>\n",
       "      <td>2</td>\n",
       "      <td>0</td>\n",
       "      <td>1</td>\n",
       "      <td>0</td>\n",
       "      <td>1</td>\n",
       "      <td>0</td>\n",
       "      <td>0</td>\n",
       "      <td>0</td>\n",
       "      <td>0</td>\n",
       "      <td>0</td>\n",
       "      <td>0</td>\n",
       "      <td>0</td>\n",
       "      <td>0</td>\n",
       "      <td>1</td>\n",
       "      <td>0</td>\n",
       "      <td>0</td>\n",
       "      <td>0</td>\n",
       "      <td>1</td>\n",
       "      <td>0</td>\n",
       "      <td>0</td>\n",
       "      <td>0</td>\n",
       "      <td>0</td>\n",
       "      <td>0</td>\n",
       "      <td>0</td>\n",
       "      <td>0</td>\n",
       "      <td>0</td>\n",
       "      <td>0</td>\n",
       "      <td>1</td>\n",
       "      <td>0</td>\n",
       "      <td>1</td>\n",
       "      <td>0</td>\n",
       "      <td>0</td>\n",
       "      <td>0</td>\n",
       "      <td>0</td>\n",
       "      <td>0</td>\n",
       "      <td>1</td>\n",
       "      <td>0</td>\n",
       "      <td>0</td>\n",
       "      <td>...</td>\n",
       "      <td>0</td>\n",
       "      <td>0</td>\n",
       "      <td>0</td>\n",
       "      <td>0</td>\n",
       "      <td>0</td>\n",
       "      <td>0</td>\n",
       "      <td>0</td>\n",
       "      <td>1</td>\n",
       "      <td>0</td>\n",
       "      <td>0</td>\n",
       "      <td>0</td>\n",
       "      <td>1</td>\n",
       "      <td>0</td>\n",
       "      <td>0</td>\n",
       "      <td>0</td>\n",
       "      <td>0</td>\n",
       "      <td>0</td>\n",
       "      <td>0</td>\n",
       "      <td>1</td>\n",
       "      <td>0</td>\n",
       "      <td>0</td>\n",
       "      <td>0</td>\n",
       "      <td>0</td>\n",
       "      <td>0</td>\n",
       "      <td>0</td>\n",
       "      <td>0</td>\n",
       "      <td>1</td>\n",
       "      <td>0</td>\n",
       "      <td>0</td>\n",
       "      <td>0</td>\n",
       "      <td>0</td>\n",
       "      <td>1</td>\n",
       "      <td>0</td>\n",
       "      <td>1</td>\n",
       "      <td>0</td>\n",
       "      <td>0</td>\n",
       "      <td>0</td>\n",
       "      <td>0</td>\n",
       "      <td>0</td>\n",
       "      <td>1</td>\n",
       "    </tr>\n",
       "    <tr>\n",
       "      <th>3</th>\n",
       "      <td>1</td>\n",
       "      <td>2013</td>\n",
       "      <td>1</td>\n",
       "      <td>0</td>\n",
       "      <td>1</td>\n",
       "      <td>0</td>\n",
       "      <td>0</td>\n",
       "      <td>0</td>\n",
       "      <td>0</td>\n",
       "      <td>0</td>\n",
       "      <td>1</td>\n",
       "      <td>0</td>\n",
       "      <td>0</td>\n",
       "      <td>0</td>\n",
       "      <td>0</td>\n",
       "      <td>1</td>\n",
       "      <td>0</td>\n",
       "      <td>0</td>\n",
       "      <td>0</td>\n",
       "      <td>0</td>\n",
       "      <td>0</td>\n",
       "      <td>0</td>\n",
       "      <td>1</td>\n",
       "      <td>0</td>\n",
       "      <td>0</td>\n",
       "      <td>0</td>\n",
       "      <td>0</td>\n",
       "      <td>0</td>\n",
       "      <td>0</td>\n",
       "      <td>1</td>\n",
       "      <td>1</td>\n",
       "      <td>0</td>\n",
       "      <td>0</td>\n",
       "      <td>0</td>\n",
       "      <td>0</td>\n",
       "      <td>0</td>\n",
       "      <td>1</td>\n",
       "      <td>0</td>\n",
       "      <td>0</td>\n",
       "      <td>0</td>\n",
       "      <td>...</td>\n",
       "      <td>0</td>\n",
       "      <td>0</td>\n",
       "      <td>0</td>\n",
       "      <td>0</td>\n",
       "      <td>0</td>\n",
       "      <td>0</td>\n",
       "      <td>0</td>\n",
       "      <td>0</td>\n",
       "      <td>0</td>\n",
       "      <td>1</td>\n",
       "      <td>0</td>\n",
       "      <td>1</td>\n",
       "      <td>0</td>\n",
       "      <td>0</td>\n",
       "      <td>0</td>\n",
       "      <td>1</td>\n",
       "      <td>0</td>\n",
       "      <td>0</td>\n",
       "      <td>0</td>\n",
       "      <td>0</td>\n",
       "      <td>0</td>\n",
       "      <td>0</td>\n",
       "      <td>0</td>\n",
       "      <td>0</td>\n",
       "      <td>0</td>\n",
       "      <td>0</td>\n",
       "      <td>1</td>\n",
       "      <td>0</td>\n",
       "      <td>0</td>\n",
       "      <td>0</td>\n",
       "      <td>0</td>\n",
       "      <td>1</td>\n",
       "      <td>0</td>\n",
       "      <td>1</td>\n",
       "      <td>0</td>\n",
       "      <td>0</td>\n",
       "      <td>0</td>\n",
       "      <td>0</td>\n",
       "      <td>0</td>\n",
       "      <td>1</td>\n",
       "    </tr>\n",
       "    <tr>\n",
       "      <th>4</th>\n",
       "      <td>1</td>\n",
       "      <td>2011</td>\n",
       "      <td>7</td>\n",
       "      <td>0</td>\n",
       "      <td>1</td>\n",
       "      <td>0</td>\n",
       "      <td>0</td>\n",
       "      <td>0</td>\n",
       "      <td>0</td>\n",
       "      <td>0</td>\n",
       "      <td>0</td>\n",
       "      <td>0</td>\n",
       "      <td>1</td>\n",
       "      <td>1</td>\n",
       "      <td>0</td>\n",
       "      <td>0</td>\n",
       "      <td>0</td>\n",
       "      <td>0</td>\n",
       "      <td>0</td>\n",
       "      <td>1</td>\n",
       "      <td>0</td>\n",
       "      <td>0</td>\n",
       "      <td>0</td>\n",
       "      <td>0</td>\n",
       "      <td>0</td>\n",
       "      <td>0</td>\n",
       "      <td>0</td>\n",
       "      <td>0</td>\n",
       "      <td>0</td>\n",
       "      <td>1</td>\n",
       "      <td>0</td>\n",
       "      <td>0</td>\n",
       "      <td>1</td>\n",
       "      <td>0</td>\n",
       "      <td>0</td>\n",
       "      <td>0</td>\n",
       "      <td>0</td>\n",
       "      <td>0</td>\n",
       "      <td>0</td>\n",
       "      <td>1</td>\n",
       "      <td>...</td>\n",
       "      <td>0</td>\n",
       "      <td>0</td>\n",
       "      <td>0</td>\n",
       "      <td>1</td>\n",
       "      <td>0</td>\n",
       "      <td>0</td>\n",
       "      <td>1</td>\n",
       "      <td>0</td>\n",
       "      <td>0</td>\n",
       "      <td>0</td>\n",
       "      <td>1</td>\n",
       "      <td>0</td>\n",
       "      <td>0</td>\n",
       "      <td>0</td>\n",
       "      <td>0</td>\n",
       "      <td>1</td>\n",
       "      <td>0</td>\n",
       "      <td>0</td>\n",
       "      <td>0</td>\n",
       "      <td>0</td>\n",
       "      <td>0</td>\n",
       "      <td>0</td>\n",
       "      <td>0</td>\n",
       "      <td>0</td>\n",
       "      <td>0</td>\n",
       "      <td>0</td>\n",
       "      <td>1</td>\n",
       "      <td>0</td>\n",
       "      <td>0</td>\n",
       "      <td>0</td>\n",
       "      <td>0</td>\n",
       "      <td>1</td>\n",
       "      <td>0</td>\n",
       "      <td>1</td>\n",
       "      <td>0</td>\n",
       "      <td>0</td>\n",
       "      <td>0</td>\n",
       "      <td>0</td>\n",
       "      <td>0</td>\n",
       "      <td>1</td>\n",
       "    </tr>\n",
       "    <tr>\n",
       "      <th>...</th>\n",
       "      <td>...</td>\n",
       "      <td>...</td>\n",
       "      <td>...</td>\n",
       "      <td>...</td>\n",
       "      <td>...</td>\n",
       "      <td>...</td>\n",
       "      <td>...</td>\n",
       "      <td>...</td>\n",
       "      <td>...</td>\n",
       "      <td>...</td>\n",
       "      <td>...</td>\n",
       "      <td>...</td>\n",
       "      <td>...</td>\n",
       "      <td>...</td>\n",
       "      <td>...</td>\n",
       "      <td>...</td>\n",
       "      <td>...</td>\n",
       "      <td>...</td>\n",
       "      <td>...</td>\n",
       "      <td>...</td>\n",
       "      <td>...</td>\n",
       "      <td>...</td>\n",
       "      <td>...</td>\n",
       "      <td>...</td>\n",
       "      <td>...</td>\n",
       "      <td>...</td>\n",
       "      <td>...</td>\n",
       "      <td>...</td>\n",
       "      <td>...</td>\n",
       "      <td>...</td>\n",
       "      <td>...</td>\n",
       "      <td>...</td>\n",
       "      <td>...</td>\n",
       "      <td>...</td>\n",
       "      <td>...</td>\n",
       "      <td>...</td>\n",
       "      <td>...</td>\n",
       "      <td>...</td>\n",
       "      <td>...</td>\n",
       "      <td>...</td>\n",
       "      <td>...</td>\n",
       "      <td>...</td>\n",
       "      <td>...</td>\n",
       "      <td>...</td>\n",
       "      <td>...</td>\n",
       "      <td>...</td>\n",
       "      <td>...</td>\n",
       "      <td>...</td>\n",
       "      <td>...</td>\n",
       "      <td>...</td>\n",
       "      <td>...</td>\n",
       "      <td>...</td>\n",
       "      <td>...</td>\n",
       "      <td>...</td>\n",
       "      <td>...</td>\n",
       "      <td>...</td>\n",
       "      <td>...</td>\n",
       "      <td>...</td>\n",
       "      <td>...</td>\n",
       "      <td>...</td>\n",
       "      <td>...</td>\n",
       "      <td>...</td>\n",
       "      <td>...</td>\n",
       "      <td>...</td>\n",
       "      <td>...</td>\n",
       "      <td>...</td>\n",
       "      <td>...</td>\n",
       "      <td>...</td>\n",
       "      <td>...</td>\n",
       "      <td>...</td>\n",
       "      <td>...</td>\n",
       "      <td>...</td>\n",
       "      <td>...</td>\n",
       "      <td>...</td>\n",
       "      <td>...</td>\n",
       "      <td>...</td>\n",
       "      <td>...</td>\n",
       "      <td>...</td>\n",
       "      <td>...</td>\n",
       "      <td>...</td>\n",
       "      <td>...</td>\n",
       "    </tr>\n",
       "    <tr>\n",
       "      <th>59395</th>\n",
       "      <td>1</td>\n",
       "      <td>2013</td>\n",
       "      <td>5</td>\n",
       "      <td>0</td>\n",
       "      <td>1</td>\n",
       "      <td>0</td>\n",
       "      <td>0</td>\n",
       "      <td>0</td>\n",
       "      <td>0</td>\n",
       "      <td>0</td>\n",
       "      <td>0</td>\n",
       "      <td>1</td>\n",
       "      <td>0</td>\n",
       "      <td>0</td>\n",
       "      <td>0</td>\n",
       "      <td>0</td>\n",
       "      <td>1</td>\n",
       "      <td>0</td>\n",
       "      <td>0</td>\n",
       "      <td>1</td>\n",
       "      <td>0</td>\n",
       "      <td>0</td>\n",
       "      <td>0</td>\n",
       "      <td>0</td>\n",
       "      <td>0</td>\n",
       "      <td>1</td>\n",
       "      <td>0</td>\n",
       "      <td>0</td>\n",
       "      <td>0</td>\n",
       "      <td>0</td>\n",
       "      <td>0</td>\n",
       "      <td>0</td>\n",
       "      <td>0</td>\n",
       "      <td>0</td>\n",
       "      <td>0</td>\n",
       "      <td>1</td>\n",
       "      <td>0</td>\n",
       "      <td>1</td>\n",
       "      <td>0</td>\n",
       "      <td>0</td>\n",
       "      <td>...</td>\n",
       "      <td>0</td>\n",
       "      <td>1</td>\n",
       "      <td>0</td>\n",
       "      <td>0</td>\n",
       "      <td>0</td>\n",
       "      <td>0</td>\n",
       "      <td>0</td>\n",
       "      <td>1</td>\n",
       "      <td>0</td>\n",
       "      <td>0</td>\n",
       "      <td>1</td>\n",
       "      <td>0</td>\n",
       "      <td>0</td>\n",
       "      <td>0</td>\n",
       "      <td>0</td>\n",
       "      <td>0</td>\n",
       "      <td>0</td>\n",
       "      <td>0</td>\n",
       "      <td>1</td>\n",
       "      <td>0</td>\n",
       "      <td>0</td>\n",
       "      <td>0</td>\n",
       "      <td>0</td>\n",
       "      <td>0</td>\n",
       "      <td>0</td>\n",
       "      <td>0</td>\n",
       "      <td>1</td>\n",
       "      <td>0</td>\n",
       "      <td>0</td>\n",
       "      <td>0</td>\n",
       "      <td>0</td>\n",
       "      <td>1</td>\n",
       "      <td>0</td>\n",
       "      <td>1</td>\n",
       "      <td>0</td>\n",
       "      <td>0</td>\n",
       "      <td>0</td>\n",
       "      <td>0</td>\n",
       "      <td>0</td>\n",
       "      <td>1</td>\n",
       "    </tr>\n",
       "    <tr>\n",
       "      <th>59396</th>\n",
       "      <td>1</td>\n",
       "      <td>2011</td>\n",
       "      <td>5</td>\n",
       "      <td>0</td>\n",
       "      <td>1</td>\n",
       "      <td>0</td>\n",
       "      <td>0</td>\n",
       "      <td>0</td>\n",
       "      <td>0</td>\n",
       "      <td>0</td>\n",
       "      <td>0</td>\n",
       "      <td>1</td>\n",
       "      <td>0</td>\n",
       "      <td>0</td>\n",
       "      <td>0</td>\n",
       "      <td>1</td>\n",
       "      <td>0</td>\n",
       "      <td>0</td>\n",
       "      <td>0</td>\n",
       "      <td>1</td>\n",
       "      <td>0</td>\n",
       "      <td>0</td>\n",
       "      <td>0</td>\n",
       "      <td>0</td>\n",
       "      <td>1</td>\n",
       "      <td>0</td>\n",
       "      <td>0</td>\n",
       "      <td>0</td>\n",
       "      <td>0</td>\n",
       "      <td>0</td>\n",
       "      <td>0</td>\n",
       "      <td>0</td>\n",
       "      <td>0</td>\n",
       "      <td>1</td>\n",
       "      <td>0</td>\n",
       "      <td>0</td>\n",
       "      <td>0</td>\n",
       "      <td>1</td>\n",
       "      <td>0</td>\n",
       "      <td>0</td>\n",
       "      <td>...</td>\n",
       "      <td>0</td>\n",
       "      <td>0</td>\n",
       "      <td>0</td>\n",
       "      <td>0</td>\n",
       "      <td>0</td>\n",
       "      <td>0</td>\n",
       "      <td>0</td>\n",
       "      <td>0</td>\n",
       "      <td>1</td>\n",
       "      <td>0</td>\n",
       "      <td>1</td>\n",
       "      <td>0</td>\n",
       "      <td>0</td>\n",
       "      <td>0</td>\n",
       "      <td>0</td>\n",
       "      <td>0</td>\n",
       "      <td>1</td>\n",
       "      <td>0</td>\n",
       "      <td>0</td>\n",
       "      <td>0</td>\n",
       "      <td>0</td>\n",
       "      <td>0</td>\n",
       "      <td>0</td>\n",
       "      <td>0</td>\n",
       "      <td>0</td>\n",
       "      <td>0</td>\n",
       "      <td>1</td>\n",
       "      <td>0</td>\n",
       "      <td>0</td>\n",
       "      <td>0</td>\n",
       "      <td>0</td>\n",
       "      <td>1</td>\n",
       "      <td>0</td>\n",
       "      <td>1</td>\n",
       "      <td>0</td>\n",
       "      <td>0</td>\n",
       "      <td>0</td>\n",
       "      <td>1</td>\n",
       "      <td>0</td>\n",
       "      <td>0</td>\n",
       "    </tr>\n",
       "    <tr>\n",
       "      <th>59397</th>\n",
       "      <td>0</td>\n",
       "      <td>2011</td>\n",
       "      <td>4</td>\n",
       "      <td>0</td>\n",
       "      <td>1</td>\n",
       "      <td>0</td>\n",
       "      <td>0</td>\n",
       "      <td>0</td>\n",
       "      <td>0</td>\n",
       "      <td>0</td>\n",
       "      <td>0</td>\n",
       "      <td>0</td>\n",
       "      <td>1</td>\n",
       "      <td>0</td>\n",
       "      <td>0</td>\n",
       "      <td>1</td>\n",
       "      <td>0</td>\n",
       "      <td>0</td>\n",
       "      <td>0</td>\n",
       "      <td>0</td>\n",
       "      <td>0</td>\n",
       "      <td>0</td>\n",
       "      <td>0</td>\n",
       "      <td>1</td>\n",
       "      <td>0</td>\n",
       "      <td>0</td>\n",
       "      <td>1</td>\n",
       "      <td>0</td>\n",
       "      <td>0</td>\n",
       "      <td>0</td>\n",
       "      <td>1</td>\n",
       "      <td>0</td>\n",
       "      <td>0</td>\n",
       "      <td>0</td>\n",
       "      <td>0</td>\n",
       "      <td>0</td>\n",
       "      <td>0</td>\n",
       "      <td>1</td>\n",
       "      <td>0</td>\n",
       "      <td>0</td>\n",
       "      <td>...</td>\n",
       "      <td>0</td>\n",
       "      <td>0</td>\n",
       "      <td>0</td>\n",
       "      <td>0</td>\n",
       "      <td>0</td>\n",
       "      <td>0</td>\n",
       "      <td>0</td>\n",
       "      <td>0</td>\n",
       "      <td>1</td>\n",
       "      <td>0</td>\n",
       "      <td>0</td>\n",
       "      <td>0</td>\n",
       "      <td>1</td>\n",
       "      <td>0</td>\n",
       "      <td>0</td>\n",
       "      <td>0</td>\n",
       "      <td>0</td>\n",
       "      <td>1</td>\n",
       "      <td>0</td>\n",
       "      <td>0</td>\n",
       "      <td>0</td>\n",
       "      <td>0</td>\n",
       "      <td>0</td>\n",
       "      <td>0</td>\n",
       "      <td>0</td>\n",
       "      <td>0</td>\n",
       "      <td>1</td>\n",
       "      <td>0</td>\n",
       "      <td>0</td>\n",
       "      <td>1</td>\n",
       "      <td>0</td>\n",
       "      <td>0</td>\n",
       "      <td>0</td>\n",
       "      <td>1</td>\n",
       "      <td>0</td>\n",
       "      <td>0</td>\n",
       "      <td>0</td>\n",
       "      <td>0</td>\n",
       "      <td>0</td>\n",
       "      <td>1</td>\n",
       "    </tr>\n",
       "    <tr>\n",
       "      <th>59398</th>\n",
       "      <td>1</td>\n",
       "      <td>2011</td>\n",
       "      <td>3</td>\n",
       "      <td>0</td>\n",
       "      <td>1</td>\n",
       "      <td>0</td>\n",
       "      <td>0</td>\n",
       "      <td>0</td>\n",
       "      <td>0</td>\n",
       "      <td>0</td>\n",
       "      <td>0</td>\n",
       "      <td>0</td>\n",
       "      <td>1</td>\n",
       "      <td>0</td>\n",
       "      <td>0</td>\n",
       "      <td>1</td>\n",
       "      <td>0</td>\n",
       "      <td>0</td>\n",
       "      <td>0</td>\n",
       "      <td>0</td>\n",
       "      <td>1</td>\n",
       "      <td>0</td>\n",
       "      <td>0</td>\n",
       "      <td>0</td>\n",
       "      <td>0</td>\n",
       "      <td>0</td>\n",
       "      <td>0</td>\n",
       "      <td>0</td>\n",
       "      <td>0</td>\n",
       "      <td>1</td>\n",
       "      <td>0</td>\n",
       "      <td>0</td>\n",
       "      <td>0</td>\n",
       "      <td>0</td>\n",
       "      <td>1</td>\n",
       "      <td>0</td>\n",
       "      <td>0</td>\n",
       "      <td>0</td>\n",
       "      <td>1</td>\n",
       "      <td>0</td>\n",
       "      <td>...</td>\n",
       "      <td>0</td>\n",
       "      <td>0</td>\n",
       "      <td>0</td>\n",
       "      <td>0</td>\n",
       "      <td>0</td>\n",
       "      <td>0</td>\n",
       "      <td>0</td>\n",
       "      <td>0</td>\n",
       "      <td>1</td>\n",
       "      <td>0</td>\n",
       "      <td>0</td>\n",
       "      <td>0</td>\n",
       "      <td>1</td>\n",
       "      <td>0</td>\n",
       "      <td>0</td>\n",
       "      <td>1</td>\n",
       "      <td>0</td>\n",
       "      <td>0</td>\n",
       "      <td>0</td>\n",
       "      <td>0</td>\n",
       "      <td>0</td>\n",
       "      <td>0</td>\n",
       "      <td>0</td>\n",
       "      <td>0</td>\n",
       "      <td>0</td>\n",
       "      <td>0</td>\n",
       "      <td>1</td>\n",
       "      <td>0</td>\n",
       "      <td>0</td>\n",
       "      <td>0</td>\n",
       "      <td>0</td>\n",
       "      <td>1</td>\n",
       "      <td>0</td>\n",
       "      <td>1</td>\n",
       "      <td>0</td>\n",
       "      <td>0</td>\n",
       "      <td>0</td>\n",
       "      <td>0</td>\n",
       "      <td>0</td>\n",
       "      <td>1</td>\n",
       "    </tr>\n",
       "    <tr>\n",
       "      <th>59399</th>\n",
       "      <td>1</td>\n",
       "      <td>2011</td>\n",
       "      <td>3</td>\n",
       "      <td>0</td>\n",
       "      <td>1</td>\n",
       "      <td>0</td>\n",
       "      <td>1</td>\n",
       "      <td>0</td>\n",
       "      <td>0</td>\n",
       "      <td>0</td>\n",
       "      <td>0</td>\n",
       "      <td>0</td>\n",
       "      <td>0</td>\n",
       "      <td>0</td>\n",
       "      <td>0</td>\n",
       "      <td>1</td>\n",
       "      <td>0</td>\n",
       "      <td>0</td>\n",
       "      <td>0</td>\n",
       "      <td>0</td>\n",
       "      <td>1</td>\n",
       "      <td>0</td>\n",
       "      <td>0</td>\n",
       "      <td>0</td>\n",
       "      <td>0</td>\n",
       "      <td>0</td>\n",
       "      <td>0</td>\n",
       "      <td>1</td>\n",
       "      <td>0</td>\n",
       "      <td>0</td>\n",
       "      <td>0</td>\n",
       "      <td>0</td>\n",
       "      <td>0</td>\n",
       "      <td>0</td>\n",
       "      <td>1</td>\n",
       "      <td>0</td>\n",
       "      <td>0</td>\n",
       "      <td>1</td>\n",
       "      <td>0</td>\n",
       "      <td>0</td>\n",
       "      <td>...</td>\n",
       "      <td>0</td>\n",
       "      <td>0</td>\n",
       "      <td>0</td>\n",
       "      <td>0</td>\n",
       "      <td>0</td>\n",
       "      <td>0</td>\n",
       "      <td>0</td>\n",
       "      <td>0</td>\n",
       "      <td>0</td>\n",
       "      <td>1</td>\n",
       "      <td>0</td>\n",
       "      <td>0</td>\n",
       "      <td>1</td>\n",
       "      <td>0</td>\n",
       "      <td>0</td>\n",
       "      <td>0</td>\n",
       "      <td>0</td>\n",
       "      <td>0</td>\n",
       "      <td>0</td>\n",
       "      <td>1</td>\n",
       "      <td>0</td>\n",
       "      <td>0</td>\n",
       "      <td>0</td>\n",
       "      <td>0</td>\n",
       "      <td>0</td>\n",
       "      <td>1</td>\n",
       "      <td>0</td>\n",
       "      <td>0</td>\n",
       "      <td>0</td>\n",
       "      <td>0</td>\n",
       "      <td>1</td>\n",
       "      <td>0</td>\n",
       "      <td>0</td>\n",
       "      <td>1</td>\n",
       "      <td>0</td>\n",
       "      <td>0</td>\n",
       "      <td>0</td>\n",
       "      <td>0</td>\n",
       "      <td>0</td>\n",
       "      <td>1</td>\n",
       "    </tr>\n",
       "  </tbody>\n",
       "</table>\n",
       "<p>59400 rows × 83 columns</p>\n",
       "</div>"
      ],
      "text/plain": [
       "       permit  year_recorded  month_recorded  ...  lga_Njombe  lga_Rungwe  lga_other\n",
       "0           0           2011               3  ...           0           0          1\n",
       "1           1           2013               3  ...           0           0          1\n",
       "2           1           2013               2  ...           0           0          1\n",
       "3           1           2013               1  ...           0           0          1\n",
       "4           1           2011               7  ...           0           0          1\n",
       "...       ...            ...             ...  ...         ...         ...        ...\n",
       "59395       1           2013               5  ...           0           0          1\n",
       "59396       1           2011               5  ...           1           0          0\n",
       "59397       0           2011               4  ...           0           0          1\n",
       "59398       1           2011               3  ...           0           0          1\n",
       "59399       1           2011               3  ...           0           0          1\n",
       "\n",
       "[59400 rows x 83 columns]"
      ]
     },
     "execution_count": 426,
     "metadata": {
      "tags": []
     },
     "output_type": "execute_result"
    }
   ],
   "source": [
    "# # For Testing Purposes\n",
    "X_cat4 = cat_transformer.fit_transform(X_train[cat_var])\n",
    "X_cat4"
   ]
  },
  {
   "cell_type": "code",
   "execution_count": 427,
   "metadata": {
    "colab": {
     "base_uri": "https://localhost:8080/",
     "height": 462
    },
    "id": "Bk_TgEzSGL7M",
    "outputId": "905eb0f7-6870-4e69-f0a3-80d5cc0cecef"
   },
   "outputs": [
    {
     "data": {
      "text/html": [
       "<div>\n",
       "<style scoped>\n",
       "    .dataframe tbody tr th:only-of-type {\n",
       "        vertical-align: middle;\n",
       "    }\n",
       "\n",
       "    .dataframe tbody tr th {\n",
       "        vertical-align: top;\n",
       "    }\n",
       "\n",
       "    .dataframe thead th {\n",
       "        text-align: right;\n",
       "    }\n",
       "</style>\n",
       "<table border=\"1\" class=\"dataframe\">\n",
       "  <thead>\n",
       "    <tr style=\"text-align: right;\">\n",
       "      <th></th>\n",
       "      <th>permit</th>\n",
       "      <th>year_recorded</th>\n",
       "      <th>month_recorded</th>\n",
       "      <th>public_meeting_False</th>\n",
       "      <th>public_meeting_True</th>\n",
       "      <th>public_meeting_unknown</th>\n",
       "      <th>construction_year_00s</th>\n",
       "      <th>construction_year_10s</th>\n",
       "      <th>construction_year_60s</th>\n",
       "      <th>construction_year_70s</th>\n",
       "      <th>construction_year_80s</th>\n",
       "      <th>construction_year_90s</th>\n",
       "      <th>construction_year_unknown</th>\n",
       "      <th>management_other</th>\n",
       "      <th>management_private operator</th>\n",
       "      <th>management_vwc</th>\n",
       "      <th>management_water board</th>\n",
       "      <th>management_wua</th>\n",
       "      <th>management_wug</th>\n",
       "      <th>extraction_type_gravity</th>\n",
       "      <th>extraction_type_nira/tanira</th>\n",
       "      <th>extraction_type_other</th>\n",
       "      <th>extraction_type_submersible</th>\n",
       "      <th>extraction_type_swn 80</th>\n",
       "      <th>region_Iringa</th>\n",
       "      <th>region_Kilimanjaro</th>\n",
       "      <th>region_Mbeya</th>\n",
       "      <th>region_Morogoro</th>\n",
       "      <th>region_Shinyanga</th>\n",
       "      <th>region_other</th>\n",
       "      <th>source_machine dbh</th>\n",
       "      <th>source_other</th>\n",
       "      <th>source_rainwater harvesting</th>\n",
       "      <th>source_river</th>\n",
       "      <th>source_shallow well</th>\n",
       "      <th>source_spring</th>\n",
       "      <th>quantity_dry</th>\n",
       "      <th>quantity_enough</th>\n",
       "      <th>quantity_insufficient</th>\n",
       "      <th>quantity_seasonal</th>\n",
       "      <th>...</th>\n",
       "      <th>scheme_management_WUG</th>\n",
       "      <th>scheme_management_Water Board</th>\n",
       "      <th>scheme_management_Water authority</th>\n",
       "      <th>scheme_management_other</th>\n",
       "      <th>basin_Internal</th>\n",
       "      <th>basin_Lake Tanganyika</th>\n",
       "      <th>basin_Lake Victoria</th>\n",
       "      <th>basin_Pangani</th>\n",
       "      <th>basin_Rufiji</th>\n",
       "      <th>basin_other</th>\n",
       "      <th>waterpoint_type_communal standpipe</th>\n",
       "      <th>waterpoint_type_communal standpipe multiple</th>\n",
       "      <th>waterpoint_type_hand pump</th>\n",
       "      <th>waterpoint_type_improved spring</th>\n",
       "      <th>waterpoint_type_other</th>\n",
       "      <th>payment_never pay</th>\n",
       "      <th>payment_other</th>\n",
       "      <th>payment_pay monthly</th>\n",
       "      <th>payment_pay per bucket</th>\n",
       "      <th>payment_pay when scheme fails</th>\n",
       "      <th>payment_unknown</th>\n",
       "      <th>funder_Danida</th>\n",
       "      <th>funder_Government Of Tanzania</th>\n",
       "      <th>funder_Hesawa</th>\n",
       "      <th>funder_Rwssp</th>\n",
       "      <th>funder_World Bank</th>\n",
       "      <th>funder_other</th>\n",
       "      <th>water_quality_coloured</th>\n",
       "      <th>water_quality_milky</th>\n",
       "      <th>water_quality_other</th>\n",
       "      <th>water_quality_salty</th>\n",
       "      <th>water_quality_soft</th>\n",
       "      <th>water_quality_unknown</th>\n",
       "      <th>source_class_other</th>\n",
       "      <th>lga_Arusha Rural</th>\n",
       "      <th>lga_Bariadi</th>\n",
       "      <th>lga_Moshi Rural</th>\n",
       "      <th>lga_Njombe</th>\n",
       "      <th>lga_Rungwe</th>\n",
       "      <th>lga_other</th>\n",
       "    </tr>\n",
       "  </thead>\n",
       "  <tbody>\n",
       "    <tr>\n",
       "      <th>0</th>\n",
       "      <td>1</td>\n",
       "      <td>2013</td>\n",
       "      <td>2</td>\n",
       "      <td>0</td>\n",
       "      <td>1</td>\n",
       "      <td>0</td>\n",
       "      <td>0</td>\n",
       "      <td>1</td>\n",
       "      <td>0</td>\n",
       "      <td>0</td>\n",
       "      <td>0</td>\n",
       "      <td>0</td>\n",
       "      <td>0</td>\n",
       "      <td>1</td>\n",
       "      <td>0</td>\n",
       "      <td>0</td>\n",
       "      <td>0</td>\n",
       "      <td>0</td>\n",
       "      <td>0</td>\n",
       "      <td>0</td>\n",
       "      <td>0</td>\n",
       "      <td>1</td>\n",
       "      <td>0</td>\n",
       "      <td>0</td>\n",
       "      <td>0</td>\n",
       "      <td>0</td>\n",
       "      <td>0</td>\n",
       "      <td>0</td>\n",
       "      <td>0</td>\n",
       "      <td>1</td>\n",
       "      <td>0</td>\n",
       "      <td>0</td>\n",
       "      <td>1</td>\n",
       "      <td>0</td>\n",
       "      <td>0</td>\n",
       "      <td>0</td>\n",
       "      <td>0</td>\n",
       "      <td>0</td>\n",
       "      <td>0</td>\n",
       "      <td>1</td>\n",
       "      <td>...</td>\n",
       "      <td>0</td>\n",
       "      <td>0</td>\n",
       "      <td>0</td>\n",
       "      <td>1</td>\n",
       "      <td>1</td>\n",
       "      <td>0</td>\n",
       "      <td>0</td>\n",
       "      <td>0</td>\n",
       "      <td>0</td>\n",
       "      <td>0</td>\n",
       "      <td>0</td>\n",
       "      <td>0</td>\n",
       "      <td>0</td>\n",
       "      <td>0</td>\n",
       "      <td>1</td>\n",
       "      <td>1</td>\n",
       "      <td>0</td>\n",
       "      <td>0</td>\n",
       "      <td>0</td>\n",
       "      <td>0</td>\n",
       "      <td>0</td>\n",
       "      <td>0</td>\n",
       "      <td>0</td>\n",
       "      <td>0</td>\n",
       "      <td>0</td>\n",
       "      <td>0</td>\n",
       "      <td>1</td>\n",
       "      <td>0</td>\n",
       "      <td>0</td>\n",
       "      <td>0</td>\n",
       "      <td>0</td>\n",
       "      <td>1</td>\n",
       "      <td>0</td>\n",
       "      <td>1</td>\n",
       "      <td>0</td>\n",
       "      <td>0</td>\n",
       "      <td>0</td>\n",
       "      <td>0</td>\n",
       "      <td>0</td>\n",
       "      <td>1</td>\n",
       "    </tr>\n",
       "    <tr>\n",
       "      <th>1</th>\n",
       "      <td>1</td>\n",
       "      <td>2013</td>\n",
       "      <td>2</td>\n",
       "      <td>0</td>\n",
       "      <td>1</td>\n",
       "      <td>0</td>\n",
       "      <td>1</td>\n",
       "      <td>0</td>\n",
       "      <td>0</td>\n",
       "      <td>0</td>\n",
       "      <td>0</td>\n",
       "      <td>0</td>\n",
       "      <td>0</td>\n",
       "      <td>0</td>\n",
       "      <td>0</td>\n",
       "      <td>1</td>\n",
       "      <td>0</td>\n",
       "      <td>0</td>\n",
       "      <td>0</td>\n",
       "      <td>1</td>\n",
       "      <td>0</td>\n",
       "      <td>0</td>\n",
       "      <td>0</td>\n",
       "      <td>0</td>\n",
       "      <td>0</td>\n",
       "      <td>0</td>\n",
       "      <td>0</td>\n",
       "      <td>0</td>\n",
       "      <td>0</td>\n",
       "      <td>1</td>\n",
       "      <td>0</td>\n",
       "      <td>0</td>\n",
       "      <td>0</td>\n",
       "      <td>0</td>\n",
       "      <td>0</td>\n",
       "      <td>1</td>\n",
       "      <td>0</td>\n",
       "      <td>0</td>\n",
       "      <td>1</td>\n",
       "      <td>0</td>\n",
       "      <td>...</td>\n",
       "      <td>0</td>\n",
       "      <td>0</td>\n",
       "      <td>0</td>\n",
       "      <td>0</td>\n",
       "      <td>0</td>\n",
       "      <td>0</td>\n",
       "      <td>0</td>\n",
       "      <td>1</td>\n",
       "      <td>0</td>\n",
       "      <td>0</td>\n",
       "      <td>1</td>\n",
       "      <td>0</td>\n",
       "      <td>0</td>\n",
       "      <td>0</td>\n",
       "      <td>0</td>\n",
       "      <td>1</td>\n",
       "      <td>0</td>\n",
       "      <td>0</td>\n",
       "      <td>0</td>\n",
       "      <td>0</td>\n",
       "      <td>0</td>\n",
       "      <td>0</td>\n",
       "      <td>1</td>\n",
       "      <td>0</td>\n",
       "      <td>0</td>\n",
       "      <td>0</td>\n",
       "      <td>0</td>\n",
       "      <td>0</td>\n",
       "      <td>0</td>\n",
       "      <td>0</td>\n",
       "      <td>0</td>\n",
       "      <td>1</td>\n",
       "      <td>0</td>\n",
       "      <td>1</td>\n",
       "      <td>1</td>\n",
       "      <td>0</td>\n",
       "      <td>0</td>\n",
       "      <td>0</td>\n",
       "      <td>0</td>\n",
       "      <td>0</td>\n",
       "    </tr>\n",
       "    <tr>\n",
       "      <th>2</th>\n",
       "      <td>-1</td>\n",
       "      <td>2013</td>\n",
       "      <td>2</td>\n",
       "      <td>0</td>\n",
       "      <td>1</td>\n",
       "      <td>0</td>\n",
       "      <td>0</td>\n",
       "      <td>1</td>\n",
       "      <td>0</td>\n",
       "      <td>0</td>\n",
       "      <td>0</td>\n",
       "      <td>0</td>\n",
       "      <td>0</td>\n",
       "      <td>0</td>\n",
       "      <td>0</td>\n",
       "      <td>1</td>\n",
       "      <td>0</td>\n",
       "      <td>0</td>\n",
       "      <td>0</td>\n",
       "      <td>0</td>\n",
       "      <td>0</td>\n",
       "      <td>1</td>\n",
       "      <td>0</td>\n",
       "      <td>0</td>\n",
       "      <td>0</td>\n",
       "      <td>0</td>\n",
       "      <td>0</td>\n",
       "      <td>0</td>\n",
       "      <td>0</td>\n",
       "      <td>1</td>\n",
       "      <td>0</td>\n",
       "      <td>0</td>\n",
       "      <td>1</td>\n",
       "      <td>0</td>\n",
       "      <td>0</td>\n",
       "      <td>0</td>\n",
       "      <td>0</td>\n",
       "      <td>0</td>\n",
       "      <td>1</td>\n",
       "      <td>0</td>\n",
       "      <td>...</td>\n",
       "      <td>0</td>\n",
       "      <td>0</td>\n",
       "      <td>0</td>\n",
       "      <td>0</td>\n",
       "      <td>1</td>\n",
       "      <td>0</td>\n",
       "      <td>0</td>\n",
       "      <td>0</td>\n",
       "      <td>0</td>\n",
       "      <td>0</td>\n",
       "      <td>0</td>\n",
       "      <td>0</td>\n",
       "      <td>0</td>\n",
       "      <td>0</td>\n",
       "      <td>1</td>\n",
       "      <td>1</td>\n",
       "      <td>0</td>\n",
       "      <td>0</td>\n",
       "      <td>0</td>\n",
       "      <td>0</td>\n",
       "      <td>0</td>\n",
       "      <td>0</td>\n",
       "      <td>0</td>\n",
       "      <td>0</td>\n",
       "      <td>0</td>\n",
       "      <td>0</td>\n",
       "      <td>1</td>\n",
       "      <td>0</td>\n",
       "      <td>0</td>\n",
       "      <td>0</td>\n",
       "      <td>0</td>\n",
       "      <td>1</td>\n",
       "      <td>0</td>\n",
       "      <td>1</td>\n",
       "      <td>0</td>\n",
       "      <td>0</td>\n",
       "      <td>0</td>\n",
       "      <td>0</td>\n",
       "      <td>0</td>\n",
       "      <td>1</td>\n",
       "    </tr>\n",
       "    <tr>\n",
       "      <th>3</th>\n",
       "      <td>1</td>\n",
       "      <td>2013</td>\n",
       "      <td>1</td>\n",
       "      <td>0</td>\n",
       "      <td>0</td>\n",
       "      <td>1</td>\n",
       "      <td>0</td>\n",
       "      <td>0</td>\n",
       "      <td>0</td>\n",
       "      <td>0</td>\n",
       "      <td>1</td>\n",
       "      <td>0</td>\n",
       "      <td>0</td>\n",
       "      <td>0</td>\n",
       "      <td>0</td>\n",
       "      <td>1</td>\n",
       "      <td>0</td>\n",
       "      <td>0</td>\n",
       "      <td>0</td>\n",
       "      <td>0</td>\n",
       "      <td>0</td>\n",
       "      <td>1</td>\n",
       "      <td>0</td>\n",
       "      <td>0</td>\n",
       "      <td>0</td>\n",
       "      <td>0</td>\n",
       "      <td>0</td>\n",
       "      <td>0</td>\n",
       "      <td>0</td>\n",
       "      <td>1</td>\n",
       "      <td>0</td>\n",
       "      <td>0</td>\n",
       "      <td>0</td>\n",
       "      <td>0</td>\n",
       "      <td>1</td>\n",
       "      <td>0</td>\n",
       "      <td>1</td>\n",
       "      <td>0</td>\n",
       "      <td>0</td>\n",
       "      <td>0</td>\n",
       "      <td>...</td>\n",
       "      <td>0</td>\n",
       "      <td>0</td>\n",
       "      <td>0</td>\n",
       "      <td>0</td>\n",
       "      <td>0</td>\n",
       "      <td>0</td>\n",
       "      <td>0</td>\n",
       "      <td>0</td>\n",
       "      <td>0</td>\n",
       "      <td>1</td>\n",
       "      <td>0</td>\n",
       "      <td>0</td>\n",
       "      <td>0</td>\n",
       "      <td>0</td>\n",
       "      <td>1</td>\n",
       "      <td>0</td>\n",
       "      <td>0</td>\n",
       "      <td>0</td>\n",
       "      <td>0</td>\n",
       "      <td>0</td>\n",
       "      <td>1</td>\n",
       "      <td>0</td>\n",
       "      <td>0</td>\n",
       "      <td>0</td>\n",
       "      <td>0</td>\n",
       "      <td>0</td>\n",
       "      <td>1</td>\n",
       "      <td>0</td>\n",
       "      <td>0</td>\n",
       "      <td>0</td>\n",
       "      <td>0</td>\n",
       "      <td>1</td>\n",
       "      <td>0</td>\n",
       "      <td>1</td>\n",
       "      <td>0</td>\n",
       "      <td>0</td>\n",
       "      <td>0</td>\n",
       "      <td>0</td>\n",
       "      <td>0</td>\n",
       "      <td>1</td>\n",
       "    </tr>\n",
       "    <tr>\n",
       "      <th>4</th>\n",
       "      <td>1</td>\n",
       "      <td>2013</td>\n",
       "      <td>3</td>\n",
       "      <td>0</td>\n",
       "      <td>0</td>\n",
       "      <td>1</td>\n",
       "      <td>1</td>\n",
       "      <td>0</td>\n",
       "      <td>0</td>\n",
       "      <td>0</td>\n",
       "      <td>0</td>\n",
       "      <td>0</td>\n",
       "      <td>0</td>\n",
       "      <td>0</td>\n",
       "      <td>0</td>\n",
       "      <td>0</td>\n",
       "      <td>1</td>\n",
       "      <td>0</td>\n",
       "      <td>0</td>\n",
       "      <td>1</td>\n",
       "      <td>0</td>\n",
       "      <td>0</td>\n",
       "      <td>0</td>\n",
       "      <td>0</td>\n",
       "      <td>0</td>\n",
       "      <td>0</td>\n",
       "      <td>0</td>\n",
       "      <td>0</td>\n",
       "      <td>0</td>\n",
       "      <td>1</td>\n",
       "      <td>0</td>\n",
       "      <td>0</td>\n",
       "      <td>0</td>\n",
       "      <td>0</td>\n",
       "      <td>0</td>\n",
       "      <td>1</td>\n",
       "      <td>0</td>\n",
       "      <td>1</td>\n",
       "      <td>0</td>\n",
       "      <td>0</td>\n",
       "      <td>...</td>\n",
       "      <td>0</td>\n",
       "      <td>1</td>\n",
       "      <td>0</td>\n",
       "      <td>0</td>\n",
       "      <td>0</td>\n",
       "      <td>0</td>\n",
       "      <td>0</td>\n",
       "      <td>0</td>\n",
       "      <td>0</td>\n",
       "      <td>1</td>\n",
       "      <td>1</td>\n",
       "      <td>0</td>\n",
       "      <td>0</td>\n",
       "      <td>0</td>\n",
       "      <td>0</td>\n",
       "      <td>0</td>\n",
       "      <td>0</td>\n",
       "      <td>1</td>\n",
       "      <td>0</td>\n",
       "      <td>0</td>\n",
       "      <td>0</td>\n",
       "      <td>0</td>\n",
       "      <td>0</td>\n",
       "      <td>0</td>\n",
       "      <td>0</td>\n",
       "      <td>0</td>\n",
       "      <td>1</td>\n",
       "      <td>0</td>\n",
       "      <td>0</td>\n",
       "      <td>0</td>\n",
       "      <td>0</td>\n",
       "      <td>1</td>\n",
       "      <td>0</td>\n",
       "      <td>1</td>\n",
       "      <td>0</td>\n",
       "      <td>0</td>\n",
       "      <td>0</td>\n",
       "      <td>0</td>\n",
       "      <td>0</td>\n",
       "      <td>1</td>\n",
       "    </tr>\n",
       "    <tr>\n",
       "      <th>...</th>\n",
       "      <td>...</td>\n",
       "      <td>...</td>\n",
       "      <td>...</td>\n",
       "      <td>...</td>\n",
       "      <td>...</td>\n",
       "      <td>...</td>\n",
       "      <td>...</td>\n",
       "      <td>...</td>\n",
       "      <td>...</td>\n",
       "      <td>...</td>\n",
       "      <td>...</td>\n",
       "      <td>...</td>\n",
       "      <td>...</td>\n",
       "      <td>...</td>\n",
       "      <td>...</td>\n",
       "      <td>...</td>\n",
       "      <td>...</td>\n",
       "      <td>...</td>\n",
       "      <td>...</td>\n",
       "      <td>...</td>\n",
       "      <td>...</td>\n",
       "      <td>...</td>\n",
       "      <td>...</td>\n",
       "      <td>...</td>\n",
       "      <td>...</td>\n",
       "      <td>...</td>\n",
       "      <td>...</td>\n",
       "      <td>...</td>\n",
       "      <td>...</td>\n",
       "      <td>...</td>\n",
       "      <td>...</td>\n",
       "      <td>...</td>\n",
       "      <td>...</td>\n",
       "      <td>...</td>\n",
       "      <td>...</td>\n",
       "      <td>...</td>\n",
       "      <td>...</td>\n",
       "      <td>...</td>\n",
       "      <td>...</td>\n",
       "      <td>...</td>\n",
       "      <td>...</td>\n",
       "      <td>...</td>\n",
       "      <td>...</td>\n",
       "      <td>...</td>\n",
       "      <td>...</td>\n",
       "      <td>...</td>\n",
       "      <td>...</td>\n",
       "      <td>...</td>\n",
       "      <td>...</td>\n",
       "      <td>...</td>\n",
       "      <td>...</td>\n",
       "      <td>...</td>\n",
       "      <td>...</td>\n",
       "      <td>...</td>\n",
       "      <td>...</td>\n",
       "      <td>...</td>\n",
       "      <td>...</td>\n",
       "      <td>...</td>\n",
       "      <td>...</td>\n",
       "      <td>...</td>\n",
       "      <td>...</td>\n",
       "      <td>...</td>\n",
       "      <td>...</td>\n",
       "      <td>...</td>\n",
       "      <td>...</td>\n",
       "      <td>...</td>\n",
       "      <td>...</td>\n",
       "      <td>...</td>\n",
       "      <td>...</td>\n",
       "      <td>...</td>\n",
       "      <td>...</td>\n",
       "      <td>...</td>\n",
       "      <td>...</td>\n",
       "      <td>...</td>\n",
       "      <td>...</td>\n",
       "      <td>...</td>\n",
       "      <td>...</td>\n",
       "      <td>...</td>\n",
       "      <td>...</td>\n",
       "      <td>...</td>\n",
       "      <td>...</td>\n",
       "    </tr>\n",
       "    <tr>\n",
       "      <th>14845</th>\n",
       "      <td>1</td>\n",
       "      <td>2011</td>\n",
       "      <td>2</td>\n",
       "      <td>0</td>\n",
       "      <td>1</td>\n",
       "      <td>0</td>\n",
       "      <td>0</td>\n",
       "      <td>0</td>\n",
       "      <td>0</td>\n",
       "      <td>0</td>\n",
       "      <td>1</td>\n",
       "      <td>0</td>\n",
       "      <td>0</td>\n",
       "      <td>0</td>\n",
       "      <td>0</td>\n",
       "      <td>1</td>\n",
       "      <td>0</td>\n",
       "      <td>0</td>\n",
       "      <td>0</td>\n",
       "      <td>0</td>\n",
       "      <td>0</td>\n",
       "      <td>1</td>\n",
       "      <td>0</td>\n",
       "      <td>0</td>\n",
       "      <td>0</td>\n",
       "      <td>0</td>\n",
       "      <td>0</td>\n",
       "      <td>0</td>\n",
       "      <td>0</td>\n",
       "      <td>1</td>\n",
       "      <td>0</td>\n",
       "      <td>0</td>\n",
       "      <td>0</td>\n",
       "      <td>1</td>\n",
       "      <td>0</td>\n",
       "      <td>0</td>\n",
       "      <td>0</td>\n",
       "      <td>1</td>\n",
       "      <td>0</td>\n",
       "      <td>0</td>\n",
       "      <td>...</td>\n",
       "      <td>0</td>\n",
       "      <td>0</td>\n",
       "      <td>0</td>\n",
       "      <td>0</td>\n",
       "      <td>0</td>\n",
       "      <td>0</td>\n",
       "      <td>0</td>\n",
       "      <td>0</td>\n",
       "      <td>0</td>\n",
       "      <td>1</td>\n",
       "      <td>1</td>\n",
       "      <td>0</td>\n",
       "      <td>0</td>\n",
       "      <td>0</td>\n",
       "      <td>0</td>\n",
       "      <td>1</td>\n",
       "      <td>0</td>\n",
       "      <td>0</td>\n",
       "      <td>0</td>\n",
       "      <td>0</td>\n",
       "      <td>0</td>\n",
       "      <td>1</td>\n",
       "      <td>0</td>\n",
       "      <td>0</td>\n",
       "      <td>0</td>\n",
       "      <td>0</td>\n",
       "      <td>0</td>\n",
       "      <td>0</td>\n",
       "      <td>0</td>\n",
       "      <td>0</td>\n",
       "      <td>0</td>\n",
       "      <td>1</td>\n",
       "      <td>0</td>\n",
       "      <td>1</td>\n",
       "      <td>0</td>\n",
       "      <td>0</td>\n",
       "      <td>0</td>\n",
       "      <td>0</td>\n",
       "      <td>0</td>\n",
       "      <td>1</td>\n",
       "    </tr>\n",
       "    <tr>\n",
       "      <th>14846</th>\n",
       "      <td>0</td>\n",
       "      <td>2011</td>\n",
       "      <td>3</td>\n",
       "      <td>0</td>\n",
       "      <td>1</td>\n",
       "      <td>0</td>\n",
       "      <td>0</td>\n",
       "      <td>0</td>\n",
       "      <td>0</td>\n",
       "      <td>0</td>\n",
       "      <td>0</td>\n",
       "      <td>1</td>\n",
       "      <td>0</td>\n",
       "      <td>0</td>\n",
       "      <td>0</td>\n",
       "      <td>1</td>\n",
       "      <td>0</td>\n",
       "      <td>0</td>\n",
       "      <td>0</td>\n",
       "      <td>0</td>\n",
       "      <td>1</td>\n",
       "      <td>0</td>\n",
       "      <td>0</td>\n",
       "      <td>0</td>\n",
       "      <td>0</td>\n",
       "      <td>0</td>\n",
       "      <td>0</td>\n",
       "      <td>0</td>\n",
       "      <td>0</td>\n",
       "      <td>1</td>\n",
       "      <td>0</td>\n",
       "      <td>0</td>\n",
       "      <td>0</td>\n",
       "      <td>0</td>\n",
       "      <td>1</td>\n",
       "      <td>0</td>\n",
       "      <td>0</td>\n",
       "      <td>0</td>\n",
       "      <td>1</td>\n",
       "      <td>0</td>\n",
       "      <td>...</td>\n",
       "      <td>0</td>\n",
       "      <td>0</td>\n",
       "      <td>0</td>\n",
       "      <td>0</td>\n",
       "      <td>0</td>\n",
       "      <td>0</td>\n",
       "      <td>0</td>\n",
       "      <td>1</td>\n",
       "      <td>0</td>\n",
       "      <td>0</td>\n",
       "      <td>0</td>\n",
       "      <td>0</td>\n",
       "      <td>1</td>\n",
       "      <td>0</td>\n",
       "      <td>0</td>\n",
       "      <td>0</td>\n",
       "      <td>1</td>\n",
       "      <td>0</td>\n",
       "      <td>0</td>\n",
       "      <td>0</td>\n",
       "      <td>0</td>\n",
       "      <td>0</td>\n",
       "      <td>0</td>\n",
       "      <td>0</td>\n",
       "      <td>0</td>\n",
       "      <td>0</td>\n",
       "      <td>1</td>\n",
       "      <td>0</td>\n",
       "      <td>0</td>\n",
       "      <td>0</td>\n",
       "      <td>1</td>\n",
       "      <td>0</td>\n",
       "      <td>0</td>\n",
       "      <td>1</td>\n",
       "      <td>0</td>\n",
       "      <td>0</td>\n",
       "      <td>0</td>\n",
       "      <td>0</td>\n",
       "      <td>0</td>\n",
       "      <td>1</td>\n",
       "    </tr>\n",
       "    <tr>\n",
       "      <th>14847</th>\n",
       "      <td>-1</td>\n",
       "      <td>2013</td>\n",
       "      <td>3</td>\n",
       "      <td>0</td>\n",
       "      <td>1</td>\n",
       "      <td>0</td>\n",
       "      <td>0</td>\n",
       "      <td>1</td>\n",
       "      <td>0</td>\n",
       "      <td>0</td>\n",
       "      <td>0</td>\n",
       "      <td>0</td>\n",
       "      <td>0</td>\n",
       "      <td>0</td>\n",
       "      <td>0</td>\n",
       "      <td>1</td>\n",
       "      <td>0</td>\n",
       "      <td>0</td>\n",
       "      <td>0</td>\n",
       "      <td>1</td>\n",
       "      <td>0</td>\n",
       "      <td>0</td>\n",
       "      <td>0</td>\n",
       "      <td>0</td>\n",
       "      <td>0</td>\n",
       "      <td>0</td>\n",
       "      <td>0</td>\n",
       "      <td>0</td>\n",
       "      <td>0</td>\n",
       "      <td>1</td>\n",
       "      <td>0</td>\n",
       "      <td>1</td>\n",
       "      <td>0</td>\n",
       "      <td>0</td>\n",
       "      <td>0</td>\n",
       "      <td>0</td>\n",
       "      <td>0</td>\n",
       "      <td>0</td>\n",
       "      <td>1</td>\n",
       "      <td>0</td>\n",
       "      <td>...</td>\n",
       "      <td>0</td>\n",
       "      <td>0</td>\n",
       "      <td>0</td>\n",
       "      <td>0</td>\n",
       "      <td>1</td>\n",
       "      <td>0</td>\n",
       "      <td>0</td>\n",
       "      <td>0</td>\n",
       "      <td>0</td>\n",
       "      <td>0</td>\n",
       "      <td>1</td>\n",
       "      <td>0</td>\n",
       "      <td>0</td>\n",
       "      <td>0</td>\n",
       "      <td>0</td>\n",
       "      <td>1</td>\n",
       "      <td>0</td>\n",
       "      <td>0</td>\n",
       "      <td>0</td>\n",
       "      <td>0</td>\n",
       "      <td>0</td>\n",
       "      <td>0</td>\n",
       "      <td>0</td>\n",
       "      <td>0</td>\n",
       "      <td>0</td>\n",
       "      <td>0</td>\n",
       "      <td>1</td>\n",
       "      <td>0</td>\n",
       "      <td>0</td>\n",
       "      <td>0</td>\n",
       "      <td>0</td>\n",
       "      <td>1</td>\n",
       "      <td>0</td>\n",
       "      <td>1</td>\n",
       "      <td>0</td>\n",
       "      <td>0</td>\n",
       "      <td>0</td>\n",
       "      <td>0</td>\n",
       "      <td>0</td>\n",
       "      <td>1</td>\n",
       "    </tr>\n",
       "    <tr>\n",
       "      <th>14848</th>\n",
       "      <td>1</td>\n",
       "      <td>2013</td>\n",
       "      <td>2</td>\n",
       "      <td>0</td>\n",
       "      <td>1</td>\n",
       "      <td>0</td>\n",
       "      <td>1</td>\n",
       "      <td>0</td>\n",
       "      <td>0</td>\n",
       "      <td>0</td>\n",
       "      <td>0</td>\n",
       "      <td>0</td>\n",
       "      <td>0</td>\n",
       "      <td>0</td>\n",
       "      <td>0</td>\n",
       "      <td>1</td>\n",
       "      <td>0</td>\n",
       "      <td>0</td>\n",
       "      <td>0</td>\n",
       "      <td>1</td>\n",
       "      <td>0</td>\n",
       "      <td>0</td>\n",
       "      <td>0</td>\n",
       "      <td>0</td>\n",
       "      <td>0</td>\n",
       "      <td>0</td>\n",
       "      <td>0</td>\n",
       "      <td>0</td>\n",
       "      <td>0</td>\n",
       "      <td>1</td>\n",
       "      <td>0</td>\n",
       "      <td>0</td>\n",
       "      <td>0</td>\n",
       "      <td>1</td>\n",
       "      <td>0</td>\n",
       "      <td>0</td>\n",
       "      <td>0</td>\n",
       "      <td>0</td>\n",
       "      <td>1</td>\n",
       "      <td>0</td>\n",
       "      <td>...</td>\n",
       "      <td>0</td>\n",
       "      <td>0</td>\n",
       "      <td>0</td>\n",
       "      <td>0</td>\n",
       "      <td>0</td>\n",
       "      <td>0</td>\n",
       "      <td>0</td>\n",
       "      <td>0</td>\n",
       "      <td>0</td>\n",
       "      <td>1</td>\n",
       "      <td>1</td>\n",
       "      <td>0</td>\n",
       "      <td>0</td>\n",
       "      <td>0</td>\n",
       "      <td>0</td>\n",
       "      <td>1</td>\n",
       "      <td>0</td>\n",
       "      <td>0</td>\n",
       "      <td>0</td>\n",
       "      <td>0</td>\n",
       "      <td>0</td>\n",
       "      <td>0</td>\n",
       "      <td>0</td>\n",
       "      <td>0</td>\n",
       "      <td>0</td>\n",
       "      <td>0</td>\n",
       "      <td>1</td>\n",
       "      <td>0</td>\n",
       "      <td>0</td>\n",
       "      <td>0</td>\n",
       "      <td>0</td>\n",
       "      <td>1</td>\n",
       "      <td>0</td>\n",
       "      <td>1</td>\n",
       "      <td>0</td>\n",
       "      <td>0</td>\n",
       "      <td>0</td>\n",
       "      <td>0</td>\n",
       "      <td>0</td>\n",
       "      <td>1</td>\n",
       "    </tr>\n",
       "    <tr>\n",
       "      <th>14849</th>\n",
       "      <td>1</td>\n",
       "      <td>2013</td>\n",
       "      <td>2</td>\n",
       "      <td>0</td>\n",
       "      <td>1</td>\n",
       "      <td>0</td>\n",
       "      <td>1</td>\n",
       "      <td>0</td>\n",
       "      <td>0</td>\n",
       "      <td>0</td>\n",
       "      <td>0</td>\n",
       "      <td>0</td>\n",
       "      <td>0</td>\n",
       "      <td>0</td>\n",
       "      <td>0</td>\n",
       "      <td>1</td>\n",
       "      <td>0</td>\n",
       "      <td>0</td>\n",
       "      <td>0</td>\n",
       "      <td>1</td>\n",
       "      <td>0</td>\n",
       "      <td>0</td>\n",
       "      <td>0</td>\n",
       "      <td>0</td>\n",
       "      <td>0</td>\n",
       "      <td>0</td>\n",
       "      <td>0</td>\n",
       "      <td>0</td>\n",
       "      <td>0</td>\n",
       "      <td>1</td>\n",
       "      <td>0</td>\n",
       "      <td>0</td>\n",
       "      <td>0</td>\n",
       "      <td>0</td>\n",
       "      <td>0</td>\n",
       "      <td>1</td>\n",
       "      <td>1</td>\n",
       "      <td>0</td>\n",
       "      <td>0</td>\n",
       "      <td>0</td>\n",
       "      <td>...</td>\n",
       "      <td>0</td>\n",
       "      <td>0</td>\n",
       "      <td>0</td>\n",
       "      <td>0</td>\n",
       "      <td>0</td>\n",
       "      <td>0</td>\n",
       "      <td>0</td>\n",
       "      <td>0</td>\n",
       "      <td>0</td>\n",
       "      <td>1</td>\n",
       "      <td>1</td>\n",
       "      <td>0</td>\n",
       "      <td>0</td>\n",
       "      <td>0</td>\n",
       "      <td>0</td>\n",
       "      <td>1</td>\n",
       "      <td>0</td>\n",
       "      <td>0</td>\n",
       "      <td>0</td>\n",
       "      <td>0</td>\n",
       "      <td>0</td>\n",
       "      <td>0</td>\n",
       "      <td>1</td>\n",
       "      <td>0</td>\n",
       "      <td>0</td>\n",
       "      <td>0</td>\n",
       "      <td>0</td>\n",
       "      <td>0</td>\n",
       "      <td>0</td>\n",
       "      <td>0</td>\n",
       "      <td>0</td>\n",
       "      <td>1</td>\n",
       "      <td>0</td>\n",
       "      <td>1</td>\n",
       "      <td>0</td>\n",
       "      <td>0</td>\n",
       "      <td>0</td>\n",
       "      <td>0</td>\n",
       "      <td>0</td>\n",
       "      <td>1</td>\n",
       "    </tr>\n",
       "  </tbody>\n",
       "</table>\n",
       "<p>14850 rows × 83 columns</p>\n",
       "</div>"
      ],
      "text/plain": [
       "       permit  year_recorded  month_recorded  ...  lga_Njombe  lga_Rungwe  lga_other\n",
       "0           1           2013               2  ...           0           0          1\n",
       "1           1           2013               2  ...           0           0          0\n",
       "2          -1           2013               2  ...           0           0          1\n",
       "3           1           2013               1  ...           0           0          1\n",
       "4           1           2013               3  ...           0           0          1\n",
       "...       ...            ...             ...  ...         ...         ...        ...\n",
       "14845       1           2011               2  ...           0           0          1\n",
       "14846       0           2011               3  ...           0           0          1\n",
       "14847      -1           2013               3  ...           0           0          1\n",
       "14848       1           2013               2  ...           0           0          1\n",
       "14849       1           2013               2  ...           0           0          1\n",
       "\n",
       "[14850 rows x 83 columns]"
      ]
     },
     "execution_count": 427,
     "metadata": {
      "tags": []
     },
     "output_type": "execute_result"
    }
   ],
   "source": [
    "# # For Testing Purposes\n",
    "X_cat_test = cat_transformer.transform(X_test[cat_var])\n",
    "X_cat_test"
   ]
  },
  {
   "cell_type": "markdown",
   "metadata": {
    "id": "vTAB_GhxK3oB"
   },
   "source": [
    "# Generating the Processed Dataset"
   ]
  },
  {
   "cell_type": "code",
   "execution_count": 428,
   "metadata": {
    "id": "6dO3O4qBUWBD"
   },
   "outputs": [],
   "source": [
    "# To retrieve all the column labels to see data clearer in a dataframe format\n",
    "num_final = list(X_num3.columns)\n",
    "cat_final = list(X_cat4.columns)\n",
    "col_final = num_final + cat_final"
   ]
  },
  {
   "cell_type": "code",
   "execution_count": 429,
   "metadata": {
    "colab": {
     "base_uri": "https://localhost:8080/",
     "height": 462
    },
    "id": "4xjEJkrBCCiM",
    "outputId": "db9f7a62-f8f1-437f-ea36-48e45a178157"
   },
   "outputs": [
    {
     "data": {
      "text/html": [
       "<div>\n",
       "<style scoped>\n",
       "    .dataframe tbody tr th:only-of-type {\n",
       "        vertical-align: middle;\n",
       "    }\n",
       "\n",
       "    .dataframe tbody tr th {\n",
       "        vertical-align: top;\n",
       "    }\n",
       "\n",
       "    .dataframe thead th {\n",
       "        text-align: right;\n",
       "    }\n",
       "</style>\n",
       "<table border=\"1\" class=\"dataframe\">\n",
       "  <thead>\n",
       "    <tr style=\"text-align: right;\">\n",
       "      <th></th>\n",
       "      <th>gps_height</th>\n",
       "      <th>longitude</th>\n",
       "      <th>latitude</th>\n",
       "      <th>region_code</th>\n",
       "      <th>district_code</th>\n",
       "      <th>population</th>\n",
       "      <th>permit</th>\n",
       "      <th>year_recorded</th>\n",
       "      <th>month_recorded</th>\n",
       "      <th>public_meeting_False</th>\n",
       "      <th>public_meeting_True</th>\n",
       "      <th>public_meeting_unknown</th>\n",
       "      <th>construction_year_00s</th>\n",
       "      <th>construction_year_10s</th>\n",
       "      <th>construction_year_60s</th>\n",
       "      <th>construction_year_70s</th>\n",
       "      <th>construction_year_80s</th>\n",
       "      <th>construction_year_90s</th>\n",
       "      <th>construction_year_unknown</th>\n",
       "      <th>management_other</th>\n",
       "      <th>management_private operator</th>\n",
       "      <th>management_vwc</th>\n",
       "      <th>management_water board</th>\n",
       "      <th>management_wua</th>\n",
       "      <th>management_wug</th>\n",
       "      <th>extraction_type_gravity</th>\n",
       "      <th>extraction_type_nira/tanira</th>\n",
       "      <th>extraction_type_other</th>\n",
       "      <th>extraction_type_submersible</th>\n",
       "      <th>extraction_type_swn 80</th>\n",
       "      <th>region_Iringa</th>\n",
       "      <th>region_Kilimanjaro</th>\n",
       "      <th>region_Mbeya</th>\n",
       "      <th>region_Morogoro</th>\n",
       "      <th>region_Shinyanga</th>\n",
       "      <th>region_other</th>\n",
       "      <th>source_machine dbh</th>\n",
       "      <th>source_other</th>\n",
       "      <th>source_rainwater harvesting</th>\n",
       "      <th>source_river</th>\n",
       "      <th>...</th>\n",
       "      <th>scheme_management_WUG</th>\n",
       "      <th>scheme_management_Water Board</th>\n",
       "      <th>scheme_management_Water authority</th>\n",
       "      <th>scheme_management_other</th>\n",
       "      <th>basin_Internal</th>\n",
       "      <th>basin_Lake Tanganyika</th>\n",
       "      <th>basin_Lake Victoria</th>\n",
       "      <th>basin_Pangani</th>\n",
       "      <th>basin_Rufiji</th>\n",
       "      <th>basin_other</th>\n",
       "      <th>waterpoint_type_communal standpipe</th>\n",
       "      <th>waterpoint_type_communal standpipe multiple</th>\n",
       "      <th>waterpoint_type_hand pump</th>\n",
       "      <th>waterpoint_type_improved spring</th>\n",
       "      <th>waterpoint_type_other</th>\n",
       "      <th>payment_never pay</th>\n",
       "      <th>payment_other</th>\n",
       "      <th>payment_pay monthly</th>\n",
       "      <th>payment_pay per bucket</th>\n",
       "      <th>payment_pay when scheme fails</th>\n",
       "      <th>payment_unknown</th>\n",
       "      <th>funder_Danida</th>\n",
       "      <th>funder_Government Of Tanzania</th>\n",
       "      <th>funder_Hesawa</th>\n",
       "      <th>funder_Rwssp</th>\n",
       "      <th>funder_World Bank</th>\n",
       "      <th>funder_other</th>\n",
       "      <th>water_quality_coloured</th>\n",
       "      <th>water_quality_milky</th>\n",
       "      <th>water_quality_other</th>\n",
       "      <th>water_quality_salty</th>\n",
       "      <th>water_quality_soft</th>\n",
       "      <th>water_quality_unknown</th>\n",
       "      <th>source_class_other</th>\n",
       "      <th>lga_Arusha Rural</th>\n",
       "      <th>lga_Bariadi</th>\n",
       "      <th>lga_Moshi Rural</th>\n",
       "      <th>lga_Njombe</th>\n",
       "      <th>lga_Rungwe</th>\n",
       "      <th>lga_other</th>\n",
       "    </tr>\n",
       "  </thead>\n",
       "  <tbody>\n",
       "    <tr>\n",
       "      <th>0</th>\n",
       "      <td>1390.0</td>\n",
       "      <td>34.938093</td>\n",
       "      <td>-9.856322</td>\n",
       "      <td>11.0</td>\n",
       "      <td>5.0</td>\n",
       "      <td>109.0</td>\n",
       "      <td>0.0</td>\n",
       "      <td>2011.0</td>\n",
       "      <td>3.0</td>\n",
       "      <td>0.0</td>\n",
       "      <td>1.0</td>\n",
       "      <td>0.0</td>\n",
       "      <td>0.0</td>\n",
       "      <td>0.0</td>\n",
       "      <td>0.0</td>\n",
       "      <td>0.0</td>\n",
       "      <td>0.0</td>\n",
       "      <td>1.0</td>\n",
       "      <td>0.0</td>\n",
       "      <td>0.0</td>\n",
       "      <td>0.0</td>\n",
       "      <td>1.0</td>\n",
       "      <td>0.0</td>\n",
       "      <td>0.0</td>\n",
       "      <td>0.0</td>\n",
       "      <td>1.0</td>\n",
       "      <td>0.0</td>\n",
       "      <td>0.0</td>\n",
       "      <td>0.0</td>\n",
       "      <td>0.0</td>\n",
       "      <td>1.0</td>\n",
       "      <td>0.0</td>\n",
       "      <td>0.0</td>\n",
       "      <td>0.0</td>\n",
       "      <td>0.0</td>\n",
       "      <td>0.0</td>\n",
       "      <td>0.0</td>\n",
       "      <td>0.0</td>\n",
       "      <td>0.0</td>\n",
       "      <td>0.0</td>\n",
       "      <td>...</td>\n",
       "      <td>0.0</td>\n",
       "      <td>0.0</td>\n",
       "      <td>0.0</td>\n",
       "      <td>0.0</td>\n",
       "      <td>0.0</td>\n",
       "      <td>0.0</td>\n",
       "      <td>0.0</td>\n",
       "      <td>0.0</td>\n",
       "      <td>0.0</td>\n",
       "      <td>1.0</td>\n",
       "      <td>1.0</td>\n",
       "      <td>0.0</td>\n",
       "      <td>0.0</td>\n",
       "      <td>0.0</td>\n",
       "      <td>0.0</td>\n",
       "      <td>0.0</td>\n",
       "      <td>1.0</td>\n",
       "      <td>0.0</td>\n",
       "      <td>0.0</td>\n",
       "      <td>0.0</td>\n",
       "      <td>0.0</td>\n",
       "      <td>0.0</td>\n",
       "      <td>0.0</td>\n",
       "      <td>0.0</td>\n",
       "      <td>0.0</td>\n",
       "      <td>0.0</td>\n",
       "      <td>1.0</td>\n",
       "      <td>0.0</td>\n",
       "      <td>0.0</td>\n",
       "      <td>0.0</td>\n",
       "      <td>0.0</td>\n",
       "      <td>1.0</td>\n",
       "      <td>0.0</td>\n",
       "      <td>1.0</td>\n",
       "      <td>0.0</td>\n",
       "      <td>0.0</td>\n",
       "      <td>0.0</td>\n",
       "      <td>0.0</td>\n",
       "      <td>0.0</td>\n",
       "      <td>1.0</td>\n",
       "    </tr>\n",
       "    <tr>\n",
       "      <th>1</th>\n",
       "      <td>1399.0</td>\n",
       "      <td>34.698766</td>\n",
       "      <td>-2.147466</td>\n",
       "      <td>20.0</td>\n",
       "      <td>2.0</td>\n",
       "      <td>280.0</td>\n",
       "      <td>1.0</td>\n",
       "      <td>2013.0</td>\n",
       "      <td>3.0</td>\n",
       "      <td>0.0</td>\n",
       "      <td>0.0</td>\n",
       "      <td>1.0</td>\n",
       "      <td>0.0</td>\n",
       "      <td>1.0</td>\n",
       "      <td>0.0</td>\n",
       "      <td>0.0</td>\n",
       "      <td>0.0</td>\n",
       "      <td>0.0</td>\n",
       "      <td>0.0</td>\n",
       "      <td>0.0</td>\n",
       "      <td>0.0</td>\n",
       "      <td>0.0</td>\n",
       "      <td>0.0</td>\n",
       "      <td>0.0</td>\n",
       "      <td>1.0</td>\n",
       "      <td>1.0</td>\n",
       "      <td>0.0</td>\n",
       "      <td>0.0</td>\n",
       "      <td>0.0</td>\n",
       "      <td>0.0</td>\n",
       "      <td>0.0</td>\n",
       "      <td>0.0</td>\n",
       "      <td>0.0</td>\n",
       "      <td>0.0</td>\n",
       "      <td>0.0</td>\n",
       "      <td>1.0</td>\n",
       "      <td>0.0</td>\n",
       "      <td>0.0</td>\n",
       "      <td>1.0</td>\n",
       "      <td>0.0</td>\n",
       "      <td>...</td>\n",
       "      <td>0.0</td>\n",
       "      <td>0.0</td>\n",
       "      <td>0.0</td>\n",
       "      <td>1.0</td>\n",
       "      <td>0.0</td>\n",
       "      <td>0.0</td>\n",
       "      <td>1.0</td>\n",
       "      <td>0.0</td>\n",
       "      <td>0.0</td>\n",
       "      <td>0.0</td>\n",
       "      <td>1.0</td>\n",
       "      <td>0.0</td>\n",
       "      <td>0.0</td>\n",
       "      <td>0.0</td>\n",
       "      <td>0.0</td>\n",
       "      <td>1.0</td>\n",
       "      <td>0.0</td>\n",
       "      <td>0.0</td>\n",
       "      <td>0.0</td>\n",
       "      <td>0.0</td>\n",
       "      <td>0.0</td>\n",
       "      <td>0.0</td>\n",
       "      <td>0.0</td>\n",
       "      <td>0.0</td>\n",
       "      <td>0.0</td>\n",
       "      <td>0.0</td>\n",
       "      <td>1.0</td>\n",
       "      <td>0.0</td>\n",
       "      <td>0.0</td>\n",
       "      <td>0.0</td>\n",
       "      <td>0.0</td>\n",
       "      <td>1.0</td>\n",
       "      <td>0.0</td>\n",
       "      <td>1.0</td>\n",
       "      <td>0.0</td>\n",
       "      <td>0.0</td>\n",
       "      <td>0.0</td>\n",
       "      <td>0.0</td>\n",
       "      <td>0.0</td>\n",
       "      <td>1.0</td>\n",
       "    </tr>\n",
       "    <tr>\n",
       "      <th>2</th>\n",
       "      <td>686.0</td>\n",
       "      <td>37.460664</td>\n",
       "      <td>-3.821329</td>\n",
       "      <td>21.0</td>\n",
       "      <td>4.0</td>\n",
       "      <td>250.0</td>\n",
       "      <td>1.0</td>\n",
       "      <td>2013.0</td>\n",
       "      <td>2.0</td>\n",
       "      <td>0.0</td>\n",
       "      <td>1.0</td>\n",
       "      <td>0.0</td>\n",
       "      <td>1.0</td>\n",
       "      <td>0.0</td>\n",
       "      <td>0.0</td>\n",
       "      <td>0.0</td>\n",
       "      <td>0.0</td>\n",
       "      <td>0.0</td>\n",
       "      <td>0.0</td>\n",
       "      <td>0.0</td>\n",
       "      <td>0.0</td>\n",
       "      <td>1.0</td>\n",
       "      <td>0.0</td>\n",
       "      <td>0.0</td>\n",
       "      <td>0.0</td>\n",
       "      <td>1.0</td>\n",
       "      <td>0.0</td>\n",
       "      <td>0.0</td>\n",
       "      <td>0.0</td>\n",
       "      <td>0.0</td>\n",
       "      <td>0.0</td>\n",
       "      <td>0.0</td>\n",
       "      <td>0.0</td>\n",
       "      <td>0.0</td>\n",
       "      <td>0.0</td>\n",
       "      <td>1.0</td>\n",
       "      <td>0.0</td>\n",
       "      <td>1.0</td>\n",
       "      <td>0.0</td>\n",
       "      <td>0.0</td>\n",
       "      <td>...</td>\n",
       "      <td>0.0</td>\n",
       "      <td>0.0</td>\n",
       "      <td>0.0</td>\n",
       "      <td>0.0</td>\n",
       "      <td>0.0</td>\n",
       "      <td>0.0</td>\n",
       "      <td>0.0</td>\n",
       "      <td>1.0</td>\n",
       "      <td>0.0</td>\n",
       "      <td>0.0</td>\n",
       "      <td>0.0</td>\n",
       "      <td>1.0</td>\n",
       "      <td>0.0</td>\n",
       "      <td>0.0</td>\n",
       "      <td>0.0</td>\n",
       "      <td>0.0</td>\n",
       "      <td>0.0</td>\n",
       "      <td>0.0</td>\n",
       "      <td>1.0</td>\n",
       "      <td>0.0</td>\n",
       "      <td>0.0</td>\n",
       "      <td>0.0</td>\n",
       "      <td>0.0</td>\n",
       "      <td>0.0</td>\n",
       "      <td>0.0</td>\n",
       "      <td>0.0</td>\n",
       "      <td>1.0</td>\n",
       "      <td>0.0</td>\n",
       "      <td>0.0</td>\n",
       "      <td>0.0</td>\n",
       "      <td>0.0</td>\n",
       "      <td>1.0</td>\n",
       "      <td>0.0</td>\n",
       "      <td>1.0</td>\n",
       "      <td>0.0</td>\n",
       "      <td>0.0</td>\n",
       "      <td>0.0</td>\n",
       "      <td>0.0</td>\n",
       "      <td>0.0</td>\n",
       "      <td>1.0</td>\n",
       "    </tr>\n",
       "    <tr>\n",
       "      <th>3</th>\n",
       "      <td>263.0</td>\n",
       "      <td>38.486161</td>\n",
       "      <td>-11.155298</td>\n",
       "      <td>90.0</td>\n",
       "      <td>63.0</td>\n",
       "      <td>58.0</td>\n",
       "      <td>1.0</td>\n",
       "      <td>2013.0</td>\n",
       "      <td>1.0</td>\n",
       "      <td>0.0</td>\n",
       "      <td>1.0</td>\n",
       "      <td>0.0</td>\n",
       "      <td>0.0</td>\n",
       "      <td>0.0</td>\n",
       "      <td>0.0</td>\n",
       "      <td>0.0</td>\n",
       "      <td>1.0</td>\n",
       "      <td>0.0</td>\n",
       "      <td>0.0</td>\n",
       "      <td>0.0</td>\n",
       "      <td>0.0</td>\n",
       "      <td>1.0</td>\n",
       "      <td>0.0</td>\n",
       "      <td>0.0</td>\n",
       "      <td>0.0</td>\n",
       "      <td>0.0</td>\n",
       "      <td>0.0</td>\n",
       "      <td>0.0</td>\n",
       "      <td>1.0</td>\n",
       "      <td>0.0</td>\n",
       "      <td>0.0</td>\n",
       "      <td>0.0</td>\n",
       "      <td>0.0</td>\n",
       "      <td>0.0</td>\n",
       "      <td>0.0</td>\n",
       "      <td>1.0</td>\n",
       "      <td>1.0</td>\n",
       "      <td>0.0</td>\n",
       "      <td>0.0</td>\n",
       "      <td>0.0</td>\n",
       "      <td>...</td>\n",
       "      <td>0.0</td>\n",
       "      <td>0.0</td>\n",
       "      <td>0.0</td>\n",
       "      <td>0.0</td>\n",
       "      <td>0.0</td>\n",
       "      <td>0.0</td>\n",
       "      <td>0.0</td>\n",
       "      <td>0.0</td>\n",
       "      <td>0.0</td>\n",
       "      <td>1.0</td>\n",
       "      <td>0.0</td>\n",
       "      <td>1.0</td>\n",
       "      <td>0.0</td>\n",
       "      <td>0.0</td>\n",
       "      <td>0.0</td>\n",
       "      <td>1.0</td>\n",
       "      <td>0.0</td>\n",
       "      <td>0.0</td>\n",
       "      <td>0.0</td>\n",
       "      <td>0.0</td>\n",
       "      <td>0.0</td>\n",
       "      <td>0.0</td>\n",
       "      <td>0.0</td>\n",
       "      <td>0.0</td>\n",
       "      <td>0.0</td>\n",
       "      <td>0.0</td>\n",
       "      <td>1.0</td>\n",
       "      <td>0.0</td>\n",
       "      <td>0.0</td>\n",
       "      <td>0.0</td>\n",
       "      <td>0.0</td>\n",
       "      <td>1.0</td>\n",
       "      <td>0.0</td>\n",
       "      <td>1.0</td>\n",
       "      <td>0.0</td>\n",
       "      <td>0.0</td>\n",
       "      <td>0.0</td>\n",
       "      <td>0.0</td>\n",
       "      <td>0.0</td>\n",
       "      <td>1.0</td>\n",
       "    </tr>\n",
       "    <tr>\n",
       "      <th>4</th>\n",
       "      <td>0.0</td>\n",
       "      <td>31.130847</td>\n",
       "      <td>-1.825359</td>\n",
       "      <td>18.0</td>\n",
       "      <td>1.0</td>\n",
       "      <td>1.0</td>\n",
       "      <td>1.0</td>\n",
       "      <td>2011.0</td>\n",
       "      <td>7.0</td>\n",
       "      <td>0.0</td>\n",
       "      <td>1.0</td>\n",
       "      <td>0.0</td>\n",
       "      <td>0.0</td>\n",
       "      <td>0.0</td>\n",
       "      <td>0.0</td>\n",
       "      <td>0.0</td>\n",
       "      <td>0.0</td>\n",
       "      <td>0.0</td>\n",
       "      <td>1.0</td>\n",
       "      <td>1.0</td>\n",
       "      <td>0.0</td>\n",
       "      <td>0.0</td>\n",
       "      <td>0.0</td>\n",
       "      <td>0.0</td>\n",
       "      <td>0.0</td>\n",
       "      <td>1.0</td>\n",
       "      <td>0.0</td>\n",
       "      <td>0.0</td>\n",
       "      <td>0.0</td>\n",
       "      <td>0.0</td>\n",
       "      <td>0.0</td>\n",
       "      <td>0.0</td>\n",
       "      <td>0.0</td>\n",
       "      <td>0.0</td>\n",
       "      <td>0.0</td>\n",
       "      <td>1.0</td>\n",
       "      <td>0.0</td>\n",
       "      <td>0.0</td>\n",
       "      <td>1.0</td>\n",
       "      <td>0.0</td>\n",
       "      <td>...</td>\n",
       "      <td>0.0</td>\n",
       "      <td>0.0</td>\n",
       "      <td>0.0</td>\n",
       "      <td>1.0</td>\n",
       "      <td>0.0</td>\n",
       "      <td>0.0</td>\n",
       "      <td>1.0</td>\n",
       "      <td>0.0</td>\n",
       "      <td>0.0</td>\n",
       "      <td>0.0</td>\n",
       "      <td>1.0</td>\n",
       "      <td>0.0</td>\n",
       "      <td>0.0</td>\n",
       "      <td>0.0</td>\n",
       "      <td>0.0</td>\n",
       "      <td>1.0</td>\n",
       "      <td>0.0</td>\n",
       "      <td>0.0</td>\n",
       "      <td>0.0</td>\n",
       "      <td>0.0</td>\n",
       "      <td>0.0</td>\n",
       "      <td>0.0</td>\n",
       "      <td>0.0</td>\n",
       "      <td>0.0</td>\n",
       "      <td>0.0</td>\n",
       "      <td>0.0</td>\n",
       "      <td>1.0</td>\n",
       "      <td>0.0</td>\n",
       "      <td>0.0</td>\n",
       "      <td>0.0</td>\n",
       "      <td>0.0</td>\n",
       "      <td>1.0</td>\n",
       "      <td>0.0</td>\n",
       "      <td>1.0</td>\n",
       "      <td>0.0</td>\n",
       "      <td>0.0</td>\n",
       "      <td>0.0</td>\n",
       "      <td>0.0</td>\n",
       "      <td>0.0</td>\n",
       "      <td>1.0</td>\n",
       "    </tr>\n",
       "    <tr>\n",
       "      <th>...</th>\n",
       "      <td>...</td>\n",
       "      <td>...</td>\n",
       "      <td>...</td>\n",
       "      <td>...</td>\n",
       "      <td>...</td>\n",
       "      <td>...</td>\n",
       "      <td>...</td>\n",
       "      <td>...</td>\n",
       "      <td>...</td>\n",
       "      <td>...</td>\n",
       "      <td>...</td>\n",
       "      <td>...</td>\n",
       "      <td>...</td>\n",
       "      <td>...</td>\n",
       "      <td>...</td>\n",
       "      <td>...</td>\n",
       "      <td>...</td>\n",
       "      <td>...</td>\n",
       "      <td>...</td>\n",
       "      <td>...</td>\n",
       "      <td>...</td>\n",
       "      <td>...</td>\n",
       "      <td>...</td>\n",
       "      <td>...</td>\n",
       "      <td>...</td>\n",
       "      <td>...</td>\n",
       "      <td>...</td>\n",
       "      <td>...</td>\n",
       "      <td>...</td>\n",
       "      <td>...</td>\n",
       "      <td>...</td>\n",
       "      <td>...</td>\n",
       "      <td>...</td>\n",
       "      <td>...</td>\n",
       "      <td>...</td>\n",
       "      <td>...</td>\n",
       "      <td>...</td>\n",
       "      <td>...</td>\n",
       "      <td>...</td>\n",
       "      <td>...</td>\n",
       "      <td>...</td>\n",
       "      <td>...</td>\n",
       "      <td>...</td>\n",
       "      <td>...</td>\n",
       "      <td>...</td>\n",
       "      <td>...</td>\n",
       "      <td>...</td>\n",
       "      <td>...</td>\n",
       "      <td>...</td>\n",
       "      <td>...</td>\n",
       "      <td>...</td>\n",
       "      <td>...</td>\n",
       "      <td>...</td>\n",
       "      <td>...</td>\n",
       "      <td>...</td>\n",
       "      <td>...</td>\n",
       "      <td>...</td>\n",
       "      <td>...</td>\n",
       "      <td>...</td>\n",
       "      <td>...</td>\n",
       "      <td>...</td>\n",
       "      <td>...</td>\n",
       "      <td>...</td>\n",
       "      <td>...</td>\n",
       "      <td>...</td>\n",
       "      <td>...</td>\n",
       "      <td>...</td>\n",
       "      <td>...</td>\n",
       "      <td>...</td>\n",
       "      <td>...</td>\n",
       "      <td>...</td>\n",
       "      <td>...</td>\n",
       "      <td>...</td>\n",
       "      <td>...</td>\n",
       "      <td>...</td>\n",
       "      <td>...</td>\n",
       "      <td>...</td>\n",
       "      <td>...</td>\n",
       "      <td>...</td>\n",
       "      <td>...</td>\n",
       "      <td>...</td>\n",
       "    </tr>\n",
       "    <tr>\n",
       "      <th>59395</th>\n",
       "      <td>1210.0</td>\n",
       "      <td>37.169807</td>\n",
       "      <td>-3.253847</td>\n",
       "      <td>3.0</td>\n",
       "      <td>5.0</td>\n",
       "      <td>125.0</td>\n",
       "      <td>1.0</td>\n",
       "      <td>2013.0</td>\n",
       "      <td>5.0</td>\n",
       "      <td>0.0</td>\n",
       "      <td>1.0</td>\n",
       "      <td>0.0</td>\n",
       "      <td>0.0</td>\n",
       "      <td>0.0</td>\n",
       "      <td>0.0</td>\n",
       "      <td>0.0</td>\n",
       "      <td>0.0</td>\n",
       "      <td>1.0</td>\n",
       "      <td>0.0</td>\n",
       "      <td>0.0</td>\n",
       "      <td>0.0</td>\n",
       "      <td>0.0</td>\n",
       "      <td>1.0</td>\n",
       "      <td>0.0</td>\n",
       "      <td>0.0</td>\n",
       "      <td>1.0</td>\n",
       "      <td>0.0</td>\n",
       "      <td>0.0</td>\n",
       "      <td>0.0</td>\n",
       "      <td>0.0</td>\n",
       "      <td>0.0</td>\n",
       "      <td>1.0</td>\n",
       "      <td>0.0</td>\n",
       "      <td>0.0</td>\n",
       "      <td>0.0</td>\n",
       "      <td>0.0</td>\n",
       "      <td>0.0</td>\n",
       "      <td>0.0</td>\n",
       "      <td>0.0</td>\n",
       "      <td>0.0</td>\n",
       "      <td>...</td>\n",
       "      <td>0.0</td>\n",
       "      <td>1.0</td>\n",
       "      <td>0.0</td>\n",
       "      <td>0.0</td>\n",
       "      <td>0.0</td>\n",
       "      <td>0.0</td>\n",
       "      <td>0.0</td>\n",
       "      <td>1.0</td>\n",
       "      <td>0.0</td>\n",
       "      <td>0.0</td>\n",
       "      <td>1.0</td>\n",
       "      <td>0.0</td>\n",
       "      <td>0.0</td>\n",
       "      <td>0.0</td>\n",
       "      <td>0.0</td>\n",
       "      <td>0.0</td>\n",
       "      <td>0.0</td>\n",
       "      <td>0.0</td>\n",
       "      <td>1.0</td>\n",
       "      <td>0.0</td>\n",
       "      <td>0.0</td>\n",
       "      <td>0.0</td>\n",
       "      <td>0.0</td>\n",
       "      <td>0.0</td>\n",
       "      <td>0.0</td>\n",
       "      <td>0.0</td>\n",
       "      <td>1.0</td>\n",
       "      <td>0.0</td>\n",
       "      <td>0.0</td>\n",
       "      <td>0.0</td>\n",
       "      <td>0.0</td>\n",
       "      <td>1.0</td>\n",
       "      <td>0.0</td>\n",
       "      <td>1.0</td>\n",
       "      <td>0.0</td>\n",
       "      <td>0.0</td>\n",
       "      <td>0.0</td>\n",
       "      <td>0.0</td>\n",
       "      <td>0.0</td>\n",
       "      <td>1.0</td>\n",
       "    </tr>\n",
       "    <tr>\n",
       "      <th>59396</th>\n",
       "      <td>1212.0</td>\n",
       "      <td>35.249991</td>\n",
       "      <td>-9.070629</td>\n",
       "      <td>11.0</td>\n",
       "      <td>4.0</td>\n",
       "      <td>56.0</td>\n",
       "      <td>1.0</td>\n",
       "      <td>2011.0</td>\n",
       "      <td>5.0</td>\n",
       "      <td>0.0</td>\n",
       "      <td>1.0</td>\n",
       "      <td>0.0</td>\n",
       "      <td>0.0</td>\n",
       "      <td>0.0</td>\n",
       "      <td>0.0</td>\n",
       "      <td>0.0</td>\n",
       "      <td>0.0</td>\n",
       "      <td>1.0</td>\n",
       "      <td>0.0</td>\n",
       "      <td>0.0</td>\n",
       "      <td>0.0</td>\n",
       "      <td>1.0</td>\n",
       "      <td>0.0</td>\n",
       "      <td>0.0</td>\n",
       "      <td>0.0</td>\n",
       "      <td>1.0</td>\n",
       "      <td>0.0</td>\n",
       "      <td>0.0</td>\n",
       "      <td>0.0</td>\n",
       "      <td>0.0</td>\n",
       "      <td>1.0</td>\n",
       "      <td>0.0</td>\n",
       "      <td>0.0</td>\n",
       "      <td>0.0</td>\n",
       "      <td>0.0</td>\n",
       "      <td>0.0</td>\n",
       "      <td>0.0</td>\n",
       "      <td>0.0</td>\n",
       "      <td>0.0</td>\n",
       "      <td>1.0</td>\n",
       "      <td>...</td>\n",
       "      <td>0.0</td>\n",
       "      <td>0.0</td>\n",
       "      <td>0.0</td>\n",
       "      <td>0.0</td>\n",
       "      <td>0.0</td>\n",
       "      <td>0.0</td>\n",
       "      <td>0.0</td>\n",
       "      <td>0.0</td>\n",
       "      <td>1.0</td>\n",
       "      <td>0.0</td>\n",
       "      <td>1.0</td>\n",
       "      <td>0.0</td>\n",
       "      <td>0.0</td>\n",
       "      <td>0.0</td>\n",
       "      <td>0.0</td>\n",
       "      <td>0.0</td>\n",
       "      <td>1.0</td>\n",
       "      <td>0.0</td>\n",
       "      <td>0.0</td>\n",
       "      <td>0.0</td>\n",
       "      <td>0.0</td>\n",
       "      <td>0.0</td>\n",
       "      <td>0.0</td>\n",
       "      <td>0.0</td>\n",
       "      <td>0.0</td>\n",
       "      <td>0.0</td>\n",
       "      <td>1.0</td>\n",
       "      <td>0.0</td>\n",
       "      <td>0.0</td>\n",
       "      <td>0.0</td>\n",
       "      <td>0.0</td>\n",
       "      <td>1.0</td>\n",
       "      <td>0.0</td>\n",
       "      <td>1.0</td>\n",
       "      <td>0.0</td>\n",
       "      <td>0.0</td>\n",
       "      <td>0.0</td>\n",
       "      <td>1.0</td>\n",
       "      <td>0.0</td>\n",
       "      <td>0.0</td>\n",
       "    </tr>\n",
       "    <tr>\n",
       "      <th>59397</th>\n",
       "      <td>0.0</td>\n",
       "      <td>34.017087</td>\n",
       "      <td>-8.750434</td>\n",
       "      <td>12.0</td>\n",
       "      <td>7.0</td>\n",
       "      <td>1.0</td>\n",
       "      <td>0.0</td>\n",
       "      <td>2011.0</td>\n",
       "      <td>4.0</td>\n",
       "      <td>0.0</td>\n",
       "      <td>1.0</td>\n",
       "      <td>0.0</td>\n",
       "      <td>0.0</td>\n",
       "      <td>0.0</td>\n",
       "      <td>0.0</td>\n",
       "      <td>0.0</td>\n",
       "      <td>0.0</td>\n",
       "      <td>0.0</td>\n",
       "      <td>1.0</td>\n",
       "      <td>0.0</td>\n",
       "      <td>0.0</td>\n",
       "      <td>1.0</td>\n",
       "      <td>0.0</td>\n",
       "      <td>0.0</td>\n",
       "      <td>0.0</td>\n",
       "      <td>0.0</td>\n",
       "      <td>0.0</td>\n",
       "      <td>0.0</td>\n",
       "      <td>0.0</td>\n",
       "      <td>1.0</td>\n",
       "      <td>0.0</td>\n",
       "      <td>0.0</td>\n",
       "      <td>1.0</td>\n",
       "      <td>0.0</td>\n",
       "      <td>0.0</td>\n",
       "      <td>0.0</td>\n",
       "      <td>1.0</td>\n",
       "      <td>0.0</td>\n",
       "      <td>0.0</td>\n",
       "      <td>0.0</td>\n",
       "      <td>...</td>\n",
       "      <td>0.0</td>\n",
       "      <td>0.0</td>\n",
       "      <td>0.0</td>\n",
       "      <td>0.0</td>\n",
       "      <td>0.0</td>\n",
       "      <td>0.0</td>\n",
       "      <td>0.0</td>\n",
       "      <td>0.0</td>\n",
       "      <td>1.0</td>\n",
       "      <td>0.0</td>\n",
       "      <td>0.0</td>\n",
       "      <td>0.0</td>\n",
       "      <td>1.0</td>\n",
       "      <td>0.0</td>\n",
       "      <td>0.0</td>\n",
       "      <td>0.0</td>\n",
       "      <td>0.0</td>\n",
       "      <td>1.0</td>\n",
       "      <td>0.0</td>\n",
       "      <td>0.0</td>\n",
       "      <td>0.0</td>\n",
       "      <td>0.0</td>\n",
       "      <td>0.0</td>\n",
       "      <td>0.0</td>\n",
       "      <td>0.0</td>\n",
       "      <td>0.0</td>\n",
       "      <td>1.0</td>\n",
       "      <td>0.0</td>\n",
       "      <td>0.0</td>\n",
       "      <td>1.0</td>\n",
       "      <td>0.0</td>\n",
       "      <td>0.0</td>\n",
       "      <td>0.0</td>\n",
       "      <td>1.0</td>\n",
       "      <td>0.0</td>\n",
       "      <td>0.0</td>\n",
       "      <td>0.0</td>\n",
       "      <td>0.0</td>\n",
       "      <td>0.0</td>\n",
       "      <td>1.0</td>\n",
       "    </tr>\n",
       "    <tr>\n",
       "      <th>59398</th>\n",
       "      <td>0.0</td>\n",
       "      <td>35.861315</td>\n",
       "      <td>-6.378573</td>\n",
       "      <td>1.0</td>\n",
       "      <td>4.0</td>\n",
       "      <td>1.0</td>\n",
       "      <td>1.0</td>\n",
       "      <td>2011.0</td>\n",
       "      <td>3.0</td>\n",
       "      <td>0.0</td>\n",
       "      <td>1.0</td>\n",
       "      <td>0.0</td>\n",
       "      <td>0.0</td>\n",
       "      <td>0.0</td>\n",
       "      <td>0.0</td>\n",
       "      <td>0.0</td>\n",
       "      <td>0.0</td>\n",
       "      <td>0.0</td>\n",
       "      <td>1.0</td>\n",
       "      <td>0.0</td>\n",
       "      <td>0.0</td>\n",
       "      <td>1.0</td>\n",
       "      <td>0.0</td>\n",
       "      <td>0.0</td>\n",
       "      <td>0.0</td>\n",
       "      <td>0.0</td>\n",
       "      <td>1.0</td>\n",
       "      <td>0.0</td>\n",
       "      <td>0.0</td>\n",
       "      <td>0.0</td>\n",
       "      <td>0.0</td>\n",
       "      <td>0.0</td>\n",
       "      <td>0.0</td>\n",
       "      <td>0.0</td>\n",
       "      <td>0.0</td>\n",
       "      <td>1.0</td>\n",
       "      <td>0.0</td>\n",
       "      <td>0.0</td>\n",
       "      <td>0.0</td>\n",
       "      <td>0.0</td>\n",
       "      <td>...</td>\n",
       "      <td>0.0</td>\n",
       "      <td>0.0</td>\n",
       "      <td>0.0</td>\n",
       "      <td>0.0</td>\n",
       "      <td>0.0</td>\n",
       "      <td>0.0</td>\n",
       "      <td>0.0</td>\n",
       "      <td>0.0</td>\n",
       "      <td>1.0</td>\n",
       "      <td>0.0</td>\n",
       "      <td>0.0</td>\n",
       "      <td>0.0</td>\n",
       "      <td>1.0</td>\n",
       "      <td>0.0</td>\n",
       "      <td>0.0</td>\n",
       "      <td>1.0</td>\n",
       "      <td>0.0</td>\n",
       "      <td>0.0</td>\n",
       "      <td>0.0</td>\n",
       "      <td>0.0</td>\n",
       "      <td>0.0</td>\n",
       "      <td>0.0</td>\n",
       "      <td>0.0</td>\n",
       "      <td>0.0</td>\n",
       "      <td>0.0</td>\n",
       "      <td>0.0</td>\n",
       "      <td>1.0</td>\n",
       "      <td>0.0</td>\n",
       "      <td>0.0</td>\n",
       "      <td>0.0</td>\n",
       "      <td>0.0</td>\n",
       "      <td>1.0</td>\n",
       "      <td>0.0</td>\n",
       "      <td>1.0</td>\n",
       "      <td>0.0</td>\n",
       "      <td>0.0</td>\n",
       "      <td>0.0</td>\n",
       "      <td>0.0</td>\n",
       "      <td>0.0</td>\n",
       "      <td>1.0</td>\n",
       "    </tr>\n",
       "    <tr>\n",
       "      <th>59399</th>\n",
       "      <td>191.0</td>\n",
       "      <td>38.104048</td>\n",
       "      <td>-6.747464</td>\n",
       "      <td>5.0</td>\n",
       "      <td>2.0</td>\n",
       "      <td>150.0</td>\n",
       "      <td>1.0</td>\n",
       "      <td>2011.0</td>\n",
       "      <td>3.0</td>\n",
       "      <td>0.0</td>\n",
       "      <td>1.0</td>\n",
       "      <td>0.0</td>\n",
       "      <td>1.0</td>\n",
       "      <td>0.0</td>\n",
       "      <td>0.0</td>\n",
       "      <td>0.0</td>\n",
       "      <td>0.0</td>\n",
       "      <td>0.0</td>\n",
       "      <td>0.0</td>\n",
       "      <td>0.0</td>\n",
       "      <td>0.0</td>\n",
       "      <td>1.0</td>\n",
       "      <td>0.0</td>\n",
       "      <td>0.0</td>\n",
       "      <td>0.0</td>\n",
       "      <td>0.0</td>\n",
       "      <td>1.0</td>\n",
       "      <td>0.0</td>\n",
       "      <td>0.0</td>\n",
       "      <td>0.0</td>\n",
       "      <td>0.0</td>\n",
       "      <td>0.0</td>\n",
       "      <td>0.0</td>\n",
       "      <td>1.0</td>\n",
       "      <td>0.0</td>\n",
       "      <td>0.0</td>\n",
       "      <td>0.0</td>\n",
       "      <td>0.0</td>\n",
       "      <td>0.0</td>\n",
       "      <td>0.0</td>\n",
       "      <td>...</td>\n",
       "      <td>0.0</td>\n",
       "      <td>0.0</td>\n",
       "      <td>0.0</td>\n",
       "      <td>0.0</td>\n",
       "      <td>0.0</td>\n",
       "      <td>0.0</td>\n",
       "      <td>0.0</td>\n",
       "      <td>0.0</td>\n",
       "      <td>0.0</td>\n",
       "      <td>1.0</td>\n",
       "      <td>0.0</td>\n",
       "      <td>0.0</td>\n",
       "      <td>1.0</td>\n",
       "      <td>0.0</td>\n",
       "      <td>0.0</td>\n",
       "      <td>0.0</td>\n",
       "      <td>0.0</td>\n",
       "      <td>0.0</td>\n",
       "      <td>0.0</td>\n",
       "      <td>1.0</td>\n",
       "      <td>0.0</td>\n",
       "      <td>0.0</td>\n",
       "      <td>0.0</td>\n",
       "      <td>0.0</td>\n",
       "      <td>0.0</td>\n",
       "      <td>1.0</td>\n",
       "      <td>0.0</td>\n",
       "      <td>0.0</td>\n",
       "      <td>0.0</td>\n",
       "      <td>0.0</td>\n",
       "      <td>1.0</td>\n",
       "      <td>0.0</td>\n",
       "      <td>0.0</td>\n",
       "      <td>1.0</td>\n",
       "      <td>0.0</td>\n",
       "      <td>0.0</td>\n",
       "      <td>0.0</td>\n",
       "      <td>0.0</td>\n",
       "      <td>0.0</td>\n",
       "      <td>1.0</td>\n",
       "    </tr>\n",
       "  </tbody>\n",
       "</table>\n",
       "<p>59400 rows × 89 columns</p>\n",
       "</div>"
      ],
      "text/plain": [
       "       gps_height  longitude   latitude  ...  lga_Njombe  lga_Rungwe  lga_other\n",
       "0          1390.0  34.938093  -9.856322  ...         0.0         0.0        1.0\n",
       "1          1399.0  34.698766  -2.147466  ...         0.0         0.0        1.0\n",
       "2           686.0  37.460664  -3.821329  ...         0.0         0.0        1.0\n",
       "3           263.0  38.486161 -11.155298  ...         0.0         0.0        1.0\n",
       "4             0.0  31.130847  -1.825359  ...         0.0         0.0        1.0\n",
       "...           ...        ...        ...  ...         ...         ...        ...\n",
       "59395      1210.0  37.169807  -3.253847  ...         0.0         0.0        1.0\n",
       "59396      1212.0  35.249991  -9.070629  ...         1.0         0.0        0.0\n",
       "59397         0.0  34.017087  -8.750434  ...         0.0         0.0        1.0\n",
       "59398         0.0  35.861315  -6.378573  ...         0.0         0.0        1.0\n",
       "59399       191.0  38.104048  -6.747464  ...         0.0         0.0        1.0\n",
       "\n",
       "[59400 rows x 89 columns]"
      ]
     },
     "execution_count": 429,
     "metadata": {
      "tags": []
     },
     "output_type": "execute_result"
    }
   ],
   "source": [
    "data_proc = ColumnTransformer(transformers=[('num', num_transformer, num_var),\n",
    "                                            ('cat', cat_transformer, cat_var)])\n",
    "\n",
    "X_train_proc = data_proc.fit_transform(X_train)\n",
    "X_train_proc = pd.DataFrame(X_train_proc, columns=col_final)\n",
    "X_train_proc"
   ]
  },
  {
   "cell_type": "markdown",
   "metadata": {
    "id": "1j4bRHXnU9ei"
   },
   "source": [
    "This shall be the main data after the full processing that will be used in our model. For ease, PCA and Scaling will be left out of this dataset and will only be performed during model building in the next step."
   ]
  },
  {
   "cell_type": "markdown",
   "metadata": {
    "id": "uuF95ExCRmGf"
   },
   "source": [
    "# Model Building"
   ]
  },
  {
   "cell_type": "markdown",
   "metadata": {
    "id": "jW9tpuGwR2j7"
   },
   "source": [
    "To allow for the Y values to be trained and recognizable, we first label encode it. To do so,\n",
    "we convert Y_train to type \"category\". This allows the data to be later coded into numerical format. \n",
    "> 0 : Functional\n",
    "\n",
    "> 1 : Functional need Repair\n",
    "\n",
    "> 2 : Non-Functional\n",
    "\n",
    "\n"
   ]
  },
  {
   "cell_type": "code",
   "execution_count": 430,
   "metadata": {
    "colab": {
     "base_uri": "https://localhost:8080/",
     "height": 198
    },
    "id": "AgiZQAw7SkHM",
    "outputId": "d32597d2-f6a8-4945-b8a1-0d81c98fe536"
   },
   "outputs": [
    {
     "data": {
      "text/html": [
       "<div>\n",
       "<style scoped>\n",
       "    .dataframe tbody tr th:only-of-type {\n",
       "        vertical-align: middle;\n",
       "    }\n",
       "\n",
       "    .dataframe tbody tr th {\n",
       "        vertical-align: top;\n",
       "    }\n",
       "\n",
       "    .dataframe thead th {\n",
       "        text-align: right;\n",
       "    }\n",
       "</style>\n",
       "<table border=\"1\" class=\"dataframe\">\n",
       "  <thead>\n",
       "    <tr style=\"text-align: right;\">\n",
       "      <th></th>\n",
       "      <th>id</th>\n",
       "      <th>status_group</th>\n",
       "    </tr>\n",
       "  </thead>\n",
       "  <tbody>\n",
       "    <tr>\n",
       "      <th>0</th>\n",
       "      <td>69572</td>\n",
       "      <td>functional</td>\n",
       "    </tr>\n",
       "    <tr>\n",
       "      <th>1</th>\n",
       "      <td>8776</td>\n",
       "      <td>functional</td>\n",
       "    </tr>\n",
       "    <tr>\n",
       "      <th>2</th>\n",
       "      <td>34310</td>\n",
       "      <td>functional</td>\n",
       "    </tr>\n",
       "    <tr>\n",
       "      <th>3</th>\n",
       "      <td>67743</td>\n",
       "      <td>non functional</td>\n",
       "    </tr>\n",
       "    <tr>\n",
       "      <th>4</th>\n",
       "      <td>19728</td>\n",
       "      <td>functional</td>\n",
       "    </tr>\n",
       "  </tbody>\n",
       "</table>\n",
       "</div>"
      ],
      "text/plain": [
       "      id    status_group\n",
       "0  69572      functional\n",
       "1   8776      functional\n",
       "2  34310      functional\n",
       "3  67743  non functional\n",
       "4  19728      functional"
      ]
     },
     "execution_count": 430,
     "metadata": {
      "tags": []
     },
     "output_type": "execute_result"
    }
   ],
   "source": [
    "Y_train.head(5)"
   ]
  },
  {
   "cell_type": "code",
   "execution_count": 431,
   "metadata": {
    "colab": {
     "base_uri": "https://localhost:8080/"
    },
    "id": "ff0mjGtovFTL",
    "outputId": "468d63ee-b1ea-4465-c7d1-99bc1a8d050b"
   },
   "outputs": [
    {
     "data": {
      "text/plain": [
       "0    0\n",
       "1    0\n",
       "2    0\n",
       "3    2\n",
       "4    0\n",
       "dtype: int8"
      ]
     },
     "execution_count": 431,
     "metadata": {
      "tags": []
     },
     "output_type": "execute_result"
    }
   ],
   "source": [
    "Y_train_enc = Y_train['status_group'].astype('category')\n",
    "Y_train_enc = Y_train_enc.cat.codes\n",
    "Y_train_enc.head(5)"
   ]
  },
  {
   "cell_type": "markdown",
   "metadata": {
    "id": "3CG1e-NvgYcy"
   },
   "source": [
    "\n",
    "K Neighbor Classification Model\n",
    "---\n",
    "\n"
   ]
  },
  {
   "cell_type": "markdown",
   "metadata": {
    "id": "Jf9Nv0VcWx_D"
   },
   "source": [
    "### First submission with KNN classifier"
   ]
  },
  {
   "cell_type": "code",
   "execution_count": null,
   "metadata": {
    "id": "cCN3VA6RKN5W"
   },
   "outputs": [],
   "source": [
    "# data_proc gives the complete dataset after preprocessing. \n",
    "knn_cls = Pipeline(steps=[('preprocess', data_proc),\n",
    "                          ('scaler', StandardScaler()),\n",
    "                          ('pca', PCA()),\n",
    "                          ('knn', KNeighborsClassifier())])\n",
    "hyparams = {'preprocess__num__num_elim__r': [0.5, 0.8],\n",
    "            'pca__n_components': [20, 30, 40],\n",
    "            'knn__n_neighbors': [3, 5, 7]}\n",
    "model = GridSearchCV(knn_cls, hyparams, cv=5)\n",
    "model.fit(X_train, Y_train_enc)"
   ]
  },
  {
   "cell_type": "code",
   "execution_count": null,
   "metadata": {
    "id": "EvovRe3ZWE2A"
   },
   "outputs": [],
   "source": [
    "model.best_estimator_"
   ]
  },
  {
   "cell_type": "code",
   "execution_count": null,
   "metadata": {
    "id": "nCLLCOh6Nx2S"
   },
   "outputs": [],
   "source": [
    "scores = cross_val_score(model.best_estimator_, X_train, Y_train_enc, cv=5)"
   ]
  },
  {
   "cell_type": "code",
   "execution_count": null,
   "metadata": {
    "id": "zi7GkPt0UMuN"
   },
   "outputs": [],
   "source": [
    "np.mean(scores)"
   ]
  },
  {
   "cell_type": "code",
   "execution_count": null,
   "metadata": {
    "id": "5KB--tMHUNzk"
   },
   "outputs": [],
   "source": [
    "Y_pred = model.predict(X_test)"
   ]
  },
  {
   "cell_type": "markdown",
   "metadata": {
    "id": "MTamtAXCsDi8"
   },
   "source": [
    "Getting data ready for submission..."
   ]
  },
  {
   "cell_type": "code",
   "execution_count": null,
   "metadata": {
    "id": "AdljdZyLsTfx"
   },
   "outputs": [],
   "source": [
    "pred_Id = X_test['id']\n",
    "pred_Id"
   ]
  },
  {
   "cell_type": "code",
   "execution_count": null,
   "metadata": {
    "id": "ihkHwqgHtbcT"
   },
   "outputs": [],
   "source": [
    "submit = pd.DataFrame(data=pred_Id, columns=['id'])\n",
    "submit['status_group'] = Y_pred\n"
   ]
  },
  {
   "cell_type": "code",
   "execution_count": null,
   "metadata": {
    "id": "t5X7N98LvPSf"
   },
   "outputs": [],
   "source": [
    "vals_to_replace = {0:'functional', 1:'functional needs repair',\n",
    "                   2:'non functional'}\n",
    "\n",
    "submit.status_group = submit.status_group.replace(vals_to_replace)\n",
    "submit.head()"
   ]
  },
  {
   "cell_type": "code",
   "execution_count": null,
   "metadata": {
    "id": "yYMDhUWHc6Pn"
   },
   "outputs": [],
   "source": [
    "submit.to_csv('knn_predictions.csv', index=False)"
   ]
  },
  {
   "cell_type": "markdown",
   "metadata": {
    "id": "MZYc-oYKQvaF"
   },
   "source": [
    "On our first submision of the K Neighbors Classification Model, we got a accuracy score of **0.7768**. To see what parameters are used for the model, we look at our model.best_estimator_ to see that the following parameters are being used:\n",
    "\n",
    "*  Numerical Eliminator r value: 0.5\n",
    "*  Simple Imputer Strategy: Most Frequent\n",
    "*  PCA n_components: 30\n",
    "*  KNN n_neighbors: 7\n",
    "\n"
   ]
  },
  {
   "cell_type": "markdown",
   "metadata": {
    "id": "fxiF0kzcU4CM"
   },
   "source": [
    "\n",
    "###Improving Our Model For Second Submission\n",
    "\n",
    "\n"
   ]
  },
  {
   "cell_type": "markdown",
   "metadata": {
    "id": "ryxr9u1ZSoxU"
   },
   "source": [
    "Following the first submission, we try to improve our model by adding tuning more hyperparameters while fixing the other ones to reduce run time.\n",
    "Specificially, we would like to experiment with keeping the features ['installer', 'ward'] in our dataset by increasing the category eliminator 'limit' value to 2500. \n",
    "We also try to retain more information in the categorical variables by increasing the hyperparameter 'topX' to 7 instead of 5. All these will be done at a cost of increasing runtime but might help us develop a more accurate model."
   ]
  },
  {
   "cell_type": "code",
   "execution_count": null,
   "metadata": {
    "id": "11IQ1-x8VF-r"
   },
   "outputs": [],
   "source": [
    "# data_proc gives the complete dataset after preprocessing. \n",
    "knn_cls = Pipeline(steps=[('preprocess', data_proc),\n",
    "                          ('scaler', StandardScaler()),\n",
    "                          ('pca', PCA()),\n",
    "                          ('knn', KNeighborsClassifier())])\n",
    "hyparams = {'preprocess__num__num_elim__r': [0.5],  #fix numerical eliminator r since it works fine\n",
    "            'preprocess__cat__cat_elim__limit': [2000, 2500],\n",
    "            'preprocess__cat__cat_convert__cat2_process__topX': [5, 7],\n",
    "            'pca__n_components': [30],   #fixed pca no.components at 30\n",
    "            'knn__n_neighbors': [5, 7, 9]}\n",
    "model2 = GridSearchCV(knn_cls, hyparams, cv=5)\n",
    "model2.fit(X_train, Y_train_enc)"
   ]
  },
  {
   "cell_type": "code",
   "execution_count": null,
   "metadata": {
    "id": "2JtcoF0_hLQI"
   },
   "outputs": [],
   "source": [
    "model2.best_params_"
   ]
  },
  {
   "cell_type": "markdown",
   "metadata": {
    "id": "mSvGLSyl2y0i"
   },
   "source": [
    "Since the tuned model parameters did not change from the first model, we will keep the current tuning parameters for our model. Nothing will be changed. "
   ]
  },
  {
   "cell_type": "markdown",
   "metadata": {
    "id": "ntHiOwlxgexF"
   },
   "source": [
    "\n",
    "Neural Network Model\n",
    "---\n",
    "\n"
   ]
  },
  {
   "cell_type": "markdown",
   "metadata": {
    "id": "2262p0QReZPI"
   },
   "source": [
    "For our ANN model, we will be using the processed data that we generated earlier. We will first perform feature scaling on this data which is essential for deep learning."
   ]
  },
  {
   "cell_type": "code",
   "execution_count": null,
   "metadata": {
    "id": "CgWMijyFeoek"
   },
   "outputs": [],
   "source": [
    "X_train_proc"
   ]
  },
  {
   "cell_type": "markdown",
   "metadata": {
    "id": "8tWnBL01BpwK"
   },
   "source": [
    "We first get the number of features using the earlier preprocessed data"
   ]
  },
  {
   "cell_type": "code",
   "execution_count": null,
   "metadata": {
    "id": "-FkWDk3BGtbr"
   },
   "outputs": [],
   "source": [
    "n_features = len(X_train_proc.columns)\n",
    "n_features"
   ]
  },
  {
   "cell_type": "markdown",
   "metadata": {
    "id": "U4KC8z9wB2MG"
   },
   "source": [
    "We then transform our X_test with the values fitted for X_train using our data_processor in a new dataframe X_test_proc."
   ]
  },
  {
   "cell_type": "code",
   "execution_count": null,
   "metadata": {
    "id": "q_QowI3bfYAH"
   },
   "outputs": [],
   "source": [
    "# Transforming our X_test using the values fitted for X_train\n",
    "X_test_proc = data_proc.transform(X_test)\n",
    "X_test_proc = pd.DataFrame(X_test_proc, columns=col_final)\n",
    "X_test_proc.head()"
   ]
  },
  {
   "cell_type": "markdown",
   "metadata": {
    "id": "HS_KWXnQCMKe"
   },
   "source": [
    "We use **StandardScaler** to remove the mean and scale each feature to its unit variance independently."
   ]
  },
  {
   "cell_type": "code",
   "execution_count": null,
   "metadata": {
    "id": "FiR0fVmee5TO"
   },
   "outputs": [],
   "source": [
    "sc = StandardScaler()\n",
    "\n",
    "X_train_sc = sc.fit_transform(X_train_proc)\n",
    "X_test_sc = sc.transform(X_test_proc)"
   ]
  },
  {
   "cell_type": "markdown",
   "metadata": {
    "id": "0cJPyw4eHxUX"
   },
   "source": [
    "We also experimented with MinMaxScaler to see if one result is better than the other. However, since StandardScaler seems to give us better results, we will be using StandardScaler."
   ]
  },
  {
   "cell_type": "code",
   "execution_count": null,
   "metadata": {
    "id": "RjUTBL5gnlmt"
   },
   "outputs": [],
   "source": [
    "# mc = MinMaxScaler()\n",
    "\n",
    "# X_train_sc = mc.fit_transform(X_train_proc)\n",
    "# X_test_sc = mc.transform(X_test_proc)"
   ]
  },
  {
   "cell_type": "code",
   "execution_count": null,
   "metadata": {
    "id": "fI_px0BPtG4d"
   },
   "outputs": [],
   "source": [
    "X_train_sc, Y_train_enc = map(torch.tensor, (X_train_sc, Y_train_enc))\n",
    "X_train_sc = X_train_sc.float()\n",
    "Y_train_enc = Y_train_enc.long()"
   ]
  },
  {
   "cell_type": "markdown",
   "metadata": {
    "id": "UQ0pcVrkE87D"
   },
   "source": [
    "After scaling and converting our datasets into tensor format, we are ready to create our tensor dataset."
   ]
  },
  {
   "cell_type": "code",
   "execution_count": null,
   "metadata": {
    "id": "MVwpAkKYr8PK"
   },
   "outputs": [],
   "source": [
    "dataset = TensorDataset(X_train_sc,Y_train_enc)"
   ]
  },
  {
   "cell_type": "markdown",
   "metadata": {
    "id": "Ukq2LJuXFMHz"
   },
   "source": [
    "Now that we have our processed training and test set values, we would like to create another validation set to be used for our Artificial Neural Network Model. \n",
    "\n",
    "*  Train Set: To train model, compute loss and adjust weights of model using gradient descent.\n",
    "*  Validation Set: To evaluate the model during training and adjust hyperparams like learning rate etc.\n",
    "*  Test Set: Submission set that will be uploaded to the competition.\n"
   ]
  },
  {
   "cell_type": "code",
   "execution_count": null,
   "metadata": {
    "id": "3OOmkNqM3K9X"
   },
   "outputs": [],
   "source": [
    "def data_split(n, valid_percent):\n",
    "  # Creates size of validation set\n",
    "  n_val = int(valid_percent*n)\n",
    "  # Create random permutation of 0 to n-1\n",
    "  idx = np.random.permutation(n)\n",
    "  # Split first n_val to be validation set\n",
    "  return idx[n_val:], idx[:n_val]"
   ]
  },
  {
   "cell_type": "markdown",
   "metadata": {
    "id": "GdEzV4CgC7Sq"
   },
   "source": [
    "To split this data, we will manually split the train set into training and validation set."
   ]
  },
  {
   "cell_type": "code",
   "execution_count": null,
   "metadata": {
    "id": "KXbSfo-ILmXG"
   },
   "outputs": [],
   "source": [
    "train_indices, val_indices = data_split(len(X_train_proc), valid_percent=0.25)"
   ]
  },
  {
   "cell_type": "markdown",
   "metadata": {
    "id": "q9VRNmWo51Hv"
   },
   "source": [
    "After creating our train and validation sets, we use SubsetRandomSampler to sample element randomly from a given list of indices, while creating batches of data."
   ]
  },
  {
   "cell_type": "code",
   "execution_count": null,
   "metadata": {
    "id": "-2qZlsaq5gsD"
   },
   "outputs": [],
   "source": [
    "# batch size\n",
    "bs = 100\n",
    "\n",
    "# Training sampler / Data Loader\n",
    "train_sampler = SubsetRandomSampler(train_indices)\n",
    "train_loader = DataLoader(dataset, bs, sampler = train_sampler)\n",
    "\n",
    "# Validation sampler / Data Loader\n",
    "val_sampler = SubsetRandomSampler(val_indices)\n",
    "val_loader = DataLoader(dataset, bs, sampler = val_sampler)"
   ]
  },
  {
   "cell_type": "markdown",
   "metadata": {
    "id": "DO0nUmVpDmrA"
   },
   "source": [
    "We initialize our model with an input of 89 features as per the processed X_train dataset. We start off by creating 2 hidden layers, 1 of 30 neurons and the other of 20 neurons. Both of the hidden layers are fully connected. After which, we feed to the output layer which consists of 3 classes - functional, non-functional and functional needs repair. As we go down each hidden layer, we try to reduce the number of features. We might add or drop hidden layers in the future, depending on the scores that we receive or during hyperparameter tuning later."
   ]
  },
  {
   "cell_type": "code",
   "execution_count": null,
   "metadata": {
    "id": "YTkc5kRq7He5"
   },
   "outputs": [],
   "source": [
    "num_classes = 3\n",
    "\n",
    "class Net(nn.Module):\n",
    "\n",
    "  def __init__(self):\n",
    "    super().__init__()\n",
    "    self.fc1 = nn.Linear(n_features, 30) \n",
    "    self.fc2 = nn.Linear(30, 20)\n",
    "    self.fc3 = nn.Linear(20, num_classes)\n",
    "\n",
    "  def forward(self, x):\n",
    "    x = F.relu(self.fc1(x))\n",
    "    x = F.relu(self.fc2(x))\n",
    "    return self.fc3(x) #dont need to call softmax as we will be using Pytorch's cross entropy loss"
   ]
  },
  {
   "cell_type": "markdown",
   "metadata": {
    "id": "MDoK43muxmf8"
   },
   "source": [
    "### Understanding Our Model"
   ]
  },
  {
   "cell_type": "code",
   "execution_count": null,
   "metadata": {
    "id": "sax0cF57DyyK"
   },
   "outputs": [],
   "source": [
    "model = Net()"
   ]
  },
  {
   "cell_type": "code",
   "execution_count": null,
   "metadata": {
    "id": "XPFWkquTrJOn"
   },
   "outputs": [],
   "source": [
    "for data, labels in train_loader:\n",
    "  xb, yb = data, labels\n",
    "  outputs = model(data)\n",
    "  break\n",
    "\n",
    "print(outputs[0])"
   ]
  },
  {
   "cell_type": "markdown",
   "metadata": {
    "id": "b29bMDSvBJaV"
   },
   "source": [
    "The above shows the output generated by the model using random weights and biases. We will feed it through the softmax function in order to get the probability of each label."
   ]
  },
  {
   "cell_type": "code",
   "execution_count": null,
   "metadata": {
    "id": "8fz9KRrVAUrE"
   },
   "outputs": [],
   "source": [
    "probs = F.softmax(outputs, dim=1)"
   ]
  },
  {
   "cell_type": "markdown",
   "metadata": {
    "id": "mZVtxAyGBlbV"
   },
   "source": [
    "Now we can use torch.max to get the element with the largest probability which will be the predicted label."
   ]
  },
  {
   "cell_type": "code",
   "execution_count": null,
   "metadata": {
    "id": "A5VpAykQCRem"
   },
   "outputs": [],
   "source": [
    "max_probs, preds = torch.max(probs, dim=1)\n",
    "print(preds)"
   ]
  },
  {
   "cell_type": "markdown",
   "metadata": {
    "id": "7qHuDz-i9bGC"
   },
   "source": [
    "### Evaluation Metric And Loss Function"
   ]
  },
  {
   "cell_type": "markdown",
   "metadata": {
    "id": "EWpJXqru9qIJ"
   },
   "source": [
    "Now that we have built our model, we need a way to evaluate how the model is performing. To do so, we will calculate the percentage of labels that were predicted correctly."
   ]
  },
  {
   "cell_type": "code",
   "execution_count": null,
   "metadata": {
    "id": "ImfRnSTN90dF"
   },
   "outputs": [],
   "source": [
    "def accuracy(outputs, labels):\n",
    "  _, preds = torch.max(outputs, dim=1)\n",
    "  return torch.sum(preds == labels).item() / len(preds)"
   ]
  },
  {
   "cell_type": "markdown",
   "metadata": {
    "id": "BxPoOc7jElCv"
   },
   "source": [
    "The accuracy function gives us the percentage of labels predicted correctly"
   ]
  },
  {
   "cell_type": "code",
   "execution_count": null,
   "metadata": {
    "id": "GiNbREA3KBWa"
   },
   "outputs": [],
   "source": [
    "accuracy(outputs, labels)"
   ]
  },
  {
   "cell_type": "markdown",
   "metadata": {
    "id": "igiQUCcXEh64"
   },
   "source": [
    "The accuracy function helps us to see how close our model predictions are to the actual labels. However, it can not be used as a loss function to optimize the model using gradient ascent. For the loss function, we will be using Pytorch's cross entropy loss."
   ]
  },
  {
   "cell_type": "code",
   "execution_count": null,
   "metadata": {
    "id": "6sCjKVfrE1LQ"
   },
   "outputs": [],
   "source": [
    "loss_func = F.cross_entropy"
   ]
  },
  {
   "cell_type": "code",
   "execution_count": null,
   "metadata": {
    "id": "DXFCjTrdFSeB"
   },
   "outputs": [],
   "source": [
    "loss = loss_func(outputs, labels)\n",
    "print(loss)"
   ]
  },
  {
   "cell_type": "markdown",
   "metadata": {
    "id": "90aP9ybdMMAW"
   },
   "source": [
    "Now that we have created our loss function, we are going to create the optimizer to update the weights and biases during training, with a learning rate of 0.01"
   ]
  },
  {
   "cell_type": "code",
   "execution_count": null,
   "metadata": {
    "id": "LIPBvfYEMY1r"
   },
   "outputs": [],
   "source": [
    "lr = 0.01\n",
    "epochs = 40\n",
    "# opt = torch.optim.SGD(model.parameters(), lr=lr)"
   ]
  },
  {
   "cell_type": "code",
   "execution_count": null,
   "metadata": {
    "id": "9IcU6RM0ezg2"
   },
   "outputs": [],
   "source": [
    "def get_model():\n",
    "  model = Net()\n",
    "  return model, optim.SGD(model.parameters(), lr=lr)"
   ]
  },
  {
   "cell_type": "code",
   "execution_count": null,
   "metadata": {
    "id": "DDQjJn5vT4lh"
   },
   "outputs": [],
   "source": [
    "print(model.parameters)"
   ]
  },
  {
   "cell_type": "markdown",
   "metadata": {
    "id": "HWeJeLnMXZPK"
   },
   "source": [
    "### Fitting our Model"
   ]
  },
  {
   "cell_type": "code",
   "execution_count": null,
   "metadata": {
    "id": "P-36rF8zbSYe"
   },
   "outputs": [],
   "source": [
    "model, opt = get_model()\n",
    "acc_trend = []\n",
    "\n",
    "def fit():\n",
    "  for epoch in range(epochs):\n",
    "    model.train()\n",
    "    for xb, yb in train_loader:\n",
    "      pred = model(xb)\n",
    "      loss = loss_func(pred,yb)\n",
    "\n",
    "      loss.backward()\n",
    "      opt.step() \n",
    "      opt.zero_grad()\n",
    "\n",
    "    model.eval()\n",
    "    with torch.no_grad():\n",
    "      valid_loss = sum(loss_func(model(xb), yb) for xb,yb in val_loader)/len(val_loader)\n",
    "      valid_acc = sum(accuracy(model(xb),yb) for xb,yb in val_loader)/len(val_loader)\n",
    "      acc_trend.append(valid_acc)\n",
    "    print(epoch, valid_loss, valid_acc)\n",
    "\n",
    "print(loss_func(model(xb), yb))\n",
    "fit()\n",
    "print(loss_func(model(xb), yb))"
   ]
  },
  {
   "cell_type": "markdown",
   "metadata": {
    "id": "DcvIiTULTLO2"
   },
   "source": [
    "The trend shows us that the accuracy improve very quickly at the start, and starts to slow down after 10 epochs. Subsequently, more additions only increase the accuracy by marginal amounts."
   ]
  },
  {
   "cell_type": "code",
   "execution_count": null,
   "metadata": {
    "id": "pFiMuVUfW3l-"
   },
   "outputs": [],
   "source": [
    "plt.figure(figsize=(10,8))\n",
    "plt.plot(acc_trend, '-x')\n",
    "plt.xlabel('epoch')\n",
    "plt.ylabel('accuracy')\n",
    "plt.title('Accuracy vs. No. of epochs')"
   ]
  },
  {
   "cell_type": "markdown",
   "metadata": {
    "id": "qJafQ0OIwfQL"
   },
   "source": [
    "### Running our model predictions"
   ]
  },
  {
   "cell_type": "markdown",
   "metadata": {
    "id": "1dJ9oSBIyzXg"
   },
   "source": [
    "After fitting our model, we are ready to get the predictions. First we prepare our X_test by converting it into a tensor and then running it through the model to get the predictions. \n"
   ]
  },
  {
   "cell_type": "code",
   "execution_count": null,
   "metadata": {
    "id": "30BzsIZmyUqR"
   },
   "outputs": [],
   "source": [
    "X_test_sc = torch.tensor(X_test_sc).float()"
   ]
  },
  {
   "cell_type": "code",
   "execution_count": null,
   "metadata": {
    "id": "-eEdKhMPwmYK"
   },
   "outputs": [],
   "source": [
    "predicts = model(X_test_sc)\n",
    "Y_pred = torch.argmax(predicts, dim=1)\n",
    "Y_pred"
   ]
  },
  {
   "cell_type": "code",
   "execution_count": null,
   "metadata": {
    "id": "vJU5t4U3zg0y"
   },
   "outputs": [],
   "source": [
    "Y_pred = pd.Series(Y_pred)\n",
    "Y_pred.head(10)"
   ]
  },
  {
   "cell_type": "markdown",
   "metadata": {
    "id": "1So1ABJm0cLU"
   },
   "source": [
    "We have finished generating our predictions. We can now get ready for submission."
   ]
  },
  {
   "cell_type": "code",
   "execution_count": null,
   "metadata": {
    "id": "CP7u7unX0Pny"
   },
   "outputs": [],
   "source": [
    "pred_Id = X_test['id']\n",
    "submit = pd.DataFrame(data=pred_Id, columns=['id'])\n",
    "submit['status_group'] = Y_pred\n",
    "submit.head()"
   ]
  },
  {
   "cell_type": "code",
   "execution_count": null,
   "metadata": {
    "id": "SIY-GKP61ZN_"
   },
   "outputs": [],
   "source": [
    "vals_to_replace = {0:'functional', 1:'functional needs repair',\n",
    "                   2:'non functional'}\n",
    "\n",
    "submit.status_group = submit.status_group.replace(vals_to_replace)\n",
    "submit.head()"
   ]
  },
  {
   "cell_type": "code",
   "execution_count": null,
   "metadata": {
    "id": "zZpXcNSn1h42"
   },
   "outputs": [],
   "source": [
    "submit.to_csv('ann_predictions.csv', index=False)"
   ]
  },
  {
   "cell_type": "markdown",
   "metadata": {
    "id": "qRv7WEqfHLHW"
   },
   "source": [
    "In our submission with the first artificial neural network, we attained a score of **0.7687** using the 80 epochs and learning rate 0.01. We will next attempt to put the model through hyperparameter tuning using Ax to try and improve our model."
   ]
  },
  {
   "cell_type": "markdown",
   "metadata": {
    "id": "lCGZEbDGvenp"
   },
   "source": [
    "### Hyperparameter Tuning with Ax"
   ]
  },
  {
   "cell_type": "markdown",
   "metadata": {
    "id": "8cePWQbsvs8Z"
   },
   "source": [
    "Our first artificial neural network model has been completed. We now try to tune our hyperparameters using the Adaptive Experimentation Platform. "
   ]
  },
  {
   "cell_type": "code",
   "execution_count": null,
   "metadata": {
    "id": "5pZBgaZhvkzB"
   },
   "outputs": [],
   "source": [
    "# !pip install ax-platform"
   ]
  },
  {
   "cell_type": "code",
   "execution_count": null,
   "metadata": {
    "id": "bxTqj51ev4Ra"
   },
   "outputs": [],
   "source": [
    "from ax.plot.contour import plot_contour\n",
    "from ax.plot.trace import optimization_trace_single_method\n",
    "from ax import optimize\n",
    "from ax.utils.notebook.plotting import render, init_notebook_plotting"
   ]
  },
  {
   "cell_type": "markdown",
   "metadata": {
    "id": "gmKaNFBBIyMr"
   },
   "source": [
    "The first code segment below describes how the model will be trained. In this case, the learning rate, momentum and number of epochs are set to be tuned later."
   ]
  },
  {
   "cell_type": "code",
   "execution_count": null,
   "metadata": {
    "id": "i-eLDeBIwmq3"
   },
   "outputs": [],
   "source": [
    "def train(net, parameterization, trainloader):\n",
    "  optimizer = optim.SGD(net.parameters(), lr=parameterization[\"lr\"], momentum=parameterization[\"momentum\"])\n",
    "  criterion = nn.CrossEntropyLoss()\n",
    "\n",
    "  for epoch in range(parameterization[\"epochs\"]):\n",
    "    # model.train()\n",
    "    running_loss = 0.0\n",
    "    for i, data in enumerate(trainloader, 0):\n",
    "      # print(i)\n",
    "      inputs, labels = data\n",
    "      optimizer.zero_grad()\n",
    "      outputs = net(inputs)\n",
    "      loss = criterion(outputs,labels)\n",
    "\n",
    "      loss.backward()\n",
    "      optimizer.step() \n",
    "      # opt.zero_grad()\n",
    "\n",
    "      running_loss += loss.item()\n",
    "      if i%400 == 399:\n",
    "        print('[%d, %5d] loss: %.3f'%(epoch + 1, i + 1, running_loss / 2000))\n",
    "        running_loss = 0.0\n",
    "    # model.eval()\n",
    "  return net"
   ]
  },
  {
   "cell_type": "markdown",
   "metadata": {
    "id": "QnHnSWNTJAUq"
   },
   "source": [
    "After which, we create an evaluation function that will check the fitting with the validation set to determine the accuracy of the current fit."
   ]
  },
  {
   "cell_type": "code",
   "execution_count": null,
   "metadata": {
    "id": "gvZJFdnvxkqv"
   },
   "outputs": [],
   "source": [
    "def evaluate(net, testloader):\n",
    "  correct = 0\n",
    "  total = 0\n",
    "  with torch.no_grad():\n",
    "    for data in testloader:\n",
    "      xb, yb = data\n",
    "      outputs = net(xb)\n",
    "      _, predicted = torch.max(outputs.data, 1)\n",
    "      total += yb.size(0)\n",
    "      correct += (predicted==yb).sum().item()\n",
    "  print(\"Accuracy: %d%%\"%(100*correct/total))\n",
    "  return 100*correct/total"
   ]
  },
  {
   "cell_type": "code",
   "execution_count": null,
   "metadata": {
    "id": "K4F802Tey2gh"
   },
   "outputs": [],
   "source": [
    "def train_evaluate(parameterization):\n",
    "  net = Net()\n",
    "  net = train(net, parameterization, train_loader)\n",
    "  return evaluate(net, val_loader)"
   ]
  },
  {
   "cell_type": "markdown",
   "metadata": {
    "id": "aLptnzgXJODX"
   },
   "source": [
    "After completing the model, we set the hyperparameters as shown below. As we are not sure what learning rate to use, we set it from a low figure of 1e-6 to a high value of 0.4 to cover all possible use cases. \n",
    "For momentum, we set it to value of 0 to 1.\n",
    "As for the number of epochs, we set it to be a range of 20 to 50. As the accuracy seems to stabilize after 30, we do not want to overfit or underfit our model."
   ]
  },
  {
   "cell_type": "code",
   "execution_count": null,
   "metadata": {
    "id": "2wNU0KRFzYkQ"
   },
   "outputs": [],
   "source": [
    "best_parameters, values, experiment, model = optimize(\n",
    "    parameters=[\n",
    "                {\"name\": \"lr\", \"type\": \"range\", \"bounds\":[1e-6, 0.4],\"log_scale\":True},\n",
    "                {\"name\": \"momentum\", \"type\": \"range\", \"bounds\": [0.0,1.0]},\n",
    "                {\"name\": \"epochs\", \"type\": \"range\", \"bounds\": [20,50]},\n",
    "    ],\n",
    "    evaluation_function = train_evaluate,\n",
    "    objective_name = 'accuracy',\n",
    "    total_trials = 40\n",
    ")"
   ]
  },
  {
   "cell_type": "code",
   "execution_count": null,
   "metadata": {
    "id": "gfMJZaFUMCnS"
   },
   "outputs": [],
   "source": [
    "best_p = best_parameters\n",
    "best_p"
   ]
  },
  {
   "cell_type": "code",
   "execution_count": null,
   "metadata": {
    "id": "hsqQmbB0MKck"
   },
   "outputs": [],
   "source": [
    "values"
   ]
  },
  {
   "cell_type": "code",
   "execution_count": null,
   "metadata": {
    "id": "3-JYAwIeMPzn"
   },
   "outputs": [],
   "source": [
    "render(plot_contour(model=model, param_x='lr', param_y='momentum', metric_name='accuracy'))"
   ]
  },
  {
   "cell_type": "code",
   "execution_count": null,
   "metadata": {
    "id": "Zv2KM4yDMrQY"
   },
   "outputs": [],
   "source": [
    "best_objectives = np.array([[trial.objective_mean*100 for trial in experiment.trials.values()]])\n",
    "best_objective_plot = optimization_trace_single_method(\n",
    "    y=np.maximum.accumulate(best_objectives, axis=1),\n",
    "    title=\"Model performance vs. # of iterations\",\n",
    "    ylabel=\"Classification Accuracy, %\",\n",
    ")\n",
    "render(best_objective_plot)"
   ]
  },
  {
   "cell_type": "markdown",
   "metadata": {
    "id": "GRpamtaANFzx"
   },
   "source": [
    "###Model Fitting\n",
    "\n",
    "Now we will prepare to fit a new model using the tuned hyperparameters found above.\n",
    "\n"
   ]
  },
  {
   "cell_type": "code",
   "execution_count": null,
   "metadata": {
    "id": "GYJUaOl4NjZ0"
   },
   "outputs": [],
   "source": [
    "lr = best_p['lr']\n",
    "momentum = best_p['momentum']\n",
    "\n",
    "def get_model():\n",
    "  model = Net()\n",
    "  return model, optim.SGD(model.parameters(), lr=lr, momentum=momentum)"
   ]
  },
  {
   "cell_type": "code",
   "execution_count": null,
   "metadata": {
    "id": "HgGJGCwxNGTI"
   },
   "outputs": [],
   "source": [
    "model, opt = get_model()\n",
    "acc_trend = []\n",
    "\n",
    "def fit():\n",
    "  for epoch in range(best_p['epochs']):\n",
    "    model.train()\n",
    "    for xb, yb in train_loader:\n",
    "      pred = model(xb)\n",
    "      loss = loss_func(pred,yb)\n",
    "\n",
    "      loss.backward()\n",
    "      opt.step() \n",
    "      opt.zero_grad()\n",
    "\n",
    "    model.eval()\n",
    "    with torch.no_grad():\n",
    "      valid_loss = sum(loss_func(model(xb), yb) for xb,yb in val_loader)/len(val_loader)\n",
    "      valid_acc = sum(accuracy(model(xb),yb) for xb,yb in val_loader)/len(val_loader)\n",
    "      acc_trend.append(valid_acc)\n",
    "    print(epoch, valid_loss, valid_acc)\n",
    "\n",
    "print(loss_func(model(xb), yb))\n",
    "fit()\n",
    "print(loss_func(model(xb), yb))"
   ]
  },
  {
   "cell_type": "code",
   "execution_count": null,
   "metadata": {
    "id": "Kva-1G_NN0Kk"
   },
   "outputs": [],
   "source": [
    "predicts = model(X_test_sc)\n",
    "Y_pred = torch.argmax(predicts, dim=1)\n",
    "Y_pred"
   ]
  },
  {
   "cell_type": "code",
   "execution_count": null,
   "metadata": {
    "id": "dMPl5WibOn1w"
   },
   "outputs": [],
   "source": [
    "Y_pred = pd.Series(Y_pred)\n",
    "Y_pred.head(10)"
   ]
  },
  {
   "cell_type": "code",
   "execution_count": null,
   "metadata": {
    "id": "GJIdN-kUO881"
   },
   "outputs": [],
   "source": [
    "pred_Id = X_test['id']\n",
    "submit = pd.DataFrame(data=pred_Id, columns=['id'])\n",
    "submit['status_group'] = Y_pred\n",
    "submit.head()"
   ]
  },
  {
   "cell_type": "code",
   "execution_count": null,
   "metadata": {
    "id": "QcmKvgrZPCLQ"
   },
   "outputs": [],
   "source": [
    "vals_to_replace = {0:'functional', 1:'functional needs repair',\n",
    "                   2:'non functional'}\n",
    "\n",
    "submit.status_group = submit.status_group.replace(vals_to_replace)\n",
    "submit.head()"
   ]
  },
  {
   "cell_type": "code",
   "execution_count": null,
   "metadata": {
    "id": "eL5mOZlwPLmj"
   },
   "outputs": [],
   "source": [
    "submit.to_csv('ann_tuned__predictions.csv', index=False)"
   ]
  },
  {
   "cell_type": "markdown",
   "metadata": {
    "id": "I2-iLVG8Piv6"
   },
   "source": [
    "The finalised model has the following parameters:\n",
    "*   Input layer of 89 features, scaled\n",
    "*   2 Hidden layers (89 x 30) and (30 x 20) computed using reLu\n",
    "*   1 output layer computed using softmax\n",
    "*   Batch size: 100\n",
    "*   No. Epochs: 44\n",
    "*   Learning rate: 0.036359772988197446\n",
    "*   Momentum: 0.8476386666297913\n",
    "*   Loss function: Cross Entropy loss\n",
    "\n",
    "Submitting our model into the competition page, we got a score of **0.7756**. "
   ]
  },
  {
   "cell_type": "markdown",
   "metadata": {
    "id": "pmnCUodhREBl"
   },
   "source": []
  }
 ],
 "metadata": {
  "colab": {
   "collapsed_sections": [],
   "name": "IS4242 Project WatrPt Part 1.ipynb",
   "provenance": [],
   "toc_visible": true
  },
  "kernelspec": {
   "display_name": "Python 3",
   "language": "python",
   "name": "python3"
  },
  "language_info": {
   "codemirror_mode": {
    "name": "ipython",
    "version": 3
   },
   "file_extension": ".py",
   "mimetype": "text/x-python",
   "name": "python",
   "nbconvert_exporter": "python",
   "pygments_lexer": "ipython3",
   "version": "3.8.3"
  }
 },
 "nbformat": 4,
 "nbformat_minor": 1
}
